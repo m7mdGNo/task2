{
 "cells": [
  {
   "cell_type": "code",
   "execution_count": 90,
   "metadata": {
    "execution": {
     "iopub.execute_input": "2022-07-29T16:37:03.406811Z",
     "iopub.status.busy": "2022-07-29T16:37:03.406243Z",
     "iopub.status.idle": "2022-07-29T16:37:03.419199Z",
     "shell.execute_reply": "2022-07-29T16:37:03.418270Z",
     "shell.execute_reply.started": "2022-07-29T16:37:03.406762Z"
    }
   },
   "outputs": [],
   "source": [
    "import numpy as np # linear algebra -for numeric computations\n",
    "import pandas as pd # data processing -to store data as dataframes \n",
    "import matplotlib.pyplot as plt # data visualization \n",
    "%matplotlib inline\n",
    "import seaborn as sns # data visualization \n",
    "\n",
    "from sklearn.linear_model import LogisticRegression\n",
    "from sklearn.model_selection import train_test_split\n",
    "from sklearn.model_selection import cross_val_score\n",
    "from sklearn.model_selection import RepeatedStratifiedKFold\n",
    "from sklearn.preprocessing import StandardScaler\n",
    "from sklearn.decomposition import IncrementalPCA\n",
    "from sklearn.model_selection import GridSearchCV\n",
    "from sklearn import metrics"
   ]
  },
  {
   "cell_type": "code",
   "execution_count": 91,
   "metadata": {
    "execution": {
     "iopub.execute_input": "2022-07-29T16:37:03.784557Z",
     "iopub.status.busy": "2022-07-29T16:37:03.783907Z",
     "iopub.status.idle": "2022-07-29T16:37:05.792062Z",
     "shell.execute_reply": "2022-07-29T16:37:05.791252Z",
     "shell.execute_reply.started": "2022-07-29T16:37:03.784521Z"
    }
   },
   "outputs": [
    {
     "data": {
      "text/html": [
       "<div>\n",
       "<style scoped>\n",
       "    .dataframe tbody tr th:only-of-type {\n",
       "        vertical-align: middle;\n",
       "    }\n",
       "\n",
       "    .dataframe tbody tr th {\n",
       "        vertical-align: top;\n",
       "    }\n",
       "\n",
       "    .dataframe thead th {\n",
       "        text-align: right;\n",
       "    }\n",
       "</style>\n",
       "<table border=\"1\" class=\"dataframe\">\n",
       "  <thead>\n",
       "    <tr style=\"text-align: right;\">\n",
       "      <th></th>\n",
       "      <th>ListingKey</th>\n",
       "      <th>ListingNumber</th>\n",
       "      <th>ListingCreationDate</th>\n",
       "      <th>CreditGrade</th>\n",
       "      <th>Term</th>\n",
       "      <th>LoanStatus</th>\n",
       "      <th>ClosedDate</th>\n",
       "      <th>BorrowerAPR</th>\n",
       "      <th>BorrowerRate</th>\n",
       "      <th>LenderYield</th>\n",
       "      <th>...</th>\n",
       "      <th>LP_ServiceFees</th>\n",
       "      <th>LP_CollectionFees</th>\n",
       "      <th>LP_GrossPrincipalLoss</th>\n",
       "      <th>LP_NetPrincipalLoss</th>\n",
       "      <th>LP_NonPrincipalRecoverypayments</th>\n",
       "      <th>PercentFunded</th>\n",
       "      <th>Recommendations</th>\n",
       "      <th>InvestmentFromFriendsCount</th>\n",
       "      <th>InvestmentFromFriendsAmount</th>\n",
       "      <th>Investors</th>\n",
       "    </tr>\n",
       "  </thead>\n",
       "  <tbody>\n",
       "    <tr>\n",
       "      <th>0</th>\n",
       "      <td>1021339766868145413AB3B</td>\n",
       "      <td>193129</td>\n",
       "      <td>2007-08-26 19:09:29.263000000</td>\n",
       "      <td>C</td>\n",
       "      <td>36</td>\n",
       "      <td>Completed</td>\n",
       "      <td>2009-08-14 00:00:00</td>\n",
       "      <td>0.16516</td>\n",
       "      <td>0.1580</td>\n",
       "      <td>0.1380</td>\n",
       "      <td>...</td>\n",
       "      <td>-133.18</td>\n",
       "      <td>0.0</td>\n",
       "      <td>0.0</td>\n",
       "      <td>0.0</td>\n",
       "      <td>0.0</td>\n",
       "      <td>1.0</td>\n",
       "      <td>0</td>\n",
       "      <td>0</td>\n",
       "      <td>0.0</td>\n",
       "      <td>258</td>\n",
       "    </tr>\n",
       "    <tr>\n",
       "      <th>1</th>\n",
       "      <td>10273602499503308B223C1</td>\n",
       "      <td>1209647</td>\n",
       "      <td>2014-02-27 08:28:07.900000000</td>\n",
       "      <td>NaN</td>\n",
       "      <td>36</td>\n",
       "      <td>Current</td>\n",
       "      <td>NaN</td>\n",
       "      <td>0.12016</td>\n",
       "      <td>0.0920</td>\n",
       "      <td>0.0820</td>\n",
       "      <td>...</td>\n",
       "      <td>0.00</td>\n",
       "      <td>0.0</td>\n",
       "      <td>0.0</td>\n",
       "      <td>0.0</td>\n",
       "      <td>0.0</td>\n",
       "      <td>1.0</td>\n",
       "      <td>0</td>\n",
       "      <td>0</td>\n",
       "      <td>0.0</td>\n",
       "      <td>1</td>\n",
       "    </tr>\n",
       "    <tr>\n",
       "      <th>2</th>\n",
       "      <td>0EE9337825851032864889A</td>\n",
       "      <td>81716</td>\n",
       "      <td>2007-01-05 15:00:47.090000000</td>\n",
       "      <td>HR</td>\n",
       "      <td>36</td>\n",
       "      <td>Completed</td>\n",
       "      <td>2009-12-17 00:00:00</td>\n",
       "      <td>0.28269</td>\n",
       "      <td>0.2750</td>\n",
       "      <td>0.2400</td>\n",
       "      <td>...</td>\n",
       "      <td>-24.20</td>\n",
       "      <td>0.0</td>\n",
       "      <td>0.0</td>\n",
       "      <td>0.0</td>\n",
       "      <td>0.0</td>\n",
       "      <td>1.0</td>\n",
       "      <td>0</td>\n",
       "      <td>0</td>\n",
       "      <td>0.0</td>\n",
       "      <td>41</td>\n",
       "    </tr>\n",
       "    <tr>\n",
       "      <th>3</th>\n",
       "      <td>0EF5356002482715299901A</td>\n",
       "      <td>658116</td>\n",
       "      <td>2012-10-22 11:02:35.010000000</td>\n",
       "      <td>NaN</td>\n",
       "      <td>36</td>\n",
       "      <td>Current</td>\n",
       "      <td>NaN</td>\n",
       "      <td>0.12528</td>\n",
       "      <td>0.0974</td>\n",
       "      <td>0.0874</td>\n",
       "      <td>...</td>\n",
       "      <td>-108.01</td>\n",
       "      <td>0.0</td>\n",
       "      <td>0.0</td>\n",
       "      <td>0.0</td>\n",
       "      <td>0.0</td>\n",
       "      <td>1.0</td>\n",
       "      <td>0</td>\n",
       "      <td>0</td>\n",
       "      <td>0.0</td>\n",
       "      <td>158</td>\n",
       "    </tr>\n",
       "    <tr>\n",
       "      <th>4</th>\n",
       "      <td>0F023589499656230C5E3E2</td>\n",
       "      <td>909464</td>\n",
       "      <td>2013-09-14 18:38:39.097000000</td>\n",
       "      <td>NaN</td>\n",
       "      <td>36</td>\n",
       "      <td>Current</td>\n",
       "      <td>NaN</td>\n",
       "      <td>0.24614</td>\n",
       "      <td>0.2085</td>\n",
       "      <td>0.1985</td>\n",
       "      <td>...</td>\n",
       "      <td>-60.27</td>\n",
       "      <td>0.0</td>\n",
       "      <td>0.0</td>\n",
       "      <td>0.0</td>\n",
       "      <td>0.0</td>\n",
       "      <td>1.0</td>\n",
       "      <td>0</td>\n",
       "      <td>0</td>\n",
       "      <td>0.0</td>\n",
       "      <td>20</td>\n",
       "    </tr>\n",
       "    <tr>\n",
       "      <th>5</th>\n",
       "      <td>0F05359734824199381F61D</td>\n",
       "      <td>1074836</td>\n",
       "      <td>2013-12-14 08:26:37.093000000</td>\n",
       "      <td>NaN</td>\n",
       "      <td>60</td>\n",
       "      <td>Current</td>\n",
       "      <td>NaN</td>\n",
       "      <td>0.15425</td>\n",
       "      <td>0.1314</td>\n",
       "      <td>0.1214</td>\n",
       "      <td>...</td>\n",
       "      <td>-25.33</td>\n",
       "      <td>0.0</td>\n",
       "      <td>0.0</td>\n",
       "      <td>0.0</td>\n",
       "      <td>0.0</td>\n",
       "      <td>1.0</td>\n",
       "      <td>0</td>\n",
       "      <td>0</td>\n",
       "      <td>0.0</td>\n",
       "      <td>1</td>\n",
       "    </tr>\n",
       "    <tr>\n",
       "      <th>6</th>\n",
       "      <td>0F0A3576754255009D63151</td>\n",
       "      <td>750899</td>\n",
       "      <td>2013-04-12 09:52:56.147000000</td>\n",
       "      <td>NaN</td>\n",
       "      <td>36</td>\n",
       "      <td>Current</td>\n",
       "      <td>NaN</td>\n",
       "      <td>0.31032</td>\n",
       "      <td>0.2712</td>\n",
       "      <td>0.2612</td>\n",
       "      <td>...</td>\n",
       "      <td>-22.95</td>\n",
       "      <td>0.0</td>\n",
       "      <td>0.0</td>\n",
       "      <td>0.0</td>\n",
       "      <td>0.0</td>\n",
       "      <td>1.0</td>\n",
       "      <td>0</td>\n",
       "      <td>0</td>\n",
       "      <td>0.0</td>\n",
       "      <td>1</td>\n",
       "    </tr>\n",
       "  </tbody>\n",
       "</table>\n",
       "<p>7 rows × 81 columns</p>\n",
       "</div>"
      ],
      "text/plain": [
       "                ListingKey  ListingNumber            ListingCreationDate  \\\n",
       "0  1021339766868145413AB3B         193129  2007-08-26 19:09:29.263000000   \n",
       "1  10273602499503308B223C1        1209647  2014-02-27 08:28:07.900000000   \n",
       "2  0EE9337825851032864889A          81716  2007-01-05 15:00:47.090000000   \n",
       "3  0EF5356002482715299901A         658116  2012-10-22 11:02:35.010000000   \n",
       "4  0F023589499656230C5E3E2         909464  2013-09-14 18:38:39.097000000   \n",
       "5  0F05359734824199381F61D        1074836  2013-12-14 08:26:37.093000000   \n",
       "6  0F0A3576754255009D63151         750899  2013-04-12 09:52:56.147000000   \n",
       "\n",
       "  CreditGrade  Term LoanStatus           ClosedDate  BorrowerAPR  \\\n",
       "0           C    36  Completed  2009-08-14 00:00:00      0.16516   \n",
       "1         NaN    36    Current                  NaN      0.12016   \n",
       "2          HR    36  Completed  2009-12-17 00:00:00      0.28269   \n",
       "3         NaN    36    Current                  NaN      0.12528   \n",
       "4         NaN    36    Current                  NaN      0.24614   \n",
       "5         NaN    60    Current                  NaN      0.15425   \n",
       "6         NaN    36    Current                  NaN      0.31032   \n",
       "\n",
       "   BorrowerRate  LenderYield  ...  LP_ServiceFees  LP_CollectionFees  \\\n",
       "0        0.1580       0.1380  ...         -133.18                0.0   \n",
       "1        0.0920       0.0820  ...            0.00                0.0   \n",
       "2        0.2750       0.2400  ...          -24.20                0.0   \n",
       "3        0.0974       0.0874  ...         -108.01                0.0   \n",
       "4        0.2085       0.1985  ...          -60.27                0.0   \n",
       "5        0.1314       0.1214  ...          -25.33                0.0   \n",
       "6        0.2712       0.2612  ...          -22.95                0.0   \n",
       "\n",
       "   LP_GrossPrincipalLoss  LP_NetPrincipalLoss LP_NonPrincipalRecoverypayments  \\\n",
       "0                    0.0                  0.0                             0.0   \n",
       "1                    0.0                  0.0                             0.0   \n",
       "2                    0.0                  0.0                             0.0   \n",
       "3                    0.0                  0.0                             0.0   \n",
       "4                    0.0                  0.0                             0.0   \n",
       "5                    0.0                  0.0                             0.0   \n",
       "6                    0.0                  0.0                             0.0   \n",
       "\n",
       "   PercentFunded  Recommendations InvestmentFromFriendsCount  \\\n",
       "0            1.0                0                          0   \n",
       "1            1.0                0                          0   \n",
       "2            1.0                0                          0   \n",
       "3            1.0                0                          0   \n",
       "4            1.0                0                          0   \n",
       "5            1.0                0                          0   \n",
       "6            1.0                0                          0   \n",
       "\n",
       "  InvestmentFromFriendsAmount Investors  \n",
       "0                         0.0       258  \n",
       "1                         0.0         1  \n",
       "2                         0.0        41  \n",
       "3                         0.0       158  \n",
       "4                         0.0        20  \n",
       "5                         0.0         1  \n",
       "6                         0.0         1  \n",
       "\n",
       "[7 rows x 81 columns]"
      ]
     },
     "execution_count": 91,
     "metadata": {},
     "output_type": "execute_result"
    }
   ],
   "source": [
    "data = pd.read_csv('prosperLoanData.csv')\n",
    "data.head(7)"
   ]
  },
  {
   "cell_type": "code",
   "execution_count": 92,
   "metadata": {
    "execution": {
     "iopub.execute_input": "2022-07-29T16:37:05.794134Z",
     "iopub.status.busy": "2022-07-29T16:37:05.793663Z",
     "iopub.status.idle": "2022-07-29T16:37:06.068802Z",
     "shell.execute_reply": "2022-07-29T16:37:06.067695Z",
     "shell.execute_reply.started": "2022-07-29T16:37:05.794103Z"
    }
   },
   "outputs": [],
   "source": [
    "# parsing Dates\n",
    "data['ListingCreationDate'] = pd.to_datetime(data['ListingCreationDate'])\n",
    "data['ClosedDate'] = pd.to_datetime(data['ClosedDate'])\n",
    "data['DateCreditPulled'] = pd.to_datetime(data['DateCreditPulled'])\n",
    "data['FirstRecordedCreditLine'] = pd.to_datetime(data['FirstRecordedCreditLine'])\n",
    "data['LoanOriginationDate'] = pd.to_datetime(data['LoanOriginationDate'])\n"
   ]
  },
  {
   "cell_type": "code",
   "execution_count": 93,
   "metadata": {
    "execution": {
     "iopub.execute_input": "2022-07-29T16:37:06.070393Z",
     "iopub.status.busy": "2022-07-29T16:37:06.070057Z",
     "iopub.status.idle": "2022-07-29T16:37:06.265311Z",
     "shell.execute_reply": "2022-07-29T16:37:06.263898Z",
     "shell.execute_reply.started": "2022-07-29T16:37:06.070362Z"
    }
   },
   "outputs": [
    {
     "data": {
      "text/plain": [
       "(113937, 71)"
      ]
     },
     "execution_count": 93,
     "metadata": {},
     "output_type": "execute_result"
    }
   ],
   "source": [
    "#  removing any feature with more than 75% of missing values.\n",
    "data_with_less_missing_values = data.dropna(thresh=data.shape[0] * 0.25, axis=1)\n",
    "data_with_less_missing_values.shape"
   ]
  },
  {
   "cell_type": "code",
   "execution_count": 94,
   "metadata": {
    "execution": {
     "iopub.execute_input": "2022-07-29T16:37:06.269275Z",
     "iopub.status.busy": "2022-07-29T16:37:06.268162Z",
     "iopub.status.idle": "2022-07-29T16:37:06.491057Z",
     "shell.execute_reply": "2022-07-29T16:37:06.489711Z",
     "shell.execute_reply.started": "2022-07-29T16:37:06.269239Z"
    }
   },
   "outputs": [
    {
     "data": {
      "text/plain": [
       "(103360, 71)"
      ]
     },
     "execution_count": 94,
     "metadata": {},
     "output_type": "execute_result"
    }
   ],
   "source": [
    "# removing loan samples with have more than 20% of missing values\n",
    "data_with_less_missing_values = data_with_less_missing_values.dropna(thresh=data.shape[1] * 0.80, axis=0).reset_index(drop=True)\n",
    "data_with_less_missing_values.shape"
   ]
  },
  {
   "cell_type": "code",
   "execution_count": 95,
   "metadata": {
    "execution": {
     "iopub.execute_input": "2022-07-29T16:37:06.493736Z",
     "iopub.status.busy": "2022-07-29T16:37:06.493245Z",
     "iopub.status.idle": "2022-07-29T16:37:06.536186Z",
     "shell.execute_reply": "2022-07-29T16:37:06.534794Z",
     "shell.execute_reply.started": "2022-07-29T16:37:06.493698Z"
    }
   },
   "outputs": [],
   "source": [
    "cat_cols = [name for name in data_with_less_missing_values \n",
    "                        if data_with_less_missing_values[name].dtype in [\"object\", \"bool\" ]]\n",
    "numerical_cols = [name for name in data_with_less_missing_values.columns\n",
    "                      if data_with_less_missing_values[name].dtype in ['int64', 'float64', 'datetime64[ns]']]\n",
    "cat_data = data_with_less_missing_values.drop(axis=1, columns=numerical_cols)\n",
    "num_data = data_with_less_missing_values.drop(axis=1, columns=cat_cols)\n"
   ]
  },
  {
   "cell_type": "code",
   "execution_count": 96,
   "metadata": {
    "execution": {
     "iopub.execute_input": "2022-07-29T16:37:06.538912Z",
     "iopub.status.busy": "2022-07-29T16:37:06.538141Z",
     "iopub.status.idle": "2022-07-29T16:37:06.578359Z",
     "shell.execute_reply": "2022-07-29T16:37:06.577074Z",
     "shell.execute_reply.started": "2022-07-29T16:37:06.538861Z"
    }
   },
   "outputs": [],
   "source": [
    "cat_data.Occupation = cat_data.Occupation.fillna(cat_data.Occupation.mode().iloc[0])"
   ]
  },
  {
   "cell_type": "code",
   "execution_count": 97,
   "metadata": {
    "execution": {
     "iopub.execute_input": "2022-07-29T16:37:06.581264Z",
     "iopub.status.busy": "2022-07-29T16:37:06.580836Z",
     "iopub.status.idle": "2022-07-29T16:37:06.609026Z",
     "shell.execute_reply": "2022-07-29T16:37:06.607764Z",
     "shell.execute_reply.started": "2022-07-29T16:37:06.581220Z"
    }
   },
   "outputs": [],
   "source": [
    "cat_data = cat_data.drop(axis=1, columns=['ProsperRating (Alpha)'])"
   ]
  },
  {
   "cell_type": "code",
   "execution_count": 98,
   "metadata": {
    "execution": {
     "iopub.execute_input": "2022-07-29T16:37:06.611213Z",
     "iopub.status.busy": "2022-07-29T16:37:06.610755Z",
     "iopub.status.idle": "2022-07-29T16:37:06.686279Z",
     "shell.execute_reply": "2022-07-29T16:37:06.684775Z",
     "shell.execute_reply.started": "2022-07-29T16:37:06.611169Z"
    }
   },
   "outputs": [],
   "source": [
    "\n",
    "# all missing values in the CreditGrade column represents the rating value 0\n",
    "# fill in nan values with letter Z and then use OrdinalEncoder to convert it to numerical values\n",
    "cat_data.CreditGrade = cat_data.CreditGrade.fillna(\"Z\")\n",
    "from sklearn.preprocessing import OrdinalEncoder\n",
    "ratings = ['Z', 'HR', 'E', 'D', 'C', 'B', 'A', 'AA']\n",
    "encoder = OrdinalEncoder(categories = [ratings])\n",
    "cat_data[['CreditGrade']] = encoder.fit_transform(cat_data[['CreditGrade']])\n",
    "cat_data.CreditGrade = cat_data.CreditGrade.astype(int)"
   ]
  },
  {
   "cell_type": "code",
   "execution_count": 99,
   "metadata": {
    "execution": {
     "iopub.execute_input": "2022-07-29T16:37:06.691216Z",
     "iopub.status.busy": "2022-07-29T16:37:06.690697Z",
     "iopub.status.idle": "2022-07-29T16:37:06.848722Z",
     "shell.execute_reply": "2022-07-29T16:37:06.847210Z",
     "shell.execute_reply.started": "2022-07-29T16:37:06.691168Z"
    }
   },
   "outputs": [
    {
     "name": "stdout",
     "output_type": "stream",
     "text": [
      "ListingKey : 113066\n",
      "CreditGrade : 9\n",
      "LoanStatus : 12\n",
      "BorrowerState : 52\n",
      "Occupation : 68\n",
      "EmploymentStatus : 9\n",
      "IsBorrowerHomeowner : 2\n",
      "CurrentlyInGroup : 2\n",
      "IncomeRange : 8\n",
      "IncomeVerifiable : 2\n",
      "LoanKey : 113066\n",
      "LoanOriginationQuarter : 33\n",
      "MemberKey : 90831\n"
     ]
    }
   ],
   "source": [
    "for column in cat_data.columns:\n",
    "    print(f'{column} : {len(data[column].unique())}')"
   ]
  },
  {
   "cell_type": "code",
   "execution_count": 100,
   "metadata": {
    "execution": {
     "iopub.execute_input": "2022-07-29T16:37:06.851353Z",
     "iopub.status.busy": "2022-07-29T16:37:06.850892Z",
     "iopub.status.idle": "2022-07-29T16:37:06.867250Z",
     "shell.execute_reply": "2022-07-29T16:37:06.865756Z",
     "shell.execute_reply.started": "2022-07-29T16:37:06.851308Z"
    }
   },
   "outputs": [],
   "source": [
    "cat_data = cat_data.drop(columns=['LoanKey','MemberKey','ListingKey'],axis=1)"
   ]
  },
  {
   "cell_type": "code",
   "execution_count": 101,
   "metadata": {
    "execution": {
     "iopub.execute_input": "2022-07-29T16:37:06.974743Z",
     "iopub.status.busy": "2022-07-29T16:37:06.973564Z",
     "iopub.status.idle": "2022-07-29T16:37:07.065419Z",
     "shell.execute_reply": "2022-07-29T16:37:07.063930Z",
     "shell.execute_reply.started": "2022-07-29T16:37:06.974701Z"
    }
   },
   "outputs": [
    {
     "name": "stdout",
     "output_type": "stream",
     "text": [
      "CreditGrade : 9\n",
      "LoanStatus : 12\n",
      "BorrowerState : 52\n",
      "Occupation : 68\n",
      "EmploymentStatus : 9\n",
      "IsBorrowerHomeowner : 2\n",
      "CurrentlyInGroup : 2\n",
      "IncomeRange : 8\n",
      "IncomeVerifiable : 2\n",
      "LoanOriginationQuarter : 33\n"
     ]
    }
   ],
   "source": [
    "for column in cat_data.columns:\n",
    "    print(f'{column} : {len(data[column].unique())}')"
   ]
  },
  {
   "cell_type": "code",
   "execution_count": 102,
   "metadata": {
    "execution": {
     "iopub.execute_input": "2022-07-29T16:37:07.266950Z",
     "iopub.status.busy": "2022-07-29T16:37:07.266487Z",
     "iopub.status.idle": "2022-07-29T16:37:07.346128Z",
     "shell.execute_reply": "2022-07-29T16:37:07.344437Z",
     "shell.execute_reply.started": "2022-07-29T16:37:07.266917Z"
    }
   },
   "outputs": [
    {
     "data": {
      "text/plain": [
       "CreditGrade               0\n",
       "LoanStatus                0\n",
       "BorrowerState             0\n",
       "Occupation                0\n",
       "EmploymentStatus          0\n",
       "IsBorrowerHomeowner       0\n",
       "CurrentlyInGroup          0\n",
       "IncomeRange               0\n",
       "IncomeVerifiable          0\n",
       "LoanOriginationQuarter    0\n",
       "dtype: int64"
      ]
     },
     "execution_count": 102,
     "metadata": {},
     "output_type": "execute_result"
    }
   ],
   "source": [
    "cat_data.isna().sum()"
   ]
  },
  {
   "cell_type": "code",
   "execution_count": 103,
   "metadata": {
    "execution": {
     "iopub.execute_input": "2022-07-29T16:37:07.561177Z",
     "iopub.status.busy": "2022-07-29T16:37:07.560345Z",
     "iopub.status.idle": "2022-07-29T16:37:07.587630Z",
     "shell.execute_reply": "2022-07-29T16:37:07.586688Z",
     "shell.execute_reply.started": "2022-07-29T16:37:07.561114Z"
    }
   },
   "outputs": [
    {
     "data": {
      "text/plain": [
       "ListingNumber                             0\n",
       "ListingCreationDate                       0\n",
       "Term                                      0\n",
       "ClosedDate                            58848\n",
       "BorrowerAPR                               0\n",
       "BorrowerRate                              0\n",
       "LenderYield                               0\n",
       "EstimatedEffectiveYield               18507\n",
       "EstimatedLoss                         18507\n",
       "EstimatedReturn                       18507\n",
       "ProsperRating (numeric)               18507\n",
       "ProsperScore                          18507\n",
       "ListingCategory (numeric)                 0\n",
       "EmploymentStatusDuration                 19\n",
       "DateCreditPulled                          0\n",
       "CreditScoreRangeLower                     0\n",
       "CreditScoreRangeUpper                     0\n",
       "FirstRecordedCreditLine                   0\n",
       "CurrentCreditLines                        0\n",
       "OpenCreditLines                           0\n",
       "TotalCreditLinespast7years                0\n",
       "OpenRevolvingAccounts                     0\n",
       "OpenRevolvingMonthlyPayment               0\n",
       "InquiriesLast6Months                      0\n",
       "TotalInquiries                            0\n",
       "CurrentDelinquencies                      0\n",
       "AmountDelinquent                          0\n",
       "DelinquenciesLast7Years                   0\n",
       "PublicRecordsLast10Years                  0\n",
       "PublicRecordsLast12Months                 0\n",
       "RevolvingCreditBalance                    0\n",
       "BankcardUtilization                       0\n",
       "AvailableBankcardCredit                   0\n",
       "TotalTrades                               0\n",
       "TradesNeverDelinquent (percentage)        0\n",
       "TradesOpenedLast6Months                   0\n",
       "DebtToIncomeRatio                      7296\n",
       "StatedMonthlyIncome                       0\n",
       "LoanCurrentDaysDelinquent                 0\n",
       "LoanMonthsSinceOrigination                0\n",
       "LoanNumber                                0\n",
       "LoanOriginalAmount                        0\n",
       "LoanOriginationDate                       0\n",
       "MonthlyLoanPayment                        0\n",
       "LP_CustomerPayments                       0\n",
       "LP_CustomerPrincipalPayments              0\n",
       "LP_InterestandFees                        0\n",
       "LP_ServiceFees                            0\n",
       "LP_CollectionFees                         0\n",
       "LP_GrossPrincipalLoss                     0\n",
       "LP_NetPrincipalLoss                       0\n",
       "LP_NonPrincipalRecoverypayments           0\n",
       "PercentFunded                             0\n",
       "Recommendations                           0\n",
       "InvestmentFromFriendsCount                0\n",
       "InvestmentFromFriendsAmount               0\n",
       "Investors                                 0\n",
       "dtype: int64"
      ]
     },
     "execution_count": 103,
     "metadata": {},
     "output_type": "execute_result"
    }
   ],
   "source": [
    "num_data.isna().sum()"
   ]
  },
  {
   "cell_type": "code",
   "execution_count": 104,
   "metadata": {
    "execution": {
     "iopub.execute_input": "2022-07-29T16:37:07.856211Z",
     "iopub.status.busy": "2022-07-29T16:37:07.855769Z",
     "iopub.status.idle": "2022-07-29T16:37:07.864477Z",
     "shell.execute_reply": "2022-07-29T16:37:07.863255Z",
     "shell.execute_reply.started": "2022-07-29T16:37:07.856179Z"
    }
   },
   "outputs": [],
   "source": [
    "num_data['DebtToIncomeRatio'].fillna(value=num_data['DebtToIncomeRatio'].mean(), inplace=True)"
   ]
  },
  {
   "cell_type": "code",
   "execution_count": 105,
   "metadata": {
    "execution": {
     "iopub.execute_input": "2022-07-29T16:37:08.151328Z",
     "iopub.status.busy": "2022-07-29T16:37:08.150885Z",
     "iopub.status.idle": "2022-07-29T16:37:08.165150Z",
     "shell.execute_reply": "2022-07-29T16:37:08.164286Z",
     "shell.execute_reply.started": "2022-07-29T16:37:08.151296Z"
    }
   },
   "outputs": [
    {
     "data": {
      "text/plain": [
       "<Figure size 3240x720 with 0 Axes>"
      ]
     },
     "metadata": {},
     "output_type": "display_data"
    }
   ],
   "source": [
    "plt.figure(figsize=(45,10))\n",
    "num_data.EmploymentStatusDuration = num_data.EmploymentStatusDuration.fillna(num_data.EmploymentStatusDuration.mode().iloc[0])"
   ]
  },
  {
   "cell_type": "code",
   "execution_count": 106,
   "metadata": {
    "execution": {
     "iopub.execute_input": "2022-07-29T16:37:08.448863Z",
     "iopub.status.busy": "2022-07-29T16:37:08.448078Z",
     "iopub.status.idle": "2022-07-29T16:37:08.830262Z",
     "shell.execute_reply": "2022-07-29T16:37:08.829028Z",
     "shell.execute_reply.started": "2022-07-29T16:37:08.448810Z"
    }
   },
   "outputs": [],
   "source": [
    "num_data.ClosedDate.fillna(value='Not Closed', inplace=True)"
   ]
  },
  {
   "cell_type": "code",
   "execution_count": 107,
   "metadata": {
    "execution": {
     "iopub.execute_input": "2022-07-29T16:37:08.832639Z",
     "iopub.status.busy": "2022-07-29T16:37:08.832240Z",
     "iopub.status.idle": "2022-07-29T16:37:08.871801Z",
     "shell.execute_reply": "2022-07-29T16:37:08.870567Z",
     "shell.execute_reply.started": "2022-07-29T16:37:08.832604Z"
    }
   },
   "outputs": [
    {
     "data": {
      "text/plain": [
       "ListingNumber                             0\n",
       "ListingCreationDate                       0\n",
       "Term                                      0\n",
       "ClosedDate                                0\n",
       "BorrowerAPR                               0\n",
       "BorrowerRate                              0\n",
       "LenderYield                               0\n",
       "EstimatedEffectiveYield               18507\n",
       "EstimatedLoss                         18507\n",
       "EstimatedReturn                       18507\n",
       "ProsperRating (numeric)               18507\n",
       "ProsperScore                          18507\n",
       "ListingCategory (numeric)                 0\n",
       "EmploymentStatusDuration                  0\n",
       "DateCreditPulled                          0\n",
       "CreditScoreRangeLower                     0\n",
       "CreditScoreRangeUpper                     0\n",
       "FirstRecordedCreditLine                   0\n",
       "CurrentCreditLines                        0\n",
       "OpenCreditLines                           0\n",
       "TotalCreditLinespast7years                0\n",
       "OpenRevolvingAccounts                     0\n",
       "OpenRevolvingMonthlyPayment               0\n",
       "InquiriesLast6Months                      0\n",
       "TotalInquiries                            0\n",
       "CurrentDelinquencies                      0\n",
       "AmountDelinquent                          0\n",
       "DelinquenciesLast7Years                   0\n",
       "PublicRecordsLast10Years                  0\n",
       "PublicRecordsLast12Months                 0\n",
       "RevolvingCreditBalance                    0\n",
       "BankcardUtilization                       0\n",
       "AvailableBankcardCredit                   0\n",
       "TotalTrades                               0\n",
       "TradesNeverDelinquent (percentage)        0\n",
       "TradesOpenedLast6Months                   0\n",
       "DebtToIncomeRatio                         0\n",
       "StatedMonthlyIncome                       0\n",
       "LoanCurrentDaysDelinquent                 0\n",
       "LoanMonthsSinceOrigination                0\n",
       "LoanNumber                                0\n",
       "LoanOriginalAmount                        0\n",
       "LoanOriginationDate                       0\n",
       "MonthlyLoanPayment                        0\n",
       "LP_CustomerPayments                       0\n",
       "LP_CustomerPrincipalPayments              0\n",
       "LP_InterestandFees                        0\n",
       "LP_ServiceFees                            0\n",
       "LP_CollectionFees                         0\n",
       "LP_GrossPrincipalLoss                     0\n",
       "LP_NetPrincipalLoss                       0\n",
       "LP_NonPrincipalRecoverypayments           0\n",
       "PercentFunded                             0\n",
       "Recommendations                           0\n",
       "InvestmentFromFriendsCount                0\n",
       "InvestmentFromFriendsAmount               0\n",
       "Investors                                 0\n",
       "dtype: int64"
      ]
     },
     "execution_count": 107,
     "metadata": {},
     "output_type": "execute_result"
    }
   ],
   "source": [
    "num_data.isna().sum()"
   ]
  },
  {
   "cell_type": "markdown",
   "metadata": {},
   "source": [
    "# added new"
   ]
  },
  {
   "cell_type": "code",
   "execution_count": 108,
   "metadata": {
    "execution": {
     "iopub.execute_input": "2022-07-29T16:37:09.042478Z",
     "iopub.status.busy": "2022-07-29T16:37:09.041704Z",
     "iopub.status.idle": "2022-07-29T16:37:09.070242Z",
     "shell.execute_reply": "2022-07-29T16:37:09.068955Z",
     "shell.execute_reply.started": "2022-07-29T16:37:09.042436Z"
    }
   },
   "outputs": [],
   "source": [
    "num_data['EstimatedEffectiveYield'].fillna(value=num_data['EstimatedEffectiveYield'].median(), inplace=True)\n",
    "num_data['EstimatedLoss'].fillna(value=num_data['EstimatedLoss'].median(), inplace=True)\n",
    "num_data['EstimatedReturn'].fillna(value=num_data['EstimatedReturn'].median(), inplace=True)\n",
    "num_data['ProsperRating (numeric)'].fillna(value=num_data['ProsperRating (numeric)'].median(), inplace=True)\n",
    "num_data['ProsperScore'].fillna(value=num_data['ProsperScore'].median(), inplace=True)"
   ]
  },
  {
   "cell_type": "code",
   "execution_count": 109,
   "metadata": {
    "execution": {
     "iopub.execute_input": "2022-07-29T16:37:09.333908Z",
     "iopub.status.busy": "2022-07-29T16:37:09.332725Z",
     "iopub.status.idle": "2022-07-29T16:37:09.375839Z",
     "shell.execute_reply": "2022-07-29T16:37:09.374389Z",
     "shell.execute_reply.started": "2022-07-29T16:37:09.333867Z"
    }
   },
   "outputs": [
    {
     "data": {
      "text/plain": [
       "ListingNumber                         0\n",
       "ListingCreationDate                   0\n",
       "Term                                  0\n",
       "ClosedDate                            0\n",
       "BorrowerAPR                           0\n",
       "BorrowerRate                          0\n",
       "LenderYield                           0\n",
       "EstimatedEffectiveYield               0\n",
       "EstimatedLoss                         0\n",
       "EstimatedReturn                       0\n",
       "ProsperRating (numeric)               0\n",
       "ProsperScore                          0\n",
       "ListingCategory (numeric)             0\n",
       "EmploymentStatusDuration              0\n",
       "DateCreditPulled                      0\n",
       "CreditScoreRangeLower                 0\n",
       "CreditScoreRangeUpper                 0\n",
       "FirstRecordedCreditLine               0\n",
       "CurrentCreditLines                    0\n",
       "OpenCreditLines                       0\n",
       "TotalCreditLinespast7years            0\n",
       "OpenRevolvingAccounts                 0\n",
       "OpenRevolvingMonthlyPayment           0\n",
       "InquiriesLast6Months                  0\n",
       "TotalInquiries                        0\n",
       "CurrentDelinquencies                  0\n",
       "AmountDelinquent                      0\n",
       "DelinquenciesLast7Years               0\n",
       "PublicRecordsLast10Years              0\n",
       "PublicRecordsLast12Months             0\n",
       "RevolvingCreditBalance                0\n",
       "BankcardUtilization                   0\n",
       "AvailableBankcardCredit               0\n",
       "TotalTrades                           0\n",
       "TradesNeverDelinquent (percentage)    0\n",
       "TradesOpenedLast6Months               0\n",
       "DebtToIncomeRatio                     0\n",
       "StatedMonthlyIncome                   0\n",
       "LoanCurrentDaysDelinquent             0\n",
       "LoanMonthsSinceOrigination            0\n",
       "LoanNumber                            0\n",
       "LoanOriginalAmount                    0\n",
       "LoanOriginationDate                   0\n",
       "MonthlyLoanPayment                    0\n",
       "LP_CustomerPayments                   0\n",
       "LP_CustomerPrincipalPayments          0\n",
       "LP_InterestandFees                    0\n",
       "LP_ServiceFees                        0\n",
       "LP_CollectionFees                     0\n",
       "LP_GrossPrincipalLoss                 0\n",
       "LP_NetPrincipalLoss                   0\n",
       "LP_NonPrincipalRecoverypayments       0\n",
       "PercentFunded                         0\n",
       "Recommendations                       0\n",
       "InvestmentFromFriendsCount            0\n",
       "InvestmentFromFriendsAmount           0\n",
       "Investors                             0\n",
       "dtype: int64"
      ]
     },
     "execution_count": 109,
     "metadata": {},
     "output_type": "execute_result"
    }
   ],
   "source": [
    "num_data.isna().sum()"
   ]
  },
  {
   "cell_type": "code",
   "execution_count": 110,
   "metadata": {
    "execution": {
     "iopub.execute_input": "2022-07-29T16:37:09.629759Z",
     "iopub.status.busy": "2022-07-29T16:37:09.628679Z",
     "iopub.status.idle": "2022-07-29T16:37:09.647657Z",
     "shell.execute_reply": "2022-07-29T16:37:09.646092Z",
     "shell.execute_reply.started": "2022-07-29T16:37:09.629719Z"
    }
   },
   "outputs": [
    {
     "data": {
      "text/html": [
       "<div>\n",
       "<style scoped>\n",
       "    .dataframe tbody tr th:only-of-type {\n",
       "        vertical-align: middle;\n",
       "    }\n",
       "\n",
       "    .dataframe tbody tr th {\n",
       "        vertical-align: top;\n",
       "    }\n",
       "\n",
       "    .dataframe thead th {\n",
       "        text-align: right;\n",
       "    }\n",
       "</style>\n",
       "<table border=\"1\" class=\"dataframe\">\n",
       "  <thead>\n",
       "    <tr style=\"text-align: right;\">\n",
       "      <th></th>\n",
       "      <th>ClosedDate</th>\n",
       "    </tr>\n",
       "  </thead>\n",
       "  <tbody>\n",
       "    <tr>\n",
       "      <th>0</th>\n",
       "      <td>2009-08-14 00:00:00</td>\n",
       "    </tr>\n",
       "    <tr>\n",
       "      <th>1</th>\n",
       "      <td>Not Closed</td>\n",
       "    </tr>\n",
       "    <tr>\n",
       "      <th>2</th>\n",
       "      <td>Not Closed</td>\n",
       "    </tr>\n",
       "    <tr>\n",
       "      <th>3</th>\n",
       "      <td>Not Closed</td>\n",
       "    </tr>\n",
       "    <tr>\n",
       "      <th>4</th>\n",
       "      <td>Not Closed</td>\n",
       "    </tr>\n",
       "    <tr>\n",
       "      <th>...</th>\n",
       "      <td>...</td>\n",
       "    </tr>\n",
       "    <tr>\n",
       "      <th>103355</th>\n",
       "      <td>Not Closed</td>\n",
       "    </tr>\n",
       "    <tr>\n",
       "      <th>103356</th>\n",
       "      <td>Not Closed</td>\n",
       "    </tr>\n",
       "    <tr>\n",
       "      <th>103357</th>\n",
       "      <td>Not Closed</td>\n",
       "    </tr>\n",
       "    <tr>\n",
       "      <th>103358</th>\n",
       "      <td>2013-08-13 00:00:00</td>\n",
       "    </tr>\n",
       "    <tr>\n",
       "      <th>103359</th>\n",
       "      <td>Not Closed</td>\n",
       "    </tr>\n",
       "  </tbody>\n",
       "</table>\n",
       "<p>103360 rows × 1 columns</p>\n",
       "</div>"
      ],
      "text/plain": [
       "                 ClosedDate\n",
       "0       2009-08-14 00:00:00\n",
       "1                Not Closed\n",
       "2                Not Closed\n",
       "3                Not Closed\n",
       "4                Not Closed\n",
       "...                     ...\n",
       "103355           Not Closed\n",
       "103356           Not Closed\n",
       "103357           Not Closed\n",
       "103358  2013-08-13 00:00:00\n",
       "103359           Not Closed\n",
       "\n",
       "[103360 rows x 1 columns]"
      ]
     },
     "execution_count": 110,
     "metadata": {},
     "output_type": "execute_result"
    }
   ],
   "source": [
    "num_data.select_dtypes(include=('object'))"
   ]
  },
  {
   "cell_type": "code",
   "execution_count": 111,
   "metadata": {
    "execution": {
     "iopub.execute_input": "2022-07-29T16:37:09.931816Z",
     "iopub.status.busy": "2022-07-29T16:37:09.931065Z",
     "iopub.status.idle": "2022-07-29T16:37:10.027717Z",
     "shell.execute_reply": "2022-07-29T16:37:10.026504Z",
     "shell.execute_reply.started": "2022-07-29T16:37:09.931780Z"
    }
   },
   "outputs": [],
   "source": [
    "num_data['ClosedDate'] = num_data['ClosedDate'].fillna(0)\n",
    "num_data['ClosedDate'] = num_data['ClosedDate'].apply(lambda x:1 if x!='Not Closed' else 0)"
   ]
  },
  {
   "cell_type": "code",
   "execution_count": 112,
   "metadata": {
    "execution": {
     "iopub.execute_input": "2022-07-29T16:37:10.239966Z",
     "iopub.status.busy": "2022-07-29T16:37:10.239556Z",
     "iopub.status.idle": "2022-07-29T16:37:10.248368Z",
     "shell.execute_reply": "2022-07-29T16:37:10.247246Z",
     "shell.execute_reply.started": "2022-07-29T16:37:10.239936Z"
    }
   },
   "outputs": [
    {
     "data": {
      "text/plain": [
       "0         1\n",
       "1         0\n",
       "2         0\n",
       "3         0\n",
       "4         0\n",
       "         ..\n",
       "103355    0\n",
       "103356    0\n",
       "103357    0\n",
       "103358    1\n",
       "103359    0\n",
       "Name: ClosedDate, Length: 103360, dtype: int64"
      ]
     },
     "execution_count": 112,
     "metadata": {},
     "output_type": "execute_result"
    }
   ],
   "source": [
    "num_data.ClosedDate"
   ]
  },
  {
   "cell_type": "code",
   "execution_count": 113,
   "metadata": {
    "execution": {
     "iopub.execute_input": "2022-07-29T16:37:10.506962Z",
     "iopub.status.busy": "2022-07-29T16:37:10.506481Z",
     "iopub.status.idle": "2022-07-29T16:37:10.541108Z",
     "shell.execute_reply": "2022-07-29T16:37:10.539975Z",
     "shell.execute_reply.started": "2022-07-29T16:37:10.506919Z"
    }
   },
   "outputs": [],
   "source": [
    "modified_data = num_data.join(cat_data)"
   ]
  },
  {
   "cell_type": "code",
   "execution_count": 114,
   "metadata": {
    "execution": {
     "iopub.execute_input": "2022-07-29T16:37:10.797797Z",
     "iopub.status.busy": "2022-07-29T16:37:10.796478Z",
     "iopub.status.idle": "2022-07-29T16:37:10.862705Z",
     "shell.execute_reply": "2022-07-29T16:37:10.861334Z",
     "shell.execute_reply.started": "2022-07-29T16:37:10.797749Z"
    }
   },
   "outputs": [
    {
     "data": {
      "text/plain": [
       "Index(['IsBorrowerHomeowner', 'CurrentlyInGroup', 'IncomeVerifiable'], dtype='object')"
      ]
     },
     "execution_count": 114,
     "metadata": {},
     "output_type": "execute_result"
    }
   ],
   "source": [
    "modified_data.select_dtypes(include=('bool')).columns"
   ]
  },
  {
   "cell_type": "code",
   "execution_count": 115,
   "metadata": {
    "execution": {
     "iopub.execute_input": "2022-07-29T16:37:11.084640Z",
     "iopub.status.busy": "2022-07-29T16:37:11.084248Z",
     "iopub.status.idle": "2022-07-29T16:37:11.269166Z",
     "shell.execute_reply": "2022-07-29T16:37:11.267719Z",
     "shell.execute_reply.started": "2022-07-29T16:37:11.084608Z"
    }
   },
   "outputs": [],
   "source": [
    "bools = ['IsBorrowerHomeowner', 'CurrentlyInGroup', 'IncomeVerifiable']\n",
    "for i in bools:\n",
    "    modified_data[i] = modified_data[i].apply(lambda x:1 if x else 0)"
   ]
  },
  {
   "cell_type": "code",
   "execution_count": 116,
   "metadata": {
    "execution": {
     "iopub.execute_input": "2022-07-29T16:37:11.577885Z",
     "iopub.status.busy": "2022-07-29T16:37:11.577478Z",
     "iopub.status.idle": "2022-07-29T16:37:11.676334Z",
     "shell.execute_reply": "2022-07-29T16:37:11.675196Z",
     "shell.execute_reply.started": "2022-07-29T16:37:11.577855Z"
    }
   },
   "outputs": [
    {
     "name": "stdout",
     "output_type": "stream",
     "text": [
      "<class 'pandas.core.frame.DataFrame'>\n",
      "RangeIndex: 103360 entries, 0 to 103359\n",
      "Data columns (total 67 columns):\n",
      " #   Column                              Non-Null Count   Dtype         \n",
      "---  ------                              --------------   -----         \n",
      " 0   ListingNumber                       103360 non-null  int64         \n",
      " 1   ListingCreationDate                 103360 non-null  datetime64[ns]\n",
      " 2   Term                                103360 non-null  int64         \n",
      " 3   ClosedDate                          103360 non-null  int64         \n",
      " 4   BorrowerAPR                         103360 non-null  float64       \n",
      " 5   BorrowerRate                        103360 non-null  float64       \n",
      " 6   LenderYield                         103360 non-null  float64       \n",
      " 7   EstimatedEffectiveYield             103360 non-null  float64       \n",
      " 8   EstimatedLoss                       103360 non-null  float64       \n",
      " 9   EstimatedReturn                     103360 non-null  float64       \n",
      " 10  ProsperRating (numeric)             103360 non-null  float64       \n",
      " 11  ProsperScore                        103360 non-null  float64       \n",
      " 12  ListingCategory (numeric)           103360 non-null  int64         \n",
      " 13  EmploymentStatusDuration            103360 non-null  float64       \n",
      " 14  DateCreditPulled                    103360 non-null  datetime64[ns]\n",
      " 15  CreditScoreRangeLower               103360 non-null  float64       \n",
      " 16  CreditScoreRangeUpper               103360 non-null  float64       \n",
      " 17  FirstRecordedCreditLine             103360 non-null  datetime64[ns]\n",
      " 18  CurrentCreditLines                  103360 non-null  float64       \n",
      " 19  OpenCreditLines                     103360 non-null  float64       \n",
      " 20  TotalCreditLinespast7years          103360 non-null  float64       \n",
      " 21  OpenRevolvingAccounts               103360 non-null  int64         \n",
      " 22  OpenRevolvingMonthlyPayment         103360 non-null  float64       \n",
      " 23  InquiriesLast6Months                103360 non-null  float64       \n",
      " 24  TotalInquiries                      103360 non-null  float64       \n",
      " 25  CurrentDelinquencies                103360 non-null  float64       \n",
      " 26  AmountDelinquent                    103360 non-null  float64       \n",
      " 27  DelinquenciesLast7Years             103360 non-null  float64       \n",
      " 28  PublicRecordsLast10Years            103360 non-null  float64       \n",
      " 29  PublicRecordsLast12Months           103360 non-null  float64       \n",
      " 30  RevolvingCreditBalance              103360 non-null  float64       \n",
      " 31  BankcardUtilization                 103360 non-null  float64       \n",
      " 32  AvailableBankcardCredit             103360 non-null  float64       \n",
      " 33  TotalTrades                         103360 non-null  float64       \n",
      " 34  TradesNeverDelinquent (percentage)  103360 non-null  float64       \n",
      " 35  TradesOpenedLast6Months             103360 non-null  float64       \n",
      " 36  DebtToIncomeRatio                   103360 non-null  float64       \n",
      " 37  StatedMonthlyIncome                 103360 non-null  float64       \n",
      " 38  LoanCurrentDaysDelinquent           103360 non-null  int64         \n",
      " 39  LoanMonthsSinceOrigination          103360 non-null  int64         \n",
      " 40  LoanNumber                          103360 non-null  int64         \n",
      " 41  LoanOriginalAmount                  103360 non-null  int64         \n",
      " 42  LoanOriginationDate                 103360 non-null  datetime64[ns]\n",
      " 43  MonthlyLoanPayment                  103360 non-null  float64       \n",
      " 44  LP_CustomerPayments                 103360 non-null  float64       \n",
      " 45  LP_CustomerPrincipalPayments        103360 non-null  float64       \n",
      " 46  LP_InterestandFees                  103360 non-null  float64       \n",
      " 47  LP_ServiceFees                      103360 non-null  float64       \n",
      " 48  LP_CollectionFees                   103360 non-null  float64       \n",
      " 49  LP_GrossPrincipalLoss               103360 non-null  float64       \n",
      " 50  LP_NetPrincipalLoss                 103360 non-null  float64       \n",
      " 51  LP_NonPrincipalRecoverypayments     103360 non-null  float64       \n",
      " 52  PercentFunded                       103360 non-null  float64       \n",
      " 53  Recommendations                     103360 non-null  int64         \n",
      " 54  InvestmentFromFriendsCount          103360 non-null  int64         \n",
      " 55  InvestmentFromFriendsAmount         103360 non-null  float64       \n",
      " 56  Investors                           103360 non-null  int64         \n",
      " 57  CreditGrade                         103360 non-null  int32         \n",
      " 58  LoanStatus                          103360 non-null  object        \n",
      " 59  BorrowerState                       103360 non-null  object        \n",
      " 60  Occupation                          103360 non-null  object        \n",
      " 61  EmploymentStatus                    103360 non-null  object        \n",
      " 62  IsBorrowerHomeowner                 103360 non-null  int64         \n",
      " 63  CurrentlyInGroup                    103360 non-null  int64         \n",
      " 64  IncomeRange                         103360 non-null  object        \n",
      " 65  IncomeVerifiable                    103360 non-null  int64         \n",
      " 66  LoanOriginationQuarter              103360 non-null  object        \n",
      "dtypes: datetime64[ns](4), float64(41), int32(1), int64(15), object(6)\n",
      "memory usage: 52.4+ MB\n"
     ]
    }
   ],
   "source": [
    "modified_data.info()"
   ]
  },
  {
   "cell_type": "code",
   "execution_count": 117,
   "metadata": {
    "execution": {
     "iopub.execute_input": "2022-07-29T16:37:12.037033Z",
     "iopub.status.busy": "2022-07-29T16:37:12.035933Z",
     "iopub.status.idle": "2022-07-29T16:37:12.088195Z",
     "shell.execute_reply": "2022-07-29T16:37:12.086747Z",
     "shell.execute_reply.started": "2022-07-29T16:37:12.036984Z"
    }
   },
   "outputs": [
    {
     "data": {
      "text/plain": [
       "0                      Completed\n",
       "1                        Current\n",
       "2                        Current\n",
       "3                        Current\n",
       "4                        Current\n",
       "                   ...          \n",
       "103355                   Current\n",
       "103356    FinalPaymentInProgress\n",
       "103357                   Current\n",
       "103358                 Completed\n",
       "103359                   Current\n",
       "Name: LoanStatus, Length: 103360, dtype: object"
      ]
     },
     "execution_count": 117,
     "metadata": {},
     "output_type": "execute_result"
    }
   ],
   "source": [
    "y = modified_data['LoanStatus']\n",
    "X = modified_data.drop('LoanStatus',axis=1)\n",
    "y"
   ]
  },
  {
   "cell_type": "code",
   "execution_count": 118,
   "metadata": {
    "execution": {
     "iopub.execute_input": "2022-07-29T16:37:12.359269Z",
     "iopub.status.busy": "2022-07-29T16:37:12.358482Z",
     "iopub.status.idle": "2022-07-29T16:37:12.381733Z",
     "shell.execute_reply": "2022-07-29T16:37:12.380258Z",
     "shell.execute_reply.started": "2022-07-29T16:37:12.359221Z"
    }
   },
   "outputs": [
    {
     "data": {
      "text/plain": [
       "array(['Completed', 'Current', 'Past Due (1-15 days)', 'Defaulted',\n",
       "       'Chargedoff', 'Past Due (16-30 days)', 'Past Due (61-90 days)',\n",
       "       'Past Due (31-60 days)', 'Past Due (91-120 days)',\n",
       "       'FinalPaymentInProgress', 'Past Due (>120 days)', 'Cancelled'],\n",
       "      dtype=object)"
      ]
     },
     "execution_count": 118,
     "metadata": {},
     "output_type": "execute_result"
    }
   ],
   "source": [
    "y.unique()"
   ]
  },
  {
   "cell_type": "code",
   "execution_count": 119,
   "metadata": {
    "execution": {
     "iopub.execute_input": "2022-07-29T16:37:12.651702Z",
     "iopub.status.busy": "2022-07-29T16:37:12.651015Z",
     "iopub.status.idle": "2022-07-29T16:37:12.675616Z",
     "shell.execute_reply": "2022-07-29T16:37:12.674039Z",
     "shell.execute_reply.started": "2022-07-29T16:37:12.651656Z"
    }
   },
   "outputs": [
    {
     "data": {
      "text/html": [
       "<div>\n",
       "<style scoped>\n",
       "    .dataframe tbody tr th:only-of-type {\n",
       "        vertical-align: middle;\n",
       "    }\n",
       "\n",
       "    .dataframe tbody tr th {\n",
       "        vertical-align: top;\n",
       "    }\n",
       "\n",
       "    .dataframe thead th {\n",
       "        text-align: right;\n",
       "    }\n",
       "</style>\n",
       "<table border=\"1\" class=\"dataframe\">\n",
       "  <thead>\n",
       "    <tr style=\"text-align: right;\">\n",
       "      <th></th>\n",
       "      <th>BorrowerState</th>\n",
       "      <th>Occupation</th>\n",
       "      <th>EmploymentStatus</th>\n",
       "      <th>IncomeRange</th>\n",
       "      <th>LoanOriginationQuarter</th>\n",
       "    </tr>\n",
       "  </thead>\n",
       "  <tbody>\n",
       "    <tr>\n",
       "      <th>0</th>\n",
       "      <td>CO</td>\n",
       "      <td>Other</td>\n",
       "      <td>Self-employed</td>\n",
       "      <td>$25,000-49,999</td>\n",
       "      <td>Q3 2007</td>\n",
       "    </tr>\n",
       "    <tr>\n",
       "      <th>1</th>\n",
       "      <td>CO</td>\n",
       "      <td>Professional</td>\n",
       "      <td>Employed</td>\n",
       "      <td>$50,000-74,999</td>\n",
       "      <td>Q1 2014</td>\n",
       "    </tr>\n",
       "    <tr>\n",
       "      <th>2</th>\n",
       "      <td>GA</td>\n",
       "      <td>Skilled Labor</td>\n",
       "      <td>Employed</td>\n",
       "      <td>$25,000-49,999</td>\n",
       "      <td>Q4 2012</td>\n",
       "    </tr>\n",
       "    <tr>\n",
       "      <th>3</th>\n",
       "      <td>MN</td>\n",
       "      <td>Executive</td>\n",
       "      <td>Employed</td>\n",
       "      <td>$100,000+</td>\n",
       "      <td>Q3 2013</td>\n",
       "    </tr>\n",
       "    <tr>\n",
       "      <th>4</th>\n",
       "      <td>NM</td>\n",
       "      <td>Professional</td>\n",
       "      <td>Employed</td>\n",
       "      <td>$100,000+</td>\n",
       "      <td>Q4 2013</td>\n",
       "    </tr>\n",
       "    <tr>\n",
       "      <th>...</th>\n",
       "      <td>...</td>\n",
       "      <td>...</td>\n",
       "      <td>...</td>\n",
       "      <td>...</td>\n",
       "      <td>...</td>\n",
       "    </tr>\n",
       "    <tr>\n",
       "      <th>103355</th>\n",
       "      <td>IL</td>\n",
       "      <td>Food Service Management</td>\n",
       "      <td>Employed</td>\n",
       "      <td>$50,000-74,999</td>\n",
       "      <td>Q2 2013</td>\n",
       "    </tr>\n",
       "    <tr>\n",
       "      <th>103356</th>\n",
       "      <td>PA</td>\n",
       "      <td>Professional</td>\n",
       "      <td>Employed</td>\n",
       "      <td>$75,000-99,999</td>\n",
       "      <td>Q4 2011</td>\n",
       "    </tr>\n",
       "    <tr>\n",
       "      <th>103357</th>\n",
       "      <td>TX</td>\n",
       "      <td>Other</td>\n",
       "      <td>Employed</td>\n",
       "      <td>$25,000-49,999</td>\n",
       "      <td>Q4 2013</td>\n",
       "    </tr>\n",
       "    <tr>\n",
       "      <th>103358</th>\n",
       "      <td>GA</td>\n",
       "      <td>Food Service</td>\n",
       "      <td>Full-time</td>\n",
       "      <td>$25,000-49,999</td>\n",
       "      <td>Q4 2011</td>\n",
       "    </tr>\n",
       "    <tr>\n",
       "      <th>103359</th>\n",
       "      <td>NY</td>\n",
       "      <td>Professor</td>\n",
       "      <td>Employed</td>\n",
       "      <td>$50,000-74,999</td>\n",
       "      <td>Q1 2014</td>\n",
       "    </tr>\n",
       "  </tbody>\n",
       "</table>\n",
       "<p>103360 rows × 5 columns</p>\n",
       "</div>"
      ],
      "text/plain": [
       "       BorrowerState               Occupation EmploymentStatus  \\\n",
       "0                 CO                    Other    Self-employed   \n",
       "1                 CO             Professional         Employed   \n",
       "2                 GA            Skilled Labor         Employed   \n",
       "3                 MN                Executive         Employed   \n",
       "4                 NM             Professional         Employed   \n",
       "...              ...                      ...              ...   \n",
       "103355            IL  Food Service Management         Employed   \n",
       "103356            PA             Professional         Employed   \n",
       "103357            TX                    Other         Employed   \n",
       "103358            GA             Food Service        Full-time   \n",
       "103359            NY                Professor         Employed   \n",
       "\n",
       "           IncomeRange LoanOriginationQuarter  \n",
       "0       $25,000-49,999                Q3 2007  \n",
       "1       $50,000-74,999                Q1 2014  \n",
       "2       $25,000-49,999                Q4 2012  \n",
       "3            $100,000+                Q3 2013  \n",
       "4            $100,000+                Q4 2013  \n",
       "...                ...                    ...  \n",
       "103355  $50,000-74,999                Q2 2013  \n",
       "103356  $75,000-99,999                Q4 2011  \n",
       "103357  $25,000-49,999                Q4 2013  \n",
       "103358  $25,000-49,999                Q4 2011  \n",
       "103359  $50,000-74,999                Q1 2014  \n",
       "\n",
       "[103360 rows x 5 columns]"
      ]
     },
     "execution_count": 119,
     "metadata": {},
     "output_type": "execute_result"
    }
   ],
   "source": [
    "cat_X = X.select_dtypes(include=('object'))\n",
    "cat_X"
   ]
  },
  {
   "cell_type": "markdown",
   "metadata": {},
   "source": [
    "# handling catigorical columns in X"
   ]
  },
  {
   "cell_type": "code",
   "execution_count": 120,
   "metadata": {
    "execution": {
     "iopub.execute_input": "2022-07-29T16:37:13.878432Z",
     "iopub.status.busy": "2022-07-29T16:37:13.877623Z",
     "iopub.status.idle": "2022-07-29T16:37:13.930911Z",
     "shell.execute_reply": "2022-07-29T16:37:13.929737Z",
     "shell.execute_reply.started": "2022-07-29T16:37:13.878391Z"
    }
   },
   "outputs": [
    {
     "name": "stdout",
     "output_type": "stream",
     "text": [
      "BorrowerState : 51\n",
      "Occupation : 67\n",
      "EmploymentStatus : 7\n",
      "IncomeRange : 8\n",
      "LoanOriginationQuarter : 28\n"
     ]
    }
   ],
   "source": [
    "for column in cat_X.columns:\n",
    "    print(f'{column} : {len(cat_X[column].unique())}')"
   ]
  },
  {
   "cell_type": "code",
   "execution_count": 121,
   "metadata": {
    "execution": {
     "iopub.execute_input": "2022-07-29T16:37:14.374578Z",
     "iopub.status.busy": "2022-07-29T16:37:14.374155Z",
     "iopub.status.idle": "2022-07-29T16:37:14.426040Z",
     "shell.execute_reply": "2022-07-29T16:37:14.424700Z",
     "shell.execute_reply.started": "2022-07-29T16:37:14.374538Z"
    }
   },
   "outputs": [
    {
     "name": "stdout",
     "output_type": "stream",
     "text": [
      "<class 'pandas.core.frame.DataFrame'>\n",
      "RangeIndex: 103360 entries, 0 to 103359\n",
      "Data columns (total 66 columns):\n",
      " #   Column                              Non-Null Count   Dtype         \n",
      "---  ------                              --------------   -----         \n",
      " 0   ListingNumber                       103360 non-null  int64         \n",
      " 1   ListingCreationDate                 103360 non-null  datetime64[ns]\n",
      " 2   Term                                103360 non-null  int64         \n",
      " 3   ClosedDate                          103360 non-null  int64         \n",
      " 4   BorrowerAPR                         103360 non-null  float64       \n",
      " 5   BorrowerRate                        103360 non-null  float64       \n",
      " 6   LenderYield                         103360 non-null  float64       \n",
      " 7   EstimatedEffectiveYield             103360 non-null  float64       \n",
      " 8   EstimatedLoss                       103360 non-null  float64       \n",
      " 9   EstimatedReturn                     103360 non-null  float64       \n",
      " 10  ProsperRating (numeric)             103360 non-null  float64       \n",
      " 11  ProsperScore                        103360 non-null  float64       \n",
      " 12  ListingCategory (numeric)           103360 non-null  int64         \n",
      " 13  EmploymentStatusDuration            103360 non-null  float64       \n",
      " 14  DateCreditPulled                    103360 non-null  datetime64[ns]\n",
      " 15  CreditScoreRangeLower               103360 non-null  float64       \n",
      " 16  CreditScoreRangeUpper               103360 non-null  float64       \n",
      " 17  FirstRecordedCreditLine             103360 non-null  datetime64[ns]\n",
      " 18  CurrentCreditLines                  103360 non-null  float64       \n",
      " 19  OpenCreditLines                     103360 non-null  float64       \n",
      " 20  TotalCreditLinespast7years          103360 non-null  float64       \n",
      " 21  OpenRevolvingAccounts               103360 non-null  int64         \n",
      " 22  OpenRevolvingMonthlyPayment         103360 non-null  float64       \n",
      " 23  InquiriesLast6Months                103360 non-null  float64       \n",
      " 24  TotalInquiries                      103360 non-null  float64       \n",
      " 25  CurrentDelinquencies                103360 non-null  float64       \n",
      " 26  AmountDelinquent                    103360 non-null  float64       \n",
      " 27  DelinquenciesLast7Years             103360 non-null  float64       \n",
      " 28  PublicRecordsLast10Years            103360 non-null  float64       \n",
      " 29  PublicRecordsLast12Months           103360 non-null  float64       \n",
      " 30  RevolvingCreditBalance              103360 non-null  float64       \n",
      " 31  BankcardUtilization                 103360 non-null  float64       \n",
      " 32  AvailableBankcardCredit             103360 non-null  float64       \n",
      " 33  TotalTrades                         103360 non-null  float64       \n",
      " 34  TradesNeverDelinquent (percentage)  103360 non-null  float64       \n",
      " 35  TradesOpenedLast6Months             103360 non-null  float64       \n",
      " 36  DebtToIncomeRatio                   103360 non-null  float64       \n",
      " 37  StatedMonthlyIncome                 103360 non-null  float64       \n",
      " 38  LoanCurrentDaysDelinquent           103360 non-null  int64         \n",
      " 39  LoanMonthsSinceOrigination          103360 non-null  int64         \n",
      " 40  LoanNumber                          103360 non-null  int64         \n",
      " 41  LoanOriginalAmount                  103360 non-null  int64         \n",
      " 42  LoanOriginationDate                 103360 non-null  datetime64[ns]\n",
      " 43  MonthlyLoanPayment                  103360 non-null  float64       \n",
      " 44  LP_CustomerPayments                 103360 non-null  float64       \n",
      " 45  LP_CustomerPrincipalPayments        103360 non-null  float64       \n",
      " 46  LP_InterestandFees                  103360 non-null  float64       \n",
      " 47  LP_ServiceFees                      103360 non-null  float64       \n",
      " 48  LP_CollectionFees                   103360 non-null  float64       \n",
      " 49  LP_GrossPrincipalLoss               103360 non-null  float64       \n",
      " 50  LP_NetPrincipalLoss                 103360 non-null  float64       \n",
      " 51  LP_NonPrincipalRecoverypayments     103360 non-null  float64       \n",
      " 52  PercentFunded                       103360 non-null  float64       \n",
      " 53  Recommendations                     103360 non-null  int64         \n",
      " 54  InvestmentFromFriendsCount          103360 non-null  int64         \n",
      " 55  InvestmentFromFriendsAmount         103360 non-null  float64       \n",
      " 56  Investors                           103360 non-null  int64         \n",
      " 57  CreditGrade                         103360 non-null  int32         \n",
      " 58  BorrowerState                       103360 non-null  object        \n",
      " 59  Occupation                          103360 non-null  object        \n",
      " 60  EmploymentStatus                    103360 non-null  object        \n",
      " 61  IsBorrowerHomeowner                 103360 non-null  int64         \n",
      " 62  CurrentlyInGroup                    103360 non-null  int64         \n",
      " 63  IncomeRange                         103360 non-null  object        \n",
      " 64  IncomeVerifiable                    103360 non-null  int64         \n",
      " 65  LoanOriginationQuarter              103360 non-null  object        \n",
      "dtypes: datetime64[ns](4), float64(41), int32(1), int64(15), object(5)\n",
      "memory usage: 51.7+ MB\n"
     ]
    }
   ],
   "source": [
    "X.info()"
   ]
  },
  {
   "cell_type": "code",
   "execution_count": 122,
   "metadata": {
    "execution": {
     "iopub.execute_input": "2022-07-29T16:37:14.991471Z",
     "iopub.status.busy": "2022-07-29T16:37:14.990414Z",
     "iopub.status.idle": "2022-07-29T16:37:15.026047Z",
     "shell.execute_reply": "2022-07-29T16:37:15.024363Z",
     "shell.execute_reply.started": "2022-07-29T16:37:14.991421Z"
    }
   },
   "outputs": [],
   "source": [
    "X = X.drop(columns=['ListingCreationDate','DateCreditPulled','FirstRecordedCreditLine','LoanOriginationDate'])\n",
    "# X = X.drop(columns=cat_X.columns)"
   ]
  },
  {
   "cell_type": "code",
   "execution_count": 123,
   "metadata": {
    "execution": {
     "iopub.execute_input": "2022-07-29T16:37:15.724676Z",
     "iopub.status.busy": "2022-07-29T16:37:15.724228Z",
     "iopub.status.idle": "2022-07-29T16:37:15.787009Z",
     "shell.execute_reply": "2022-07-29T16:37:15.785461Z",
     "shell.execute_reply.started": "2022-07-29T16:37:15.724641Z"
    }
   },
   "outputs": [],
   "source": [
    "label_encoding_cols=[\"EmploymentStatus\",\"Occupation\", \"BorrowerState\", \"IncomeRange\", \"LoanOriginationQuarter\"]\n",
    "for i in label_encoding_cols:\n",
    "    X[i]=X[i].astype(\"category\")\n",
    "    X[i]=X[i].cat.codes"
   ]
  },
  {
   "cell_type": "code",
   "execution_count": 124,
   "metadata": {
    "execution": {
     "iopub.execute_input": "2022-07-29T16:37:16.558372Z",
     "iopub.status.busy": "2022-07-29T16:37:16.557343Z",
     "iopub.status.idle": "2022-07-29T16:37:16.611912Z",
     "shell.execute_reply": "2022-07-29T16:37:16.610848Z",
     "shell.execute_reply.started": "2022-07-29T16:37:16.558314Z"
    }
   },
   "outputs": [
    {
     "name": "stdout",
     "output_type": "stream",
     "text": [
      "<class 'pandas.core.frame.DataFrame'>\n",
      "RangeIndex: 103360 entries, 0 to 103359\n",
      "Data columns (total 62 columns):\n",
      " #   Column                              Non-Null Count   Dtype  \n",
      "---  ------                              --------------   -----  \n",
      " 0   ListingNumber                       103360 non-null  int64  \n",
      " 1   Term                                103360 non-null  int64  \n",
      " 2   ClosedDate                          103360 non-null  int64  \n",
      " 3   BorrowerAPR                         103360 non-null  float64\n",
      " 4   BorrowerRate                        103360 non-null  float64\n",
      " 5   LenderYield                         103360 non-null  float64\n",
      " 6   EstimatedEffectiveYield             103360 non-null  float64\n",
      " 7   EstimatedLoss                       103360 non-null  float64\n",
      " 8   EstimatedReturn                     103360 non-null  float64\n",
      " 9   ProsperRating (numeric)             103360 non-null  float64\n",
      " 10  ProsperScore                        103360 non-null  float64\n",
      " 11  ListingCategory (numeric)           103360 non-null  int64  \n",
      " 12  EmploymentStatusDuration            103360 non-null  float64\n",
      " 13  CreditScoreRangeLower               103360 non-null  float64\n",
      " 14  CreditScoreRangeUpper               103360 non-null  float64\n",
      " 15  CurrentCreditLines                  103360 non-null  float64\n",
      " 16  OpenCreditLines                     103360 non-null  float64\n",
      " 17  TotalCreditLinespast7years          103360 non-null  float64\n",
      " 18  OpenRevolvingAccounts               103360 non-null  int64  \n",
      " 19  OpenRevolvingMonthlyPayment         103360 non-null  float64\n",
      " 20  InquiriesLast6Months                103360 non-null  float64\n",
      " 21  TotalInquiries                      103360 non-null  float64\n",
      " 22  CurrentDelinquencies                103360 non-null  float64\n",
      " 23  AmountDelinquent                    103360 non-null  float64\n",
      " 24  DelinquenciesLast7Years             103360 non-null  float64\n",
      " 25  PublicRecordsLast10Years            103360 non-null  float64\n",
      " 26  PublicRecordsLast12Months           103360 non-null  float64\n",
      " 27  RevolvingCreditBalance              103360 non-null  float64\n",
      " 28  BankcardUtilization                 103360 non-null  float64\n",
      " 29  AvailableBankcardCredit             103360 non-null  float64\n",
      " 30  TotalTrades                         103360 non-null  float64\n",
      " 31  TradesNeverDelinquent (percentage)  103360 non-null  float64\n",
      " 32  TradesOpenedLast6Months             103360 non-null  float64\n",
      " 33  DebtToIncomeRatio                   103360 non-null  float64\n",
      " 34  StatedMonthlyIncome                 103360 non-null  float64\n",
      " 35  LoanCurrentDaysDelinquent           103360 non-null  int64  \n",
      " 36  LoanMonthsSinceOrigination          103360 non-null  int64  \n",
      " 37  LoanNumber                          103360 non-null  int64  \n",
      " 38  LoanOriginalAmount                  103360 non-null  int64  \n",
      " 39  MonthlyLoanPayment                  103360 non-null  float64\n",
      " 40  LP_CustomerPayments                 103360 non-null  float64\n",
      " 41  LP_CustomerPrincipalPayments        103360 non-null  float64\n",
      " 42  LP_InterestandFees                  103360 non-null  float64\n",
      " 43  LP_ServiceFees                      103360 non-null  float64\n",
      " 44  LP_CollectionFees                   103360 non-null  float64\n",
      " 45  LP_GrossPrincipalLoss               103360 non-null  float64\n",
      " 46  LP_NetPrincipalLoss                 103360 non-null  float64\n",
      " 47  LP_NonPrincipalRecoverypayments     103360 non-null  float64\n",
      " 48  PercentFunded                       103360 non-null  float64\n",
      " 49  Recommendations                     103360 non-null  int64  \n",
      " 50  InvestmentFromFriendsCount          103360 non-null  int64  \n",
      " 51  InvestmentFromFriendsAmount         103360 non-null  float64\n",
      " 52  Investors                           103360 non-null  int64  \n",
      " 53  CreditGrade                         103360 non-null  int32  \n",
      " 54  BorrowerState                       103360 non-null  int8   \n",
      " 55  Occupation                          103360 non-null  int8   \n",
      " 56  EmploymentStatus                    103360 non-null  int8   \n",
      " 57  IsBorrowerHomeowner                 103360 non-null  int64  \n",
      " 58  CurrentlyInGroup                    103360 non-null  int64  \n",
      " 59  IncomeRange                         103360 non-null  int8   \n",
      " 60  IncomeVerifiable                    103360 non-null  int64  \n",
      " 61  LoanOriginationQuarter              103360 non-null  int8   \n",
      "dtypes: float64(41), int32(1), int64(15), int8(5)\n",
      "memory usage: 45.0 MB\n"
     ]
    }
   ],
   "source": [
    "X.info()"
   ]
  },
  {
   "cell_type": "code",
   "execution_count": 125,
   "metadata": {
    "execution": {
     "iopub.execute_input": "2022-07-29T16:37:17.162432Z",
     "iopub.status.busy": "2022-07-29T16:37:17.161676Z",
     "iopub.status.idle": "2022-07-29T16:37:17.345005Z",
     "shell.execute_reply": "2022-07-29T16:37:17.343565Z",
     "shell.execute_reply.started": "2022-07-29T16:37:17.162393Z"
    }
   },
   "outputs": [],
   "source": [
    "# Feature Scaling of the column X\n",
    "sc = StandardScaler()\n",
    "scaled_X = sc.fit_transform(X)"
   ]
  },
  {
   "cell_type": "markdown",
   "metadata": {},
   "source": [
    "# DecisionTreeClassifier, Output variable is LoanStatus"
   ]
  },
  {
   "cell_type": "code",
   "execution_count": 126,
   "metadata": {
    "execution": {
     "iopub.execute_input": "2022-07-29T16:37:17.641259Z",
     "iopub.status.busy": "2022-07-29T16:37:17.640796Z",
     "iopub.status.idle": "2022-07-29T16:37:17.767495Z",
     "shell.execute_reply": "2022-07-29T16:37:17.766297Z",
     "shell.execute_reply.started": "2022-07-29T16:37:17.641223Z"
    }
   },
   "outputs": [],
   "source": [
    "# splitting the dataset into Training Set and Test Set\n",
    "X_train, X_test, y_train, y_test = train_test_split(scaled_X, y, test_size=0.2)"
   ]
  },
  {
   "cell_type": "code",
   "execution_count": 127,
   "metadata": {
    "execution": {
     "iopub.execute_input": "2022-07-29T16:37:20.392151Z",
     "iopub.status.busy": "2022-07-29T16:37:20.391706Z",
     "iopub.status.idle": "2022-07-29T16:37:21.375445Z",
     "shell.execute_reply": "2022-07-29T16:37:21.374252Z",
     "shell.execute_reply.started": "2022-07-29T16:37:20.392117Z"
    }
   },
   "outputs": [
    {
     "data": {
      "text/plain": [
       "DecisionTreeClassifier(max_depth=3, random_state=0)"
      ]
     },
     "execution_count": 127,
     "metadata": {},
     "output_type": "execute_result"
    }
   ],
   "source": [
    "# import DecisionTreeClassifier\n",
    "\n",
    "from sklearn.tree import DecisionTreeClassifier\n",
    "\n",
    "# instantiate the DecisionTreeClassifier model with criterion gini index\n",
    "\n",
    "model = DecisionTreeClassifier(criterion='gini', max_depth=3, random_state=0)\n",
    "\n",
    "\n",
    "# fit the model\n",
    "model.fit(X_train, y_train)"
   ]
  },
  {
   "cell_type": "code",
   "execution_count": 128,
   "metadata": {
    "execution": {
     "iopub.execute_input": "2022-07-29T16:37:21.378586Z",
     "iopub.status.busy": "2022-07-29T16:37:21.377428Z",
     "iopub.status.idle": "2022-07-29T16:37:21.389231Z",
     "shell.execute_reply": "2022-07-29T16:37:21.387889Z",
     "shell.execute_reply.started": "2022-07-29T16:37:21.378539Z"
    }
   },
   "outputs": [],
   "source": [
    "y_pred = model.predict(X_test)"
   ]
  },
  {
   "cell_type": "code",
   "execution_count": 129,
   "metadata": {
    "execution": {
     "iopub.execute_input": "2022-07-29T16:37:21.391904Z",
     "iopub.status.busy": "2022-07-29T16:37:21.390979Z",
     "iopub.status.idle": "2022-07-29T16:37:21.447166Z",
     "shell.execute_reply": "2022-07-29T16:37:21.445558Z",
     "shell.execute_reply.started": "2022-07-29T16:37:21.391857Z"
    }
   },
   "outputs": [
    {
     "name": "stdout",
     "output_type": "stream",
     "text": [
      "Model accuracy score: 0.9610\n"
     ]
    }
   ],
   "source": [
    "from sklearn.metrics import accuracy_score\n",
    "\n",
    "print('Model accuracy score: {0:0.4f}'. format(accuracy_score(y_test, y_pred)))"
   ]
  },
  {
   "cell_type": "code",
   "execution_count": 130,
   "metadata": {
    "execution": {
     "iopub.execute_input": "2022-07-29T16:37:21.697835Z",
     "iopub.status.busy": "2022-07-29T16:37:21.697157Z",
     "iopub.status.idle": "2022-07-29T16:37:21.927160Z",
     "shell.execute_reply": "2022-07-29T16:37:21.925808Z",
     "shell.execute_reply.started": "2022-07-29T16:37:21.697799Z"
    }
   },
   "outputs": [
    {
     "name": "stdout",
     "output_type": "stream",
     "text": [
      "Training-set accuracy score: 0.9601\n"
     ]
    }
   ],
   "source": [
    "y_pred_train = model.predict(X_train)\n",
    "\n",
    "print('Training-set accuracy score: {0:0.4f}'. format(accuracy_score(y_train, y_pred_train)))"
   ]
  },
  {
   "cell_type": "code",
   "execution_count": 131,
   "metadata": {
    "execution": {
     "iopub.execute_input": "2022-07-29T16:37:21.993244Z",
     "iopub.status.busy": "2022-07-29T16:37:21.992033Z",
     "iopub.status.idle": "2022-07-29T16:37:22.029720Z",
     "shell.execute_reply": "2022-07-29T16:37:22.028314Z",
     "shell.execute_reply.started": "2022-07-29T16:37:21.993198Z"
    }
   },
   "outputs": [],
   "source": [
    "y = modified_data[\"BorrowerRate\"]\n",
    "X = modified_data.drop([\"BorrowerRate\"],axis=1)"
   ]
  },
  {
   "cell_type": "code",
   "execution_count": 132,
   "metadata": {
    "execution": {
     "iopub.execute_input": "2022-07-29T16:37:22.203921Z",
     "iopub.status.busy": "2022-07-29T16:37:22.203447Z",
     "iopub.status.idle": "2022-07-29T16:37:22.233845Z",
     "shell.execute_reply": "2022-07-29T16:37:22.232457Z",
     "shell.execute_reply.started": "2022-07-29T16:37:22.203887Z"
    }
   },
   "outputs": [],
   "source": [
    "X = X.drop(columns=['ListingCreationDate','DateCreditPulled','FirstRecordedCreditLine','LoanOriginationDate'])"
   ]
  },
  {
   "cell_type": "code",
   "execution_count": 133,
   "metadata": {
    "execution": {
     "iopub.execute_input": "2022-07-29T16:37:22.514477Z",
     "iopub.status.busy": "2022-07-29T16:37:22.513493Z",
     "iopub.status.idle": "2022-07-29T16:37:22.596737Z",
     "shell.execute_reply": "2022-07-29T16:37:22.595501Z",
     "shell.execute_reply.started": "2022-07-29T16:37:22.514427Z"
    }
   },
   "outputs": [],
   "source": [
    "label_encoding_cols=[\"EmploymentStatus\",\"Occupation\", \"BorrowerState\", \"IncomeRange\", \"LoanOriginationQuarter\", \"LoanStatus\"]\n",
    "for i in label_encoding_cols:\n",
    "    X[i]=X[i].astype(\"category\")\n",
    "    X[i]=X[i].cat.codes"
   ]
  },
  {
   "cell_type": "code",
   "execution_count": 134,
   "metadata": {
    "execution": {
     "iopub.execute_input": "2022-07-29T16:37:22.940755Z",
     "iopub.status.busy": "2022-07-29T16:37:22.940247Z",
     "iopub.status.idle": "2022-07-29T16:37:22.973854Z",
     "shell.execute_reply": "2022-07-29T16:37:22.972660Z",
     "shell.execute_reply.started": "2022-07-29T16:37:22.940715Z"
    }
   },
   "outputs": [
    {
     "name": "stdout",
     "output_type": "stream",
     "text": [
      "<class 'pandas.core.frame.DataFrame'>\n",
      "RangeIndex: 103360 entries, 0 to 103359\n",
      "Data columns (total 62 columns):\n",
      " #   Column                              Non-Null Count   Dtype  \n",
      "---  ------                              --------------   -----  \n",
      " 0   ListingNumber                       103360 non-null  int64  \n",
      " 1   Term                                103360 non-null  int64  \n",
      " 2   ClosedDate                          103360 non-null  int64  \n",
      " 3   BorrowerAPR                         103360 non-null  float64\n",
      " 4   LenderYield                         103360 non-null  float64\n",
      " 5   EstimatedEffectiveYield             103360 non-null  float64\n",
      " 6   EstimatedLoss                       103360 non-null  float64\n",
      " 7   EstimatedReturn                     103360 non-null  float64\n",
      " 8   ProsperRating (numeric)             103360 non-null  float64\n",
      " 9   ProsperScore                        103360 non-null  float64\n",
      " 10  ListingCategory (numeric)           103360 non-null  int64  \n",
      " 11  EmploymentStatusDuration            103360 non-null  float64\n",
      " 12  CreditScoreRangeLower               103360 non-null  float64\n",
      " 13  CreditScoreRangeUpper               103360 non-null  float64\n",
      " 14  CurrentCreditLines                  103360 non-null  float64\n",
      " 15  OpenCreditLines                     103360 non-null  float64\n",
      " 16  TotalCreditLinespast7years          103360 non-null  float64\n",
      " 17  OpenRevolvingAccounts               103360 non-null  int64  \n",
      " 18  OpenRevolvingMonthlyPayment         103360 non-null  float64\n",
      " 19  InquiriesLast6Months                103360 non-null  float64\n",
      " 20  TotalInquiries                      103360 non-null  float64\n",
      " 21  CurrentDelinquencies                103360 non-null  float64\n",
      " 22  AmountDelinquent                    103360 non-null  float64\n",
      " 23  DelinquenciesLast7Years             103360 non-null  float64\n",
      " 24  PublicRecordsLast10Years            103360 non-null  float64\n",
      " 25  PublicRecordsLast12Months           103360 non-null  float64\n",
      " 26  RevolvingCreditBalance              103360 non-null  float64\n",
      " 27  BankcardUtilization                 103360 non-null  float64\n",
      " 28  AvailableBankcardCredit             103360 non-null  float64\n",
      " 29  TotalTrades                         103360 non-null  float64\n",
      " 30  TradesNeverDelinquent (percentage)  103360 non-null  float64\n",
      " 31  TradesOpenedLast6Months             103360 non-null  float64\n",
      " 32  DebtToIncomeRatio                   103360 non-null  float64\n",
      " 33  StatedMonthlyIncome                 103360 non-null  float64\n",
      " 34  LoanCurrentDaysDelinquent           103360 non-null  int64  \n",
      " 35  LoanMonthsSinceOrigination          103360 non-null  int64  \n",
      " 36  LoanNumber                          103360 non-null  int64  \n",
      " 37  LoanOriginalAmount                  103360 non-null  int64  \n",
      " 38  MonthlyLoanPayment                  103360 non-null  float64\n",
      " 39  LP_CustomerPayments                 103360 non-null  float64\n",
      " 40  LP_CustomerPrincipalPayments        103360 non-null  float64\n",
      " 41  LP_InterestandFees                  103360 non-null  float64\n",
      " 42  LP_ServiceFees                      103360 non-null  float64\n",
      " 43  LP_CollectionFees                   103360 non-null  float64\n",
      " 44  LP_GrossPrincipalLoss               103360 non-null  float64\n",
      " 45  LP_NetPrincipalLoss                 103360 non-null  float64\n",
      " 46  LP_NonPrincipalRecoverypayments     103360 non-null  float64\n",
      " 47  PercentFunded                       103360 non-null  float64\n",
      " 48  Recommendations                     103360 non-null  int64  \n",
      " 49  InvestmentFromFriendsCount          103360 non-null  int64  \n",
      " 50  InvestmentFromFriendsAmount         103360 non-null  float64\n",
      " 51  Investors                           103360 non-null  int64  \n",
      " 52  CreditGrade                         103360 non-null  int32  \n",
      " 53  LoanStatus                          103360 non-null  int8   \n",
      " 54  BorrowerState                       103360 non-null  int8   \n",
      " 55  Occupation                          103360 non-null  int8   \n",
      " 56  EmploymentStatus                    103360 non-null  int8   \n",
      " 57  IsBorrowerHomeowner                 103360 non-null  int64  \n",
      " 58  CurrentlyInGroup                    103360 non-null  int64  \n",
      " 59  IncomeRange                         103360 non-null  int8   \n",
      " 60  IncomeVerifiable                    103360 non-null  int64  \n",
      " 61  LoanOriginationQuarter              103360 non-null  int8   \n",
      "dtypes: float64(40), int32(1), int64(15), int8(6)\n",
      "memory usage: 44.4 MB\n"
     ]
    }
   ],
   "source": [
    "X.info()"
   ]
  },
  {
   "cell_type": "code",
   "execution_count": 135,
   "metadata": {
    "execution": {
     "iopub.execute_input": "2022-07-29T16:37:23.017977Z",
     "iopub.status.busy": "2022-07-29T16:37:23.017134Z",
     "iopub.status.idle": "2022-07-29T16:37:23.214124Z",
     "shell.execute_reply": "2022-07-29T16:37:23.213190Z",
     "shell.execute_reply.started": "2022-07-29T16:37:23.017926Z"
    }
   },
   "outputs": [],
   "source": [
    "# Feature Scaling of the column X\n",
    "sc = StandardScaler()\n",
    "scaled_X = sc.fit_transform(X)"
   ]
  },
  {
   "cell_type": "code",
   "execution_count": 136,
   "metadata": {
    "execution": {
     "iopub.execute_input": "2022-07-29T16:37:23.216826Z",
     "iopub.status.busy": "2022-07-29T16:37:23.216333Z",
     "iopub.status.idle": "2022-07-29T16:37:23.223244Z",
     "shell.execute_reply": "2022-07-29T16:37:23.221736Z",
     "shell.execute_reply.started": "2022-07-29T16:37:23.216780Z"
    }
   },
   "outputs": [],
   "source": [
    "# import DecisionTreeRegressor\n",
    "\n",
    "from sklearn.tree import DecisionTreeRegressor"
   ]
  },
  {
   "cell_type": "code",
   "execution_count": 137,
   "metadata": {
    "execution": {
     "iopub.execute_input": "2022-07-29T16:37:23.351391Z",
     "iopub.status.busy": "2022-07-29T16:37:23.350984Z",
     "iopub.status.idle": "2022-07-29T16:37:24.316438Z",
     "shell.execute_reply": "2022-07-29T16:37:24.314958Z",
     "shell.execute_reply.started": "2022-07-29T16:37:23.351359Z"
    }
   },
   "outputs": [],
   "source": [
    "x_train,x_test,y_train,y_test = train_test_split(X,y,test_size = 0.2,random_state=0)\n",
    "model2 = DecisionTreeRegressor(max_depth=4,min_samples_split=5,max_leaf_nodes=10)\n",
    "model2.fit(x_train,y_train)\n",
    "y2_pred=model2.predict(x_test)"
   ]
  },
  {
   "cell_type": "code",
   "execution_count": 138,
   "metadata": {
    "execution": {
     "iopub.execute_input": "2022-07-29T16:37:24.319359Z",
     "iopub.status.busy": "2022-07-29T16:37:24.318741Z",
     "iopub.status.idle": "2022-07-29T16:37:24.328334Z",
     "shell.execute_reply": "2022-07-29T16:37:24.326824Z",
     "shell.execute_reply.started": "2022-07-29T16:37:24.319323Z"
    }
   },
   "outputs": [
    {
     "name": "stdout",
     "output_type": "stream",
     "text": [
      "MSE: 0.000084594\n",
      "MAE: 0.007412036\n"
     ]
    }
   ],
   "source": [
    "print(\"MSE: %.9f\" % metrics.mean_squared_error(y_test, y2_pred))\n",
    "print(\"MAE: %.9f\" % metrics.mean_absolute_error(y_test, y2_pred))"
   ]
  },
  {
   "cell_type": "code",
   "execution_count": null,
   "metadata": {},
   "outputs": [],
   "source": []
  }
 ],
 "metadata": {
  "kernelspec": {
   "display_name": "Python 3 (ipykernel)",
   "language": "python",
   "name": "python3"
  },
  "language_info": {
   "codemirror_mode": {
    "name": "ipython",
    "version": 3
   },
   "file_extension": ".py",
   "mimetype": "text/x-python",
   "name": "python",
   "nbconvert_exporter": "python",
   "pygments_lexer": "ipython3",
   "version": "3.9.12"
  }
 },
 "nbformat": 4,
 "nbformat_minor": 4
}

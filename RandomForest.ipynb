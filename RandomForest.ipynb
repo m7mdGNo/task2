{
  "cells": [
    {
      "cell_type": "code",
      "execution_count": 426,
      "id": "b694cd47",
      "metadata": {
        "id": "b694cd47"
      },
      "outputs": [],
      "source": [
        "import numpy as np # linear algebra -for numeric computations\n",
        "import pandas as pd # data processing -to store data as dataframes \n",
        "import matplotlib.pyplot as plt # data visualization \n",
        "%matplotlib inline\n",
        "import seaborn as sns # data visualization \n",
        "from sklearn.ensemble import RandomForestClassifier\n",
        "from sklearn.model_selection import train_test_split\n",
        "from sklearn.model_selection import GridSearchCV\n",
        "from sklearn.metrics import accuracy_score\n",
        "from sklearn.metrics import classification_report\n",
        "from sklearn.metrics import confusion_matrix\n",
        "from sklearn.ensemble import RandomForestRegressor\n",
        "import sklearn.metrics as metrics\n",
        "from sklearn.metrics import mean_squared_error\n",
        "from sklearn.metrics import mean_absolute_error\n",
        "import math"
      ]
    },
    {
      "cell_type": "code",
      "execution_count": 427,
      "id": "d7b33d62",
      "metadata": {
        "colab": {
          "base_uri": "https://localhost:8080/",
          "height": 484
        },
        "id": "d7b33d62",
        "outputId": "518f3f7f-da7f-4b0a-98a0-e9ff6c69c0e9"
      },
      "outputs": [
        {
          "output_type": "execute_result",
          "data": {
            "text/plain": [
              "                ListingKey  ListingNumber            ListingCreationDate  \\\n",
              "0  1021339766868145413AB3B         193129  2007-08-26 19:09:29.263000000   \n",
              "1  10273602499503308B223C1        1209647  2014-02-27 08:28:07.900000000   \n",
              "2  0EE9337825851032864889A          81716  2007-01-05 15:00:47.090000000   \n",
              "3  0EF5356002482715299901A         658116  2012-10-22 11:02:35.010000000   \n",
              "4  0F023589499656230C5E3E2         909464  2013-09-14 18:38:39.097000000   \n",
              "5  0F05359734824199381F61D        1074836  2013-12-14 08:26:37.093000000   \n",
              "6  0F0A3576754255009D63151         750899  2013-04-12 09:52:56.147000000   \n",
              "\n",
              "  CreditGrade  Term LoanStatus           ClosedDate  BorrowerAPR  \\\n",
              "0           C    36  Completed  2009-08-14 00:00:00      0.16516   \n",
              "1         NaN    36    Current                  NaN      0.12016   \n",
              "2          HR    36  Completed  2009-12-17 00:00:00      0.28269   \n",
              "3         NaN    36    Current                  NaN      0.12528   \n",
              "4         NaN    36    Current                  NaN      0.24614   \n",
              "5         NaN    60    Current                  NaN      0.15425   \n",
              "6         NaN    36    Current                  NaN      0.31032   \n",
              "\n",
              "   BorrowerRate  LenderYield  ...  LP_ServiceFees  LP_CollectionFees  \\\n",
              "0        0.1580       0.1380  ...         -133.18                0.0   \n",
              "1        0.0920       0.0820  ...            0.00                0.0   \n",
              "2        0.2750       0.2400  ...          -24.20                0.0   \n",
              "3        0.0974       0.0874  ...         -108.01                0.0   \n",
              "4        0.2085       0.1985  ...          -60.27                0.0   \n",
              "5        0.1314       0.1214  ...          -25.33                0.0   \n",
              "6        0.2712       0.2612  ...          -22.95                0.0   \n",
              "\n",
              "   LP_GrossPrincipalLoss  LP_NetPrincipalLoss LP_NonPrincipalRecoverypayments  \\\n",
              "0                    0.0                  0.0                             0.0   \n",
              "1                    0.0                  0.0                             0.0   \n",
              "2                    0.0                  0.0                             0.0   \n",
              "3                    0.0                  0.0                             0.0   \n",
              "4                    0.0                  0.0                             0.0   \n",
              "5                    0.0                  0.0                             0.0   \n",
              "6                    0.0                  0.0                             0.0   \n",
              "\n",
              "   PercentFunded  Recommendations InvestmentFromFriendsCount  \\\n",
              "0            1.0                0                          0   \n",
              "1            1.0                0                          0   \n",
              "2            1.0                0                          0   \n",
              "3            1.0                0                          0   \n",
              "4            1.0                0                          0   \n",
              "5            1.0                0                          0   \n",
              "6            1.0                0                          0   \n",
              "\n",
              "  InvestmentFromFriendsAmount Investors  \n",
              "0                         0.0       258  \n",
              "1                         0.0         1  \n",
              "2                         0.0        41  \n",
              "3                         0.0       158  \n",
              "4                         0.0        20  \n",
              "5                         0.0         1  \n",
              "6                         0.0         1  \n",
              "\n",
              "[7 rows x 81 columns]"
            ],
            "text/html": [
              "\n",
              "  <div id=\"df-ecffe6a6-1ca6-460e-b0d1-dc20f012999a\">\n",
              "    <div class=\"colab-df-container\">\n",
              "      <div>\n",
              "<style scoped>\n",
              "    .dataframe tbody tr th:only-of-type {\n",
              "        vertical-align: middle;\n",
              "    }\n",
              "\n",
              "    .dataframe tbody tr th {\n",
              "        vertical-align: top;\n",
              "    }\n",
              "\n",
              "    .dataframe thead th {\n",
              "        text-align: right;\n",
              "    }\n",
              "</style>\n",
              "<table border=\"1\" class=\"dataframe\">\n",
              "  <thead>\n",
              "    <tr style=\"text-align: right;\">\n",
              "      <th></th>\n",
              "      <th>ListingKey</th>\n",
              "      <th>ListingNumber</th>\n",
              "      <th>ListingCreationDate</th>\n",
              "      <th>CreditGrade</th>\n",
              "      <th>Term</th>\n",
              "      <th>LoanStatus</th>\n",
              "      <th>ClosedDate</th>\n",
              "      <th>BorrowerAPR</th>\n",
              "      <th>BorrowerRate</th>\n",
              "      <th>LenderYield</th>\n",
              "      <th>...</th>\n",
              "      <th>LP_ServiceFees</th>\n",
              "      <th>LP_CollectionFees</th>\n",
              "      <th>LP_GrossPrincipalLoss</th>\n",
              "      <th>LP_NetPrincipalLoss</th>\n",
              "      <th>LP_NonPrincipalRecoverypayments</th>\n",
              "      <th>PercentFunded</th>\n",
              "      <th>Recommendations</th>\n",
              "      <th>InvestmentFromFriendsCount</th>\n",
              "      <th>InvestmentFromFriendsAmount</th>\n",
              "      <th>Investors</th>\n",
              "    </tr>\n",
              "  </thead>\n",
              "  <tbody>\n",
              "    <tr>\n",
              "      <th>0</th>\n",
              "      <td>1021339766868145413AB3B</td>\n",
              "      <td>193129</td>\n",
              "      <td>2007-08-26 19:09:29.263000000</td>\n",
              "      <td>C</td>\n",
              "      <td>36</td>\n",
              "      <td>Completed</td>\n",
              "      <td>2009-08-14 00:00:00</td>\n",
              "      <td>0.16516</td>\n",
              "      <td>0.1580</td>\n",
              "      <td>0.1380</td>\n",
              "      <td>...</td>\n",
              "      <td>-133.18</td>\n",
              "      <td>0.0</td>\n",
              "      <td>0.0</td>\n",
              "      <td>0.0</td>\n",
              "      <td>0.0</td>\n",
              "      <td>1.0</td>\n",
              "      <td>0</td>\n",
              "      <td>0</td>\n",
              "      <td>0.0</td>\n",
              "      <td>258</td>\n",
              "    </tr>\n",
              "    <tr>\n",
              "      <th>1</th>\n",
              "      <td>10273602499503308B223C1</td>\n",
              "      <td>1209647</td>\n",
              "      <td>2014-02-27 08:28:07.900000000</td>\n",
              "      <td>NaN</td>\n",
              "      <td>36</td>\n",
              "      <td>Current</td>\n",
              "      <td>NaN</td>\n",
              "      <td>0.12016</td>\n",
              "      <td>0.0920</td>\n",
              "      <td>0.0820</td>\n",
              "      <td>...</td>\n",
              "      <td>0.00</td>\n",
              "      <td>0.0</td>\n",
              "      <td>0.0</td>\n",
              "      <td>0.0</td>\n",
              "      <td>0.0</td>\n",
              "      <td>1.0</td>\n",
              "      <td>0</td>\n",
              "      <td>0</td>\n",
              "      <td>0.0</td>\n",
              "      <td>1</td>\n",
              "    </tr>\n",
              "    <tr>\n",
              "      <th>2</th>\n",
              "      <td>0EE9337825851032864889A</td>\n",
              "      <td>81716</td>\n",
              "      <td>2007-01-05 15:00:47.090000000</td>\n",
              "      <td>HR</td>\n",
              "      <td>36</td>\n",
              "      <td>Completed</td>\n",
              "      <td>2009-12-17 00:00:00</td>\n",
              "      <td>0.28269</td>\n",
              "      <td>0.2750</td>\n",
              "      <td>0.2400</td>\n",
              "      <td>...</td>\n",
              "      <td>-24.20</td>\n",
              "      <td>0.0</td>\n",
              "      <td>0.0</td>\n",
              "      <td>0.0</td>\n",
              "      <td>0.0</td>\n",
              "      <td>1.0</td>\n",
              "      <td>0</td>\n",
              "      <td>0</td>\n",
              "      <td>0.0</td>\n",
              "      <td>41</td>\n",
              "    </tr>\n",
              "    <tr>\n",
              "      <th>3</th>\n",
              "      <td>0EF5356002482715299901A</td>\n",
              "      <td>658116</td>\n",
              "      <td>2012-10-22 11:02:35.010000000</td>\n",
              "      <td>NaN</td>\n",
              "      <td>36</td>\n",
              "      <td>Current</td>\n",
              "      <td>NaN</td>\n",
              "      <td>0.12528</td>\n",
              "      <td>0.0974</td>\n",
              "      <td>0.0874</td>\n",
              "      <td>...</td>\n",
              "      <td>-108.01</td>\n",
              "      <td>0.0</td>\n",
              "      <td>0.0</td>\n",
              "      <td>0.0</td>\n",
              "      <td>0.0</td>\n",
              "      <td>1.0</td>\n",
              "      <td>0</td>\n",
              "      <td>0</td>\n",
              "      <td>0.0</td>\n",
              "      <td>158</td>\n",
              "    </tr>\n",
              "    <tr>\n",
              "      <th>4</th>\n",
              "      <td>0F023589499656230C5E3E2</td>\n",
              "      <td>909464</td>\n",
              "      <td>2013-09-14 18:38:39.097000000</td>\n",
              "      <td>NaN</td>\n",
              "      <td>36</td>\n",
              "      <td>Current</td>\n",
              "      <td>NaN</td>\n",
              "      <td>0.24614</td>\n",
              "      <td>0.2085</td>\n",
              "      <td>0.1985</td>\n",
              "      <td>...</td>\n",
              "      <td>-60.27</td>\n",
              "      <td>0.0</td>\n",
              "      <td>0.0</td>\n",
              "      <td>0.0</td>\n",
              "      <td>0.0</td>\n",
              "      <td>1.0</td>\n",
              "      <td>0</td>\n",
              "      <td>0</td>\n",
              "      <td>0.0</td>\n",
              "      <td>20</td>\n",
              "    </tr>\n",
              "    <tr>\n",
              "      <th>5</th>\n",
              "      <td>0F05359734824199381F61D</td>\n",
              "      <td>1074836</td>\n",
              "      <td>2013-12-14 08:26:37.093000000</td>\n",
              "      <td>NaN</td>\n",
              "      <td>60</td>\n",
              "      <td>Current</td>\n",
              "      <td>NaN</td>\n",
              "      <td>0.15425</td>\n",
              "      <td>0.1314</td>\n",
              "      <td>0.1214</td>\n",
              "      <td>...</td>\n",
              "      <td>-25.33</td>\n",
              "      <td>0.0</td>\n",
              "      <td>0.0</td>\n",
              "      <td>0.0</td>\n",
              "      <td>0.0</td>\n",
              "      <td>1.0</td>\n",
              "      <td>0</td>\n",
              "      <td>0</td>\n",
              "      <td>0.0</td>\n",
              "      <td>1</td>\n",
              "    </tr>\n",
              "    <tr>\n",
              "      <th>6</th>\n",
              "      <td>0F0A3576754255009D63151</td>\n",
              "      <td>750899</td>\n",
              "      <td>2013-04-12 09:52:56.147000000</td>\n",
              "      <td>NaN</td>\n",
              "      <td>36</td>\n",
              "      <td>Current</td>\n",
              "      <td>NaN</td>\n",
              "      <td>0.31032</td>\n",
              "      <td>0.2712</td>\n",
              "      <td>0.2612</td>\n",
              "      <td>...</td>\n",
              "      <td>-22.95</td>\n",
              "      <td>0.0</td>\n",
              "      <td>0.0</td>\n",
              "      <td>0.0</td>\n",
              "      <td>0.0</td>\n",
              "      <td>1.0</td>\n",
              "      <td>0</td>\n",
              "      <td>0</td>\n",
              "      <td>0.0</td>\n",
              "      <td>1</td>\n",
              "    </tr>\n",
              "  </tbody>\n",
              "</table>\n",
              "<p>7 rows × 81 columns</p>\n",
              "</div>\n",
              "      <button class=\"colab-df-convert\" onclick=\"convertToInteractive('df-ecffe6a6-1ca6-460e-b0d1-dc20f012999a')\"\n",
              "              title=\"Convert this dataframe to an interactive table.\"\n",
              "              style=\"display:none;\">\n",
              "        \n",
              "  <svg xmlns=\"http://www.w3.org/2000/svg\" height=\"24px\"viewBox=\"0 0 24 24\"\n",
              "       width=\"24px\">\n",
              "    <path d=\"M0 0h24v24H0V0z\" fill=\"none\"/>\n",
              "    <path d=\"M18.56 5.44l.94 2.06.94-2.06 2.06-.94-2.06-.94-.94-2.06-.94 2.06-2.06.94zm-11 1L8.5 8.5l.94-2.06 2.06-.94-2.06-.94L8.5 2.5l-.94 2.06-2.06.94zm10 10l.94 2.06.94-2.06 2.06-.94-2.06-.94-.94-2.06-.94 2.06-2.06.94z\"/><path d=\"M17.41 7.96l-1.37-1.37c-.4-.4-.92-.59-1.43-.59-.52 0-1.04.2-1.43.59L10.3 9.45l-7.72 7.72c-.78.78-.78 2.05 0 2.83L4 21.41c.39.39.9.59 1.41.59.51 0 1.02-.2 1.41-.59l7.78-7.78 2.81-2.81c.8-.78.8-2.07 0-2.86zM5.41 20L4 18.59l7.72-7.72 1.47 1.35L5.41 20z\"/>\n",
              "  </svg>\n",
              "      </button>\n",
              "      \n",
              "  <style>\n",
              "    .colab-df-container {\n",
              "      display:flex;\n",
              "      flex-wrap:wrap;\n",
              "      gap: 12px;\n",
              "    }\n",
              "\n",
              "    .colab-df-convert {\n",
              "      background-color: #E8F0FE;\n",
              "      border: none;\n",
              "      border-radius: 50%;\n",
              "      cursor: pointer;\n",
              "      display: none;\n",
              "      fill: #1967D2;\n",
              "      height: 32px;\n",
              "      padding: 0 0 0 0;\n",
              "      width: 32px;\n",
              "    }\n",
              "\n",
              "    .colab-df-convert:hover {\n",
              "      background-color: #E2EBFA;\n",
              "      box-shadow: 0px 1px 2px rgba(60, 64, 67, 0.3), 0px 1px 3px 1px rgba(60, 64, 67, 0.15);\n",
              "      fill: #174EA6;\n",
              "    }\n",
              "\n",
              "    [theme=dark] .colab-df-convert {\n",
              "      background-color: #3B4455;\n",
              "      fill: #D2E3FC;\n",
              "    }\n",
              "\n",
              "    [theme=dark] .colab-df-convert:hover {\n",
              "      background-color: #434B5C;\n",
              "      box-shadow: 0px 1px 3px 1px rgba(0, 0, 0, 0.15);\n",
              "      filter: drop-shadow(0px 1px 2px rgba(0, 0, 0, 0.3));\n",
              "      fill: #FFFFFF;\n",
              "    }\n",
              "  </style>\n",
              "\n",
              "      <script>\n",
              "        const buttonEl =\n",
              "          document.querySelector('#df-ecffe6a6-1ca6-460e-b0d1-dc20f012999a button.colab-df-convert');\n",
              "        buttonEl.style.display =\n",
              "          google.colab.kernel.accessAllowed ? 'block' : 'none';\n",
              "\n",
              "        async function convertToInteractive(key) {\n",
              "          const element = document.querySelector('#df-ecffe6a6-1ca6-460e-b0d1-dc20f012999a');\n",
              "          const dataTable =\n",
              "            await google.colab.kernel.invokeFunction('convertToInteractive',\n",
              "                                                     [key], {});\n",
              "          if (!dataTable) return;\n",
              "\n",
              "          const docLinkHtml = 'Like what you see? Visit the ' +\n",
              "            '<a target=\"_blank\" href=https://colab.research.google.com/notebooks/data_table.ipynb>data table notebook</a>'\n",
              "            + ' to learn more about interactive tables.';\n",
              "          element.innerHTML = '';\n",
              "          dataTable['output_type'] = 'display_data';\n",
              "          await google.colab.output.renderOutput(dataTable, element);\n",
              "          const docLink = document.createElement('div');\n",
              "          docLink.innerHTML = docLinkHtml;\n",
              "          element.appendChild(docLink);\n",
              "        }\n",
              "      </script>\n",
              "    </div>\n",
              "  </div>\n",
              "  "
            ]
          },
          "metadata": {},
          "execution_count": 427
        }
      ],
      "source": [
        "data = pd.read_csv(\"https://bit.ly/prosper-dataset\")\n",
        "data.head(7)"
      ]
    },
    {
      "cell_type": "code",
      "execution_count": 428,
      "id": "97c01a30",
      "metadata": {
        "id": "97c01a30"
      },
      "outputs": [],
      "source": [
        "# parsing Dates\n",
        "data['ListingCreationDate'] = pd.to_datetime(data['ListingCreationDate'])\n",
        "data['ClosedDate'] = pd.to_datetime(data['ClosedDate'])\n",
        "data['DateCreditPulled'] = pd.to_datetime(data['DateCreditPulled'])\n",
        "data['FirstRecordedCreditLine'] = pd.to_datetime(data['FirstRecordedCreditLine'])\n",
        "data['LoanOriginationDate'] = pd.to_datetime(data['LoanOriginationDate'])\n"
      ]
    },
    {
      "cell_type": "code",
      "execution_count": 429,
      "id": "a2903cf0",
      "metadata": {
        "colab": {
          "base_uri": "https://localhost:8080/"
        },
        "id": "a2903cf0",
        "outputId": "90ceea3d-6367-4e84-d2c9-a73661078d5e"
      },
      "outputs": [
        {
          "output_type": "execute_result",
          "data": {
            "text/plain": [
              "(113937, 71)"
            ]
          },
          "metadata": {},
          "execution_count": 429
        }
      ],
      "source": [
        "#  removing any feature with more than 75% of missing values.\n",
        "data_with_less_missing_values = data.dropna(thresh=data.shape[0] * 0.25, axis=1)\n",
        "data_with_less_missing_values.shape"
      ]
    },
    {
      "cell_type": "code",
      "execution_count": 430,
      "id": "8049707d",
      "metadata": {
        "colab": {
          "base_uri": "https://localhost:8080/"
        },
        "id": "8049707d",
        "outputId": "470ab625-215f-4411-b90a-121226b40fc0"
      },
      "outputs": [
        {
          "output_type": "execute_result",
          "data": {
            "text/plain": [
              "(103360, 71)"
            ]
          },
          "metadata": {},
          "execution_count": 430
        }
      ],
      "source": [
        "# removing loan samples with have more than 20% of missing values\n",
        "data_with_less_missing_values = data_with_less_missing_values.dropna(thresh=data.shape[1] * 0.80, axis=0).reset_index(drop=True)\n",
        "data_with_less_missing_values.shape"
      ]
    },
    {
      "cell_type": "code",
      "execution_count": 431,
      "id": "569be9f5",
      "metadata": {
        "id": "569be9f5"
      },
      "outputs": [],
      "source": [
        "cat_cols = [name for name in data_with_less_missing_values \n",
        "                        if data_with_less_missing_values[name].dtype in [\"object\", \"bool\" ]]\n",
        "numerical_cols = [name for name in data_with_less_missing_values.columns\n",
        "                      if data_with_less_missing_values[name].dtype in ['int64', 'float64', 'datetime64[ns]']]\n",
        "cat_data = data_with_less_missing_values.drop(axis=1, columns=numerical_cols)\n",
        "num_data = data_with_less_missing_values.drop(axis=1, columns=cat_cols)\n"
      ]
    },
    {
      "cell_type": "code",
      "execution_count": 432,
      "id": "ec5de699",
      "metadata": {
        "id": "ec5de699"
      },
      "outputs": [],
      "source": [
        "cat_data.Occupation = cat_data.Occupation.fillna(cat_data.Occupation.mode().iloc[0])"
      ]
    },
    {
      "cell_type": "code",
      "execution_count": 433,
      "id": "654e6c78",
      "metadata": {
        "id": "654e6c78"
      },
      "outputs": [],
      "source": [
        "cat_data = cat_data.drop(axis=1, columns=['ProsperRating (Alpha)'])"
      ]
    },
    {
      "cell_type": "code",
      "execution_count": 434,
      "id": "e1782999",
      "metadata": {
        "id": "e1782999"
      },
      "outputs": [],
      "source": [
        "# all missing values in the CreditGrade column represents the rating value 0\n",
        "# fill in nan values with letter Z and then use OrdinalEncoder to convert it to numerical values\n",
        "cat_data.CreditGrade = cat_data.CreditGrade.fillna(\"Z\")\n",
        "from sklearn.preprocessing import OrdinalEncoder\n",
        "ratings = ['Z', 'HR', 'E', 'D', 'C', 'B', 'A', 'AA']\n",
        "encoder = OrdinalEncoder(categories = [ratings])\n",
        "cat_data[['CreditGrade']] = encoder.fit_transform(cat_data[['CreditGrade']])\n",
        "cat_data.CreditGrade = cat_data.CreditGrade.astype(int)"
      ]
    },
    {
      "cell_type": "code",
      "execution_count": 435,
      "id": "09d18c50",
      "metadata": {
        "colab": {
          "base_uri": "https://localhost:8080/"
        },
        "id": "09d18c50",
        "outputId": "1da822d7-c93a-4949-fa41-61165ce5c96c"
      },
      "outputs": [
        {
          "output_type": "stream",
          "name": "stdout",
          "text": [
            "ListingKey : 113066\n",
            "CreditGrade : 9\n",
            "LoanStatus : 12\n",
            "BorrowerState : 52\n",
            "Occupation : 68\n",
            "EmploymentStatus : 9\n",
            "IsBorrowerHomeowner : 2\n",
            "CurrentlyInGroup : 2\n",
            "IncomeRange : 8\n",
            "IncomeVerifiable : 2\n",
            "LoanKey : 113066\n",
            "LoanOriginationQuarter : 33\n",
            "MemberKey : 90831\n"
          ]
        }
      ],
      "source": [
        "for column in cat_data.columns:\n",
        "    print(f'{column} : {len(data[column].unique())}')"
      ]
    },
    {
      "cell_type": "code",
      "execution_count": 436,
      "id": "c995eb01",
      "metadata": {
        "id": "c995eb01"
      },
      "outputs": [],
      "source": [
        "cat_data = cat_data.drop(columns=['LoanKey','MemberKey','ListingKey'],axis=1)"
      ]
    },
    {
      "cell_type": "code",
      "execution_count": 437,
      "id": "e3eca076",
      "metadata": {
        "colab": {
          "base_uri": "https://localhost:8080/"
        },
        "id": "e3eca076",
        "outputId": "a19039fb-a24d-4bf2-bcbe-4a130239eda7"
      },
      "outputs": [
        {
          "output_type": "stream",
          "name": "stdout",
          "text": [
            "CreditGrade : 9\n",
            "LoanStatus : 12\n",
            "BorrowerState : 52\n",
            "Occupation : 68\n",
            "EmploymentStatus : 9\n",
            "IsBorrowerHomeowner : 2\n",
            "CurrentlyInGroup : 2\n",
            "IncomeRange : 8\n",
            "IncomeVerifiable : 2\n",
            "LoanOriginationQuarter : 33\n"
          ]
        }
      ],
      "source": [
        "for column in cat_data.columns:\n",
        "    print(f'{column} : {len(data[column].unique())}')"
      ]
    },
    {
      "cell_type": "code",
      "execution_count": 438,
      "id": "647963f3",
      "metadata": {
        "colab": {
          "base_uri": "https://localhost:8080/"
        },
        "id": "647963f3",
        "outputId": "51e8ed8f-8358-44da-86b1-88a4ddb7d3a1"
      },
      "outputs": [
        {
          "output_type": "execute_result",
          "data": {
            "text/plain": [
              "CreditGrade               0\n",
              "LoanStatus                0\n",
              "BorrowerState             0\n",
              "Occupation                0\n",
              "EmploymentStatus          0\n",
              "IsBorrowerHomeowner       0\n",
              "CurrentlyInGroup          0\n",
              "IncomeRange               0\n",
              "IncomeVerifiable          0\n",
              "LoanOriginationQuarter    0\n",
              "dtype: int64"
            ]
          },
          "metadata": {},
          "execution_count": 438
        }
      ],
      "source": [
        "cat_data.isna().sum()"
      ]
    },
    {
      "cell_type": "code",
      "execution_count": 439,
      "id": "51d856b5",
      "metadata": {
        "colab": {
          "base_uri": "https://localhost:8080/"
        },
        "id": "51d856b5",
        "outputId": "f11eee75-29bf-46ec-d8ed-158adb5de0b5"
      },
      "outputs": [
        {
          "output_type": "execute_result",
          "data": {
            "text/plain": [
              "ListingNumber                             0\n",
              "ListingCreationDate                       0\n",
              "Term                                      0\n",
              "ClosedDate                            58848\n",
              "BorrowerAPR                               0\n",
              "BorrowerRate                              0\n",
              "LenderYield                               0\n",
              "EstimatedEffectiveYield               18507\n",
              "EstimatedLoss                         18507\n",
              "EstimatedReturn                       18507\n",
              "ProsperRating (numeric)               18507\n",
              "ProsperScore                          18507\n",
              "ListingCategory (numeric)                 0\n",
              "EmploymentStatusDuration                 19\n",
              "DateCreditPulled                          0\n",
              "CreditScoreRangeLower                     0\n",
              "CreditScoreRangeUpper                     0\n",
              "FirstRecordedCreditLine                   0\n",
              "CurrentCreditLines                        0\n",
              "OpenCreditLines                           0\n",
              "TotalCreditLinespast7years                0\n",
              "OpenRevolvingAccounts                     0\n",
              "OpenRevolvingMonthlyPayment               0\n",
              "InquiriesLast6Months                      0\n",
              "TotalInquiries                            0\n",
              "CurrentDelinquencies                      0\n",
              "AmountDelinquent                          0\n",
              "DelinquenciesLast7Years                   0\n",
              "PublicRecordsLast10Years                  0\n",
              "PublicRecordsLast12Months                 0\n",
              "RevolvingCreditBalance                    0\n",
              "BankcardUtilization                       0\n",
              "AvailableBankcardCredit                   0\n",
              "TotalTrades                               0\n",
              "TradesNeverDelinquent (percentage)        0\n",
              "TradesOpenedLast6Months                   0\n",
              "DebtToIncomeRatio                      7296\n",
              "StatedMonthlyIncome                       0\n",
              "LoanCurrentDaysDelinquent                 0\n",
              "LoanMonthsSinceOrigination                0\n",
              "LoanNumber                                0\n",
              "LoanOriginalAmount                        0\n",
              "LoanOriginationDate                       0\n",
              "MonthlyLoanPayment                        0\n",
              "LP_CustomerPayments                       0\n",
              "LP_CustomerPrincipalPayments              0\n",
              "LP_InterestandFees                        0\n",
              "LP_ServiceFees                            0\n",
              "LP_CollectionFees                         0\n",
              "LP_GrossPrincipalLoss                     0\n",
              "LP_NetPrincipalLoss                       0\n",
              "LP_NonPrincipalRecoverypayments           0\n",
              "PercentFunded                             0\n",
              "Recommendations                           0\n",
              "InvestmentFromFriendsCount                0\n",
              "InvestmentFromFriendsAmount               0\n",
              "Investors                                 0\n",
              "dtype: int64"
            ]
          },
          "metadata": {},
          "execution_count": 439
        }
      ],
      "source": [
        "num_data.isna().sum()"
      ]
    },
    {
      "cell_type": "code",
      "execution_count": 440,
      "id": "e2debf94",
      "metadata": {
        "id": "e2debf94"
      },
      "outputs": [],
      "source": [
        "num_data['DebtToIncomeRatio'].fillna(value=num_data['DebtToIncomeRatio'].median(), inplace=True)"
      ]
    },
    {
      "cell_type": "code",
      "execution_count": 441,
      "id": "ed72f40a",
      "metadata": {
        "colab": {
          "base_uri": "https://localhost:8080/",
          "height": 34
        },
        "id": "ed72f40a",
        "outputId": "dd860d82-8b55-4798-b0b5-672adddb652e"
      },
      "outputs": [
        {
          "output_type": "display_data",
          "data": {
            "text/plain": [
              "<Figure size 3240x720 with 0 Axes>"
            ]
          },
          "metadata": {}
        }
      ],
      "source": [
        "plt.figure(figsize=(45,10))\n",
        "num_data.EmploymentStatusDuration = num_data.EmploymentStatusDuration.fillna(num_data.EmploymentStatusDuration.mode().iloc[0])"
      ]
    },
    {
      "cell_type": "code",
      "execution_count": 442,
      "id": "c7cecf26",
      "metadata": {
        "id": "c7cecf26"
      },
      "outputs": [],
      "source": [
        "num_data.ClosedDate.fillna(value='Not Closed', inplace=True)"
      ]
    },
    {
      "cell_type": "code",
      "execution_count": 443,
      "id": "08aaef46",
      "metadata": {
        "colab": {
          "base_uri": "https://localhost:8080/"
        },
        "id": "08aaef46",
        "outputId": "825f1dbf-0735-4461-b932-77f97ed2abb1"
      },
      "outputs": [
        {
          "output_type": "execute_result",
          "data": {
            "text/plain": [
              "ListingNumber                             0\n",
              "ListingCreationDate                       0\n",
              "Term                                      0\n",
              "ClosedDate                                0\n",
              "BorrowerAPR                               0\n",
              "BorrowerRate                              0\n",
              "LenderYield                               0\n",
              "EstimatedEffectiveYield               18507\n",
              "EstimatedLoss                         18507\n",
              "EstimatedReturn                       18507\n",
              "ProsperRating (numeric)               18507\n",
              "ProsperScore                          18507\n",
              "ListingCategory (numeric)                 0\n",
              "EmploymentStatusDuration                  0\n",
              "DateCreditPulled                          0\n",
              "CreditScoreRangeLower                     0\n",
              "CreditScoreRangeUpper                     0\n",
              "FirstRecordedCreditLine                   0\n",
              "CurrentCreditLines                        0\n",
              "OpenCreditLines                           0\n",
              "TotalCreditLinespast7years                0\n",
              "OpenRevolvingAccounts                     0\n",
              "OpenRevolvingMonthlyPayment               0\n",
              "InquiriesLast6Months                      0\n",
              "TotalInquiries                            0\n",
              "CurrentDelinquencies                      0\n",
              "AmountDelinquent                          0\n",
              "DelinquenciesLast7Years                   0\n",
              "PublicRecordsLast10Years                  0\n",
              "PublicRecordsLast12Months                 0\n",
              "RevolvingCreditBalance                    0\n",
              "BankcardUtilization                       0\n",
              "AvailableBankcardCredit                   0\n",
              "TotalTrades                               0\n",
              "TradesNeverDelinquent (percentage)        0\n",
              "TradesOpenedLast6Months                   0\n",
              "DebtToIncomeRatio                         0\n",
              "StatedMonthlyIncome                       0\n",
              "LoanCurrentDaysDelinquent                 0\n",
              "LoanMonthsSinceOrigination                0\n",
              "LoanNumber                                0\n",
              "LoanOriginalAmount                        0\n",
              "LoanOriginationDate                       0\n",
              "MonthlyLoanPayment                        0\n",
              "LP_CustomerPayments                       0\n",
              "LP_CustomerPrincipalPayments              0\n",
              "LP_InterestandFees                        0\n",
              "LP_ServiceFees                            0\n",
              "LP_CollectionFees                         0\n",
              "LP_GrossPrincipalLoss                     0\n",
              "LP_NetPrincipalLoss                       0\n",
              "LP_NonPrincipalRecoverypayments           0\n",
              "PercentFunded                             0\n",
              "Recommendations                           0\n",
              "InvestmentFromFriendsCount                0\n",
              "InvestmentFromFriendsAmount               0\n",
              "Investors                                 0\n",
              "dtype: int64"
            ]
          },
          "metadata": {},
          "execution_count": 443
        }
      ],
      "source": [
        "num_data.isna().sum()"
      ]
    },
    {
      "cell_type": "markdown",
      "id": "38b93134",
      "metadata": {
        "id": "38b93134"
      },
      "source": [
        "# added new"
      ]
    },
    {
      "cell_type": "code",
      "execution_count": 444,
      "id": "3b84cf70",
      "metadata": {
        "id": "3b84cf70"
      },
      "outputs": [],
      "source": [
        "num_data['EstimatedEffectiveYield'].fillna(value=num_data['EstimatedEffectiveYield'].median(), inplace=True)\n",
        "num_data['EstimatedLoss'].fillna(value=num_data['EstimatedLoss'].median(), inplace=True)\n",
        "num_data['EstimatedReturn'].fillna(value=num_data['EstimatedReturn'].median(), inplace=True)\n",
        "num_data['ProsperRating (numeric)'].fillna(value=num_data['ProsperRating (numeric)'].median(), inplace=True)\n",
        "num_data['ProsperScore'].fillna(value=num_data['ProsperScore'].median(), inplace=True)"
      ]
    },
    {
      "cell_type": "code",
      "execution_count": 445,
      "id": "cf3a75db",
      "metadata": {
        "colab": {
          "base_uri": "https://localhost:8080/"
        },
        "id": "cf3a75db",
        "outputId": "87db0c1b-bced-419d-f95f-3cc900780cf5"
      },
      "outputs": [
        {
          "output_type": "execute_result",
          "data": {
            "text/plain": [
              "ListingNumber                         0\n",
              "ListingCreationDate                   0\n",
              "Term                                  0\n",
              "ClosedDate                            0\n",
              "BorrowerAPR                           0\n",
              "BorrowerRate                          0\n",
              "LenderYield                           0\n",
              "EstimatedEffectiveYield               0\n",
              "EstimatedLoss                         0\n",
              "EstimatedReturn                       0\n",
              "ProsperRating (numeric)               0\n",
              "ProsperScore                          0\n",
              "ListingCategory (numeric)             0\n",
              "EmploymentStatusDuration              0\n",
              "DateCreditPulled                      0\n",
              "CreditScoreRangeLower                 0\n",
              "CreditScoreRangeUpper                 0\n",
              "FirstRecordedCreditLine               0\n",
              "CurrentCreditLines                    0\n",
              "OpenCreditLines                       0\n",
              "TotalCreditLinespast7years            0\n",
              "OpenRevolvingAccounts                 0\n",
              "OpenRevolvingMonthlyPayment           0\n",
              "InquiriesLast6Months                  0\n",
              "TotalInquiries                        0\n",
              "CurrentDelinquencies                  0\n",
              "AmountDelinquent                      0\n",
              "DelinquenciesLast7Years               0\n",
              "PublicRecordsLast10Years              0\n",
              "PublicRecordsLast12Months             0\n",
              "RevolvingCreditBalance                0\n",
              "BankcardUtilization                   0\n",
              "AvailableBankcardCredit               0\n",
              "TotalTrades                           0\n",
              "TradesNeverDelinquent (percentage)    0\n",
              "TradesOpenedLast6Months               0\n",
              "DebtToIncomeRatio                     0\n",
              "StatedMonthlyIncome                   0\n",
              "LoanCurrentDaysDelinquent             0\n",
              "LoanMonthsSinceOrigination            0\n",
              "LoanNumber                            0\n",
              "LoanOriginalAmount                    0\n",
              "LoanOriginationDate                   0\n",
              "MonthlyLoanPayment                    0\n",
              "LP_CustomerPayments                   0\n",
              "LP_CustomerPrincipalPayments          0\n",
              "LP_InterestandFees                    0\n",
              "LP_ServiceFees                        0\n",
              "LP_CollectionFees                     0\n",
              "LP_GrossPrincipalLoss                 0\n",
              "LP_NetPrincipalLoss                   0\n",
              "LP_NonPrincipalRecoverypayments       0\n",
              "PercentFunded                         0\n",
              "Recommendations                       0\n",
              "InvestmentFromFriendsCount            0\n",
              "InvestmentFromFriendsAmount           0\n",
              "Investors                             0\n",
              "dtype: int64"
            ]
          },
          "metadata": {},
          "execution_count": 445
        }
      ],
      "source": [
        "num_data.isna().sum()"
      ]
    },
    {
      "cell_type": "code",
      "execution_count": 446,
      "id": "f6e6da56",
      "metadata": {
        "colab": {
          "base_uri": "https://localhost:8080/",
          "height": 424
        },
        "id": "f6e6da56",
        "outputId": "f4c41d5c-a2da-4f9f-e43c-e73c249e26c8"
      },
      "outputs": [
        {
          "output_type": "execute_result",
          "data": {
            "text/plain": [
              "                 ClosedDate\n",
              "0       2009-08-14 00:00:00\n",
              "1                Not Closed\n",
              "2                Not Closed\n",
              "3                Not Closed\n",
              "4                Not Closed\n",
              "...                     ...\n",
              "103355           Not Closed\n",
              "103356           Not Closed\n",
              "103357           Not Closed\n",
              "103358  2013-08-13 00:00:00\n",
              "103359           Not Closed\n",
              "\n",
              "[103360 rows x 1 columns]"
            ],
            "text/html": [
              "\n",
              "  <div id=\"df-2cb6cab0-ff0f-42cc-b2a9-268d7d8d30a0\">\n",
              "    <div class=\"colab-df-container\">\n",
              "      <div>\n",
              "<style scoped>\n",
              "    .dataframe tbody tr th:only-of-type {\n",
              "        vertical-align: middle;\n",
              "    }\n",
              "\n",
              "    .dataframe tbody tr th {\n",
              "        vertical-align: top;\n",
              "    }\n",
              "\n",
              "    .dataframe thead th {\n",
              "        text-align: right;\n",
              "    }\n",
              "</style>\n",
              "<table border=\"1\" class=\"dataframe\">\n",
              "  <thead>\n",
              "    <tr style=\"text-align: right;\">\n",
              "      <th></th>\n",
              "      <th>ClosedDate</th>\n",
              "    </tr>\n",
              "  </thead>\n",
              "  <tbody>\n",
              "    <tr>\n",
              "      <th>0</th>\n",
              "      <td>2009-08-14 00:00:00</td>\n",
              "    </tr>\n",
              "    <tr>\n",
              "      <th>1</th>\n",
              "      <td>Not Closed</td>\n",
              "    </tr>\n",
              "    <tr>\n",
              "      <th>2</th>\n",
              "      <td>Not Closed</td>\n",
              "    </tr>\n",
              "    <tr>\n",
              "      <th>3</th>\n",
              "      <td>Not Closed</td>\n",
              "    </tr>\n",
              "    <tr>\n",
              "      <th>4</th>\n",
              "      <td>Not Closed</td>\n",
              "    </tr>\n",
              "    <tr>\n",
              "      <th>...</th>\n",
              "      <td>...</td>\n",
              "    </tr>\n",
              "    <tr>\n",
              "      <th>103355</th>\n",
              "      <td>Not Closed</td>\n",
              "    </tr>\n",
              "    <tr>\n",
              "      <th>103356</th>\n",
              "      <td>Not Closed</td>\n",
              "    </tr>\n",
              "    <tr>\n",
              "      <th>103357</th>\n",
              "      <td>Not Closed</td>\n",
              "    </tr>\n",
              "    <tr>\n",
              "      <th>103358</th>\n",
              "      <td>2013-08-13 00:00:00</td>\n",
              "    </tr>\n",
              "    <tr>\n",
              "      <th>103359</th>\n",
              "      <td>Not Closed</td>\n",
              "    </tr>\n",
              "  </tbody>\n",
              "</table>\n",
              "<p>103360 rows × 1 columns</p>\n",
              "</div>\n",
              "      <button class=\"colab-df-convert\" onclick=\"convertToInteractive('df-2cb6cab0-ff0f-42cc-b2a9-268d7d8d30a0')\"\n",
              "              title=\"Convert this dataframe to an interactive table.\"\n",
              "              style=\"display:none;\">\n",
              "        \n",
              "  <svg xmlns=\"http://www.w3.org/2000/svg\" height=\"24px\"viewBox=\"0 0 24 24\"\n",
              "       width=\"24px\">\n",
              "    <path d=\"M0 0h24v24H0V0z\" fill=\"none\"/>\n",
              "    <path d=\"M18.56 5.44l.94 2.06.94-2.06 2.06-.94-2.06-.94-.94-2.06-.94 2.06-2.06.94zm-11 1L8.5 8.5l.94-2.06 2.06-.94-2.06-.94L8.5 2.5l-.94 2.06-2.06.94zm10 10l.94 2.06.94-2.06 2.06-.94-2.06-.94-.94-2.06-.94 2.06-2.06.94z\"/><path d=\"M17.41 7.96l-1.37-1.37c-.4-.4-.92-.59-1.43-.59-.52 0-1.04.2-1.43.59L10.3 9.45l-7.72 7.72c-.78.78-.78 2.05 0 2.83L4 21.41c.39.39.9.59 1.41.59.51 0 1.02-.2 1.41-.59l7.78-7.78 2.81-2.81c.8-.78.8-2.07 0-2.86zM5.41 20L4 18.59l7.72-7.72 1.47 1.35L5.41 20z\"/>\n",
              "  </svg>\n",
              "      </button>\n",
              "      \n",
              "  <style>\n",
              "    .colab-df-container {\n",
              "      display:flex;\n",
              "      flex-wrap:wrap;\n",
              "      gap: 12px;\n",
              "    }\n",
              "\n",
              "    .colab-df-convert {\n",
              "      background-color: #E8F0FE;\n",
              "      border: none;\n",
              "      border-radius: 50%;\n",
              "      cursor: pointer;\n",
              "      display: none;\n",
              "      fill: #1967D2;\n",
              "      height: 32px;\n",
              "      padding: 0 0 0 0;\n",
              "      width: 32px;\n",
              "    }\n",
              "\n",
              "    .colab-df-convert:hover {\n",
              "      background-color: #E2EBFA;\n",
              "      box-shadow: 0px 1px 2px rgba(60, 64, 67, 0.3), 0px 1px 3px 1px rgba(60, 64, 67, 0.15);\n",
              "      fill: #174EA6;\n",
              "    }\n",
              "\n",
              "    [theme=dark] .colab-df-convert {\n",
              "      background-color: #3B4455;\n",
              "      fill: #D2E3FC;\n",
              "    }\n",
              "\n",
              "    [theme=dark] .colab-df-convert:hover {\n",
              "      background-color: #434B5C;\n",
              "      box-shadow: 0px 1px 3px 1px rgba(0, 0, 0, 0.15);\n",
              "      filter: drop-shadow(0px 1px 2px rgba(0, 0, 0, 0.3));\n",
              "      fill: #FFFFFF;\n",
              "    }\n",
              "  </style>\n",
              "\n",
              "      <script>\n",
              "        const buttonEl =\n",
              "          document.querySelector('#df-2cb6cab0-ff0f-42cc-b2a9-268d7d8d30a0 button.colab-df-convert');\n",
              "        buttonEl.style.display =\n",
              "          google.colab.kernel.accessAllowed ? 'block' : 'none';\n",
              "\n",
              "        async function convertToInteractive(key) {\n",
              "          const element = document.querySelector('#df-2cb6cab0-ff0f-42cc-b2a9-268d7d8d30a0');\n",
              "          const dataTable =\n",
              "            await google.colab.kernel.invokeFunction('convertToInteractive',\n",
              "                                                     [key], {});\n",
              "          if (!dataTable) return;\n",
              "\n",
              "          const docLinkHtml = 'Like what you see? Visit the ' +\n",
              "            '<a target=\"_blank\" href=https://colab.research.google.com/notebooks/data_table.ipynb>data table notebook</a>'\n",
              "            + ' to learn more about interactive tables.';\n",
              "          element.innerHTML = '';\n",
              "          dataTable['output_type'] = 'display_data';\n",
              "          await google.colab.output.renderOutput(dataTable, element);\n",
              "          const docLink = document.createElement('div');\n",
              "          docLink.innerHTML = docLinkHtml;\n",
              "          element.appendChild(docLink);\n",
              "        }\n",
              "      </script>\n",
              "    </div>\n",
              "  </div>\n",
              "  "
            ]
          },
          "metadata": {},
          "execution_count": 446
        }
      ],
      "source": [
        "num_data.select_dtypes(include=('object'))"
      ]
    },
    {
      "cell_type": "code",
      "execution_count": 447,
      "id": "12a36a57",
      "metadata": {
        "id": "12a36a57"
      },
      "outputs": [],
      "source": [
        "num_data['ClosedDate'] = num_data['ClosedDate'].fillna(0)\n",
        "num_data['ClosedDate'] = num_data['ClosedDate'].apply(lambda x:1 if x!='Not Closed' else 0)"
      ]
    },
    {
      "cell_type": "code",
      "execution_count": 448,
      "id": "c08305fa",
      "metadata": {
        "colab": {
          "base_uri": "https://localhost:8080/"
        },
        "id": "c08305fa",
        "outputId": "a650e7b4-7e7e-473d-9791-a7dbad57c46d"
      },
      "outputs": [
        {
          "output_type": "execute_result",
          "data": {
            "text/plain": [
              "0         1\n",
              "1         0\n",
              "2         0\n",
              "3         0\n",
              "4         0\n",
              "         ..\n",
              "103355    0\n",
              "103356    0\n",
              "103357    0\n",
              "103358    1\n",
              "103359    0\n",
              "Name: ClosedDate, Length: 103360, dtype: int64"
            ]
          },
          "metadata": {},
          "execution_count": 448
        }
      ],
      "source": [
        "num_data.ClosedDate"
      ]
    },
    {
      "cell_type": "code",
      "execution_count": 449,
      "id": "d49c05b0",
      "metadata": {
        "id": "d49c05b0"
      },
      "outputs": [],
      "source": [
        "modified_data = num_data.join(cat_data)"
      ]
    },
    {
      "cell_type": "code",
      "execution_count": 450,
      "id": "b9d9d872",
      "metadata": {
        "colab": {
          "base_uri": "https://localhost:8080/"
        },
        "id": "b9d9d872",
        "outputId": "87709af4-04fe-448c-b7e3-3bcbd2b91b4d"
      },
      "outputs": [
        {
          "output_type": "execute_result",
          "data": {
            "text/plain": [
              "Index(['IsBorrowerHomeowner', 'CurrentlyInGroup', 'IncomeVerifiable'], dtype='object')"
            ]
          },
          "metadata": {},
          "execution_count": 450
        }
      ],
      "source": [
        "modified_data.select_dtypes(include=('bool')).columns"
      ]
    },
    {
      "cell_type": "code",
      "execution_count": 451,
      "id": "48bac188",
      "metadata": {
        "id": "48bac188"
      },
      "outputs": [],
      "source": [
        "bools = ['IsBorrowerHomeowner', 'CurrentlyInGroup', 'IncomeVerifiable']\n",
        "for i in bools:\n",
        "    modified_data[i] = modified_data[i].apply(lambda x:1 if x else 0)"
      ]
    },
    {
      "cell_type": "code",
      "execution_count": 452,
      "id": "c0a66ea5",
      "metadata": {
        "colab": {
          "base_uri": "https://localhost:8080/"
        },
        "id": "c0a66ea5",
        "outputId": "3c09d450-6d40-4b15-b9fa-bd697ced610c"
      },
      "outputs": [
        {
          "output_type": "stream",
          "name": "stdout",
          "text": [
            "<class 'pandas.core.frame.DataFrame'>\n",
            "RangeIndex: 103360 entries, 0 to 103359\n",
            "Data columns (total 67 columns):\n",
            " #   Column                              Non-Null Count   Dtype         \n",
            "---  ------                              --------------   -----         \n",
            " 0   ListingNumber                       103360 non-null  int64         \n",
            " 1   ListingCreationDate                 103360 non-null  datetime64[ns]\n",
            " 2   Term                                103360 non-null  int64         \n",
            " 3   ClosedDate                          103360 non-null  int64         \n",
            " 4   BorrowerAPR                         103360 non-null  float64       \n",
            " 5   BorrowerRate                        103360 non-null  float64       \n",
            " 6   LenderYield                         103360 non-null  float64       \n",
            " 7   EstimatedEffectiveYield             103360 non-null  float64       \n",
            " 8   EstimatedLoss                       103360 non-null  float64       \n",
            " 9   EstimatedReturn                     103360 non-null  float64       \n",
            " 10  ProsperRating (numeric)             103360 non-null  float64       \n",
            " 11  ProsperScore                        103360 non-null  float64       \n",
            " 12  ListingCategory (numeric)           103360 non-null  int64         \n",
            " 13  EmploymentStatusDuration            103360 non-null  float64       \n",
            " 14  DateCreditPulled                    103360 non-null  datetime64[ns]\n",
            " 15  CreditScoreRangeLower               103360 non-null  float64       \n",
            " 16  CreditScoreRangeUpper               103360 non-null  float64       \n",
            " 17  FirstRecordedCreditLine             103360 non-null  datetime64[ns]\n",
            " 18  CurrentCreditLines                  103360 non-null  float64       \n",
            " 19  OpenCreditLines                     103360 non-null  float64       \n",
            " 20  TotalCreditLinespast7years          103360 non-null  float64       \n",
            " 21  OpenRevolvingAccounts               103360 non-null  int64         \n",
            " 22  OpenRevolvingMonthlyPayment         103360 non-null  float64       \n",
            " 23  InquiriesLast6Months                103360 non-null  float64       \n",
            " 24  TotalInquiries                      103360 non-null  float64       \n",
            " 25  CurrentDelinquencies                103360 non-null  float64       \n",
            " 26  AmountDelinquent                    103360 non-null  float64       \n",
            " 27  DelinquenciesLast7Years             103360 non-null  float64       \n",
            " 28  PublicRecordsLast10Years            103360 non-null  float64       \n",
            " 29  PublicRecordsLast12Months           103360 non-null  float64       \n",
            " 30  RevolvingCreditBalance              103360 non-null  float64       \n",
            " 31  BankcardUtilization                 103360 non-null  float64       \n",
            " 32  AvailableBankcardCredit             103360 non-null  float64       \n",
            " 33  TotalTrades                         103360 non-null  float64       \n",
            " 34  TradesNeverDelinquent (percentage)  103360 non-null  float64       \n",
            " 35  TradesOpenedLast6Months             103360 non-null  float64       \n",
            " 36  DebtToIncomeRatio                   103360 non-null  float64       \n",
            " 37  StatedMonthlyIncome                 103360 non-null  float64       \n",
            " 38  LoanCurrentDaysDelinquent           103360 non-null  int64         \n",
            " 39  LoanMonthsSinceOrigination          103360 non-null  int64         \n",
            " 40  LoanNumber                          103360 non-null  int64         \n",
            " 41  LoanOriginalAmount                  103360 non-null  int64         \n",
            " 42  LoanOriginationDate                 103360 non-null  datetime64[ns]\n",
            " 43  MonthlyLoanPayment                  103360 non-null  float64       \n",
            " 44  LP_CustomerPayments                 103360 non-null  float64       \n",
            " 45  LP_CustomerPrincipalPayments        103360 non-null  float64       \n",
            " 46  LP_InterestandFees                  103360 non-null  float64       \n",
            " 47  LP_ServiceFees                      103360 non-null  float64       \n",
            " 48  LP_CollectionFees                   103360 non-null  float64       \n",
            " 49  LP_GrossPrincipalLoss               103360 non-null  float64       \n",
            " 50  LP_NetPrincipalLoss                 103360 non-null  float64       \n",
            " 51  LP_NonPrincipalRecoverypayments     103360 non-null  float64       \n",
            " 52  PercentFunded                       103360 non-null  float64       \n",
            " 53  Recommendations                     103360 non-null  int64         \n",
            " 54  InvestmentFromFriendsCount          103360 non-null  int64         \n",
            " 55  InvestmentFromFriendsAmount         103360 non-null  float64       \n",
            " 56  Investors                           103360 non-null  int64         \n",
            " 57  CreditGrade                         103360 non-null  int64         \n",
            " 58  LoanStatus                          103360 non-null  object        \n",
            " 59  BorrowerState                       103360 non-null  object        \n",
            " 60  Occupation                          103360 non-null  object        \n",
            " 61  EmploymentStatus                    103360 non-null  object        \n",
            " 62  IsBorrowerHomeowner                 103360 non-null  int64         \n",
            " 63  CurrentlyInGroup                    103360 non-null  int64         \n",
            " 64  IncomeRange                         103360 non-null  object        \n",
            " 65  IncomeVerifiable                    103360 non-null  int64         \n",
            " 66  LoanOriginationQuarter              103360 non-null  object        \n",
            "dtypes: datetime64[ns](4), float64(41), int64(16), object(6)\n",
            "memory usage: 52.8+ MB\n"
          ]
        }
      ],
      "source": [
        "modified_data.info()"
      ]
    },
    {
      "cell_type": "code",
      "execution_count": 453,
      "id": "fdb1eefb",
      "metadata": {
        "id": "fdb1eefb"
      },
      "outputs": [],
      "source": [
        "# modified_data.to_csv('cleaned.csv',index=True)"
      ]
    },
    {
      "cell_type": "code",
      "source": [
        "modified_data = modified_data.drop([\"ListingCreationDate\",\"DateCreditPulled\",\"FirstRecordedCreditLine\",\"LoanOriginationDate\",\"LoanOriginationQuarter\",\"ListingNumber\",\"LoanNumber\"],axis=1)"
      ],
      "metadata": {
        "id": "qBNgkroqbI6X"
      },
      "id": "qBNgkroqbI6X",
      "execution_count": 454,
      "outputs": []
    },
    {
      "cell_type": "code",
      "source": [
        "# Selected those features according to the output of RandomForestClassifier importance function\n",
        "modified_data = modified_data[[\"ClosedDate\",\"LoanCurrentDaysDelinquent\",\"LoanMonthsSinceOrigination\",\"LP_CustomerPrincipalPayments\",\"LP_GrossPrincipalLoss\",\"LP_NetPrincipalLoss\",\"LP_CustomerPayments\",\"EmploymentStatus\",\"LP_ServiceFees\",\"LoanOriginalAmount\",\"Investors\",\"EstimatedReturn\",\"LP_InterestandFees\",\"MonthlyLoanPayment\",\"LP_CollectionFees\",\"EstimatedEffectiveYield\",\"EstimatedLoss\",\"Term\",\"BorrowerAPR\",\"LP_NonPrincipalRecoverypayments\",\"BorrowerRate\",\"ListingCategory (numeric)\",\"LenderYield\",\"CreditScoreRangeUpper\",\"OpenRevolvingMonthlyPayment\",\"ProsperScore\",\"CreditScoreRangeLower\",\"RevolvingCreditBalance\",\"ProsperRating (numeric)\",\"AvailableBankcardCredit\",\"EmploymentStatusDuration\",\"DebtToIncomeRatio\",\"StatedMonthlyIncome\",\"BankcardUtilization\",\"TotalCreditLinespast7years\",\"TotalTrades\",\"LoanStatus\"]]\n",
        "\n",
        "y = modified_data[\"LoanStatus\"]\n",
        "X = modified_data.drop([\"LoanStatus\"],axis=1)\n",
        "label_encoding_cols=[\"EmploymentStatus\"]\n",
        "for i in label_encoding_cols:\n",
        "    X[i]=X[i].astype(\"category\")\n",
        "    X[i]=X[i].cat.codes"
      ],
      "metadata": {
        "id": "b0hZAVr3gucZ"
      },
      "id": "b0hZAVr3gucZ",
      "execution_count": 455,
      "outputs": []
    },
    {
      "cell_type": "code",
      "source": [
        "x_train, x_test,y_train, y_test = train_test_split(X,y,test_size = 0.2,random_state=0)\n",
        "rf = RandomForestClassifier(n_estimators = 300,random_state = 1, max_depth=30,n_jobs=-1)\n",
        "rf.fit(x_train,y_train)\n",
        "rf_pred=rf.predict(x_test)\n",
        "\n",
        "results = list(zip(X, rf.feature_importances_))\n",
        "importance = pd.DataFrame(results, columns = [\"Feature\", \"Importance\"])\n",
        "importance = importance.sort_values(by=\"Importance\", ascending=False)\n",
        "importance"
      ],
      "metadata": {
        "colab": {
          "base_uri": "https://localhost:8080/",
          "height": 1000
        },
        "id": "5bZUEPLQaS0R",
        "outputId": "c10d747c-a917-413e-d914-90e1c626fc31"
      },
      "id": "5bZUEPLQaS0R",
      "execution_count": 456,
      "outputs": [
        {
          "output_type": "execute_result",
          "data": {
            "text/plain": [
              "                            Feature  Importance\n",
              "0                        ClosedDate    0.306856\n",
              "1         LoanCurrentDaysDelinquent    0.134372\n",
              "2        LoanMonthsSinceOrigination    0.116352\n",
              "3      LP_CustomerPrincipalPayments    0.090534\n",
              "4             LP_GrossPrincipalLoss    0.069816\n",
              "5               LP_NetPrincipalLoss    0.063550\n",
              "6               LP_CustomerPayments    0.034277\n",
              "7                  EmploymentStatus    0.023510\n",
              "8                    LP_ServiceFees    0.016366\n",
              "10                        Investors    0.016258\n",
              "9                LoanOriginalAmount    0.014596\n",
              "13               MonthlyLoanPayment    0.013924\n",
              "11                  EstimatedReturn    0.012524\n",
              "12               LP_InterestandFees    0.010346\n",
              "15          EstimatedEffectiveYield    0.007326\n",
              "14                LP_CollectionFees    0.006912\n",
              "16                    EstimatedLoss    0.006688\n",
              "17                             Term    0.005457\n",
              "21        ListingCategory (numeric)    0.003927\n",
              "25                     ProsperScore    0.003765\n",
              "19  LP_NonPrincipalRecoverypayments    0.003445\n",
              "18                      BorrowerAPR    0.003308\n",
              "22                      LenderYield    0.003139\n",
              "27           RevolvingCreditBalance    0.003111\n",
              "24      OpenRevolvingMonthlyPayment    0.002995\n",
              "20                     BorrowerRate    0.002874\n",
              "29          AvailableBankcardCredit    0.002617\n",
              "30         EmploymentStatusDuration    0.002600\n",
              "26            CreditScoreRangeLower    0.002519\n",
              "31                DebtToIncomeRatio    0.002506\n",
              "23            CreditScoreRangeUpper    0.002492\n",
              "32              StatedMonthlyIncome    0.002404\n",
              "35                      TotalTrades    0.002284\n",
              "34       TotalCreditLinespast7years    0.002275\n",
              "33              BankcardUtilization    0.002259\n",
              "28          ProsperRating (numeric)    0.001818"
            ],
            "text/html": [
              "\n",
              "  <div id=\"df-908dfcd3-db39-42b0-b41e-09f64c862d97\">\n",
              "    <div class=\"colab-df-container\">\n",
              "      <div>\n",
              "<style scoped>\n",
              "    .dataframe tbody tr th:only-of-type {\n",
              "        vertical-align: middle;\n",
              "    }\n",
              "\n",
              "    .dataframe tbody tr th {\n",
              "        vertical-align: top;\n",
              "    }\n",
              "\n",
              "    .dataframe thead th {\n",
              "        text-align: right;\n",
              "    }\n",
              "</style>\n",
              "<table border=\"1\" class=\"dataframe\">\n",
              "  <thead>\n",
              "    <tr style=\"text-align: right;\">\n",
              "      <th></th>\n",
              "      <th>Feature</th>\n",
              "      <th>Importance</th>\n",
              "    </tr>\n",
              "  </thead>\n",
              "  <tbody>\n",
              "    <tr>\n",
              "      <th>0</th>\n",
              "      <td>ClosedDate</td>\n",
              "      <td>0.306856</td>\n",
              "    </tr>\n",
              "    <tr>\n",
              "      <th>1</th>\n",
              "      <td>LoanCurrentDaysDelinquent</td>\n",
              "      <td>0.134372</td>\n",
              "    </tr>\n",
              "    <tr>\n",
              "      <th>2</th>\n",
              "      <td>LoanMonthsSinceOrigination</td>\n",
              "      <td>0.116352</td>\n",
              "    </tr>\n",
              "    <tr>\n",
              "      <th>3</th>\n",
              "      <td>LP_CustomerPrincipalPayments</td>\n",
              "      <td>0.090534</td>\n",
              "    </tr>\n",
              "    <tr>\n",
              "      <th>4</th>\n",
              "      <td>LP_GrossPrincipalLoss</td>\n",
              "      <td>0.069816</td>\n",
              "    </tr>\n",
              "    <tr>\n",
              "      <th>5</th>\n",
              "      <td>LP_NetPrincipalLoss</td>\n",
              "      <td>0.063550</td>\n",
              "    </tr>\n",
              "    <tr>\n",
              "      <th>6</th>\n",
              "      <td>LP_CustomerPayments</td>\n",
              "      <td>0.034277</td>\n",
              "    </tr>\n",
              "    <tr>\n",
              "      <th>7</th>\n",
              "      <td>EmploymentStatus</td>\n",
              "      <td>0.023510</td>\n",
              "    </tr>\n",
              "    <tr>\n",
              "      <th>8</th>\n",
              "      <td>LP_ServiceFees</td>\n",
              "      <td>0.016366</td>\n",
              "    </tr>\n",
              "    <tr>\n",
              "      <th>10</th>\n",
              "      <td>Investors</td>\n",
              "      <td>0.016258</td>\n",
              "    </tr>\n",
              "    <tr>\n",
              "      <th>9</th>\n",
              "      <td>LoanOriginalAmount</td>\n",
              "      <td>0.014596</td>\n",
              "    </tr>\n",
              "    <tr>\n",
              "      <th>13</th>\n",
              "      <td>MonthlyLoanPayment</td>\n",
              "      <td>0.013924</td>\n",
              "    </tr>\n",
              "    <tr>\n",
              "      <th>11</th>\n",
              "      <td>EstimatedReturn</td>\n",
              "      <td>0.012524</td>\n",
              "    </tr>\n",
              "    <tr>\n",
              "      <th>12</th>\n",
              "      <td>LP_InterestandFees</td>\n",
              "      <td>0.010346</td>\n",
              "    </tr>\n",
              "    <tr>\n",
              "      <th>15</th>\n",
              "      <td>EstimatedEffectiveYield</td>\n",
              "      <td>0.007326</td>\n",
              "    </tr>\n",
              "    <tr>\n",
              "      <th>14</th>\n",
              "      <td>LP_CollectionFees</td>\n",
              "      <td>0.006912</td>\n",
              "    </tr>\n",
              "    <tr>\n",
              "      <th>16</th>\n",
              "      <td>EstimatedLoss</td>\n",
              "      <td>0.006688</td>\n",
              "    </tr>\n",
              "    <tr>\n",
              "      <th>17</th>\n",
              "      <td>Term</td>\n",
              "      <td>0.005457</td>\n",
              "    </tr>\n",
              "    <tr>\n",
              "      <th>21</th>\n",
              "      <td>ListingCategory (numeric)</td>\n",
              "      <td>0.003927</td>\n",
              "    </tr>\n",
              "    <tr>\n",
              "      <th>25</th>\n",
              "      <td>ProsperScore</td>\n",
              "      <td>0.003765</td>\n",
              "    </tr>\n",
              "    <tr>\n",
              "      <th>19</th>\n",
              "      <td>LP_NonPrincipalRecoverypayments</td>\n",
              "      <td>0.003445</td>\n",
              "    </tr>\n",
              "    <tr>\n",
              "      <th>18</th>\n",
              "      <td>BorrowerAPR</td>\n",
              "      <td>0.003308</td>\n",
              "    </tr>\n",
              "    <tr>\n",
              "      <th>22</th>\n",
              "      <td>LenderYield</td>\n",
              "      <td>0.003139</td>\n",
              "    </tr>\n",
              "    <tr>\n",
              "      <th>27</th>\n",
              "      <td>RevolvingCreditBalance</td>\n",
              "      <td>0.003111</td>\n",
              "    </tr>\n",
              "    <tr>\n",
              "      <th>24</th>\n",
              "      <td>OpenRevolvingMonthlyPayment</td>\n",
              "      <td>0.002995</td>\n",
              "    </tr>\n",
              "    <tr>\n",
              "      <th>20</th>\n",
              "      <td>BorrowerRate</td>\n",
              "      <td>0.002874</td>\n",
              "    </tr>\n",
              "    <tr>\n",
              "      <th>29</th>\n",
              "      <td>AvailableBankcardCredit</td>\n",
              "      <td>0.002617</td>\n",
              "    </tr>\n",
              "    <tr>\n",
              "      <th>30</th>\n",
              "      <td>EmploymentStatusDuration</td>\n",
              "      <td>0.002600</td>\n",
              "    </tr>\n",
              "    <tr>\n",
              "      <th>26</th>\n",
              "      <td>CreditScoreRangeLower</td>\n",
              "      <td>0.002519</td>\n",
              "    </tr>\n",
              "    <tr>\n",
              "      <th>31</th>\n",
              "      <td>DebtToIncomeRatio</td>\n",
              "      <td>0.002506</td>\n",
              "    </tr>\n",
              "    <tr>\n",
              "      <th>23</th>\n",
              "      <td>CreditScoreRangeUpper</td>\n",
              "      <td>0.002492</td>\n",
              "    </tr>\n",
              "    <tr>\n",
              "      <th>32</th>\n",
              "      <td>StatedMonthlyIncome</td>\n",
              "      <td>0.002404</td>\n",
              "    </tr>\n",
              "    <tr>\n",
              "      <th>35</th>\n",
              "      <td>TotalTrades</td>\n",
              "      <td>0.002284</td>\n",
              "    </tr>\n",
              "    <tr>\n",
              "      <th>34</th>\n",
              "      <td>TotalCreditLinespast7years</td>\n",
              "      <td>0.002275</td>\n",
              "    </tr>\n",
              "    <tr>\n",
              "      <th>33</th>\n",
              "      <td>BankcardUtilization</td>\n",
              "      <td>0.002259</td>\n",
              "    </tr>\n",
              "    <tr>\n",
              "      <th>28</th>\n",
              "      <td>ProsperRating (numeric)</td>\n",
              "      <td>0.001818</td>\n",
              "    </tr>\n",
              "  </tbody>\n",
              "</table>\n",
              "</div>\n",
              "      <button class=\"colab-df-convert\" onclick=\"convertToInteractive('df-908dfcd3-db39-42b0-b41e-09f64c862d97')\"\n",
              "              title=\"Convert this dataframe to an interactive table.\"\n",
              "              style=\"display:none;\">\n",
              "        \n",
              "  <svg xmlns=\"http://www.w3.org/2000/svg\" height=\"24px\"viewBox=\"0 0 24 24\"\n",
              "       width=\"24px\">\n",
              "    <path d=\"M0 0h24v24H0V0z\" fill=\"none\"/>\n",
              "    <path d=\"M18.56 5.44l.94 2.06.94-2.06 2.06-.94-2.06-.94-.94-2.06-.94 2.06-2.06.94zm-11 1L8.5 8.5l.94-2.06 2.06-.94-2.06-.94L8.5 2.5l-.94 2.06-2.06.94zm10 10l.94 2.06.94-2.06 2.06-.94-2.06-.94-.94-2.06-.94 2.06-2.06.94z\"/><path d=\"M17.41 7.96l-1.37-1.37c-.4-.4-.92-.59-1.43-.59-.52 0-1.04.2-1.43.59L10.3 9.45l-7.72 7.72c-.78.78-.78 2.05 0 2.83L4 21.41c.39.39.9.59 1.41.59.51 0 1.02-.2 1.41-.59l7.78-7.78 2.81-2.81c.8-.78.8-2.07 0-2.86zM5.41 20L4 18.59l7.72-7.72 1.47 1.35L5.41 20z\"/>\n",
              "  </svg>\n",
              "      </button>\n",
              "      \n",
              "  <style>\n",
              "    .colab-df-container {\n",
              "      display:flex;\n",
              "      flex-wrap:wrap;\n",
              "      gap: 12px;\n",
              "    }\n",
              "\n",
              "    .colab-df-convert {\n",
              "      background-color: #E8F0FE;\n",
              "      border: none;\n",
              "      border-radius: 50%;\n",
              "      cursor: pointer;\n",
              "      display: none;\n",
              "      fill: #1967D2;\n",
              "      height: 32px;\n",
              "      padding: 0 0 0 0;\n",
              "      width: 32px;\n",
              "    }\n",
              "\n",
              "    .colab-df-convert:hover {\n",
              "      background-color: #E2EBFA;\n",
              "      box-shadow: 0px 1px 2px rgba(60, 64, 67, 0.3), 0px 1px 3px 1px rgba(60, 64, 67, 0.15);\n",
              "      fill: #174EA6;\n",
              "    }\n",
              "\n",
              "    [theme=dark] .colab-df-convert {\n",
              "      background-color: #3B4455;\n",
              "      fill: #D2E3FC;\n",
              "    }\n",
              "\n",
              "    [theme=dark] .colab-df-convert:hover {\n",
              "      background-color: #434B5C;\n",
              "      box-shadow: 0px 1px 3px 1px rgba(0, 0, 0, 0.15);\n",
              "      filter: drop-shadow(0px 1px 2px rgba(0, 0, 0, 0.3));\n",
              "      fill: #FFFFFF;\n",
              "    }\n",
              "  </style>\n",
              "\n",
              "      <script>\n",
              "        const buttonEl =\n",
              "          document.querySelector('#df-908dfcd3-db39-42b0-b41e-09f64c862d97 button.colab-df-convert');\n",
              "        buttonEl.style.display =\n",
              "          google.colab.kernel.accessAllowed ? 'block' : 'none';\n",
              "\n",
              "        async function convertToInteractive(key) {\n",
              "          const element = document.querySelector('#df-908dfcd3-db39-42b0-b41e-09f64c862d97');\n",
              "          const dataTable =\n",
              "            await google.colab.kernel.invokeFunction('convertToInteractive',\n",
              "                                                     [key], {});\n",
              "          if (!dataTable) return;\n",
              "\n",
              "          const docLinkHtml = 'Like what you see? Visit the ' +\n",
              "            '<a target=\"_blank\" href=https://colab.research.google.com/notebooks/data_table.ipynb>data table notebook</a>'\n",
              "            + ' to learn more about interactive tables.';\n",
              "          element.innerHTML = '';\n",
              "          dataTable['output_type'] = 'display_data';\n",
              "          await google.colab.output.renderOutput(dataTable, element);\n",
              "          const docLink = document.createElement('div');\n",
              "          docLink.innerHTML = docLinkHtml;\n",
              "          element.appendChild(docLink);\n",
              "        }\n",
              "      </script>\n",
              "    </div>\n",
              "  </div>\n",
              "  "
            ]
          },
          "metadata": {},
          "execution_count": 456
        }
      ]
    },
    {
      "cell_type": "code",
      "source": [
        "importance.to_csv(\"importance.csv\",index=False)"
      ],
      "metadata": {
        "id": "A6ro2iuRdSTV"
      },
      "id": "A6ro2iuRdSTV",
      "execution_count": 457,
      "outputs": []
    },
    {
      "cell_type": "code",
      "source": [
        "print(\"---------------------------------------------------------------------\")\n",
        "print(\"Accuracy Score for Random Forest :\",accuracy_score(y_test,rf_pred))\n",
        "print(\"---------------------------------------------------------------------\")\n",
        "print(\"\\n\")\n",
        "print(\"classification stats for Random Forest Classifier :\\n\\n\",classification_report(y_test, rf_pred))\n",
        "print(\"---------------------------------------------------------------------\")"
      ],
      "metadata": {
        "colab": {
          "base_uri": "https://localhost:8080/"
        },
        "id": "T3K7SH8CfOdA",
        "outputId": "f0562696-df91-4273-f37f-7ba688b458c8"
      },
      "id": "T3K7SH8CfOdA",
      "execution_count": 458,
      "outputs": [
        {
          "output_type": "stream",
          "name": "stdout",
          "text": [
            "---------------------------------------------------------------------\n",
            "Accuracy Score for Random Forest : 0.9868421052631579\n",
            "---------------------------------------------------------------------\n",
            "\n",
            "\n"
          ]
        },
        {
          "output_type": "stream",
          "name": "stderr",
          "text": [
            "/usr/local/lib/python3.7/dist-packages/sklearn/metrics/_classification.py:1318: UndefinedMetricWarning: Precision and F-score are ill-defined and being set to 0.0 in labels with no predicted samples. Use `zero_division` parameter to control this behavior.\n",
            "  _warn_prf(average, modifier, msg_start, len(result))\n"
          ]
        },
        {
          "output_type": "stream",
          "name": "stdout",
          "text": [
            "classification stats for Random Forest Classifier :\n",
            "\n",
            "                         precision    recall  f1-score   support\n",
            "\n",
            "            Chargedoff       0.92      0.99      0.95      1993\n",
            "             Completed       1.00      1.00      1.00      6336\n",
            "               Current       1.00      1.00      1.00     11267\n",
            "             Defaulted       0.96      0.70      0.81       594\n",
            "FinalPaymentInProgress       1.00      0.05      0.10        39\n",
            "  Past Due (1-15 days)       0.95      1.00      0.98       167\n",
            " Past Due (16-30 days)       0.96      0.75      0.84        63\n",
            " Past Due (31-60 days)       0.83      0.94      0.88        72\n",
            " Past Due (61-90 days)       0.87      0.86      0.86        70\n",
            "Past Due (91-120 days)       0.91      0.90      0.91        69\n",
            "  Past Due (>120 days)       0.00      0.00      0.00         2\n",
            "\n",
            "              accuracy                           0.99     20672\n",
            "             macro avg       0.85      0.74      0.76     20672\n",
            "          weighted avg       0.99      0.99      0.99     20672\n",
            "\n",
            "---------------------------------------------------------------------\n"
          ]
        },
        {
          "output_type": "stream",
          "name": "stderr",
          "text": [
            "/usr/local/lib/python3.7/dist-packages/sklearn/metrics/_classification.py:1318: UndefinedMetricWarning: Precision and F-score are ill-defined and being set to 0.0 in labels with no predicted samples. Use `zero_division` parameter to control this behavior.\n",
            "  _warn_prf(average, modifier, msg_start, len(result))\n",
            "/usr/local/lib/python3.7/dist-packages/sklearn/metrics/_classification.py:1318: UndefinedMetricWarning: Precision and F-score are ill-defined and being set to 0.0 in labels with no predicted samples. Use `zero_division` parameter to control this behavior.\n",
            "  _warn_prf(average, modifier, msg_start, len(result))\n"
          ]
        }
      ]
    },
    {
      "cell_type": "code",
      "source": [
        "cm=confusion_matrix(y_test,rf_pred)\n",
        "conf_matrix=pd.DataFrame(data=cm,columns=['Predicted:1','Predicted:2','Predicted:3','Predicted:4','Predicted:5','Predicted:6','Predicted:7','Predicted:8','Predicted:9','Predicted:10','Predicted:11'],\n",
        "                                         index=['Actual:1','Actual:2','Actual:3','Actual:4','Actual:5','Actual:6','Actual:7','Actual:8','Actual:9','Actual:10','Actual:11'])                          \n",
        "plt.figure(figsize = (15,15))\n",
        "sns.heatmap(conf_matrix, annot=True,fmt='d',cmap='Blues')\n",
        "plt.title(\"confusion Matrix for  Random Forest\")\n",
        "plt.show()"
      ],
      "metadata": {
        "colab": {
          "base_uri": "https://localhost:8080/",
          "height": 932
        },
        "id": "eK9Ynom0g6OV",
        "outputId": "adb1ca50-d38f-4206-e9f2-cffe510758da"
      },
      "id": "eK9Ynom0g6OV",
      "execution_count": 459,
      "outputs": [
        {
          "output_type": "display_data",
          "data": {
            "text/plain": [
              "<Figure size 1080x1080 with 2 Axes>"
            ],
            "image/png": "[encoded data removed]"
          },
          "metadata": {
            "needs_background": "light"
          }
        }
      ]
    },
    {
      "cell_type": "code",
      "source": [
        "y = modified_data[\"BorrowerRate\"]\n",
        "X = modified_data.drop([\"BorrowerRate\"],axis=1)\n",
        "label_encoding_cols=[\"EmploymentStatus\",\"LoanStatus\"]\n",
        "for i in label_encoding_cols:\n",
        "    X[i]=X[i].astype(\"category\")\n",
        "    X[i]=X[i].cat.codes"
      ],
      "metadata": {
        "id": "g_LATbOOpjhp"
      },
      "id": "g_LATbOOpjhp",
      "execution_count": 460,
      "outputs": []
    },
    {
      "cell_type": "code",
      "source": [
        "x_train, x_test,y_train, y_test = train_test_split(X,y,test_size = 0.2,random_state=0)\n",
        "rf = RandomForestRegressor(n_estimators = 300,random_state = 1, max_depth=30,n_jobs=-1)\n",
        "rf.fit(x_train,y_train)\n",
        "rf_pred=rf.predict(x_test)"
      ],
      "metadata": {
        "id": "HbVct-y8qZMT"
      },
      "id": "HbVct-y8qZMT",
      "execution_count": 461,
      "outputs": []
    },
    {
      "cell_type": "code",
      "source": [
        "RMSE = math.sqrt(mean_squared_error(y_test,rf_pred))\n",
        "print('RMSE:'+str(RMSE))\n",
        "MAE = mean_absolute_error(y_test,rf_pred)\n",
        "print('MAE:'+str(MAE))"
      ],
      "metadata": {
        "colab": {
          "base_uri": "https://localhost:8080/"
        },
        "id": "nstbZ20Ksj-4",
        "outputId": "87b702d1-336d-4ff3-ae55-2bc828f4a240"
      },
      "id": "nstbZ20Ksj-4",
      "execution_count": 462,
      "outputs": [
        {
          "output_type": "stream",
          "name": "stdout",
          "text": [
            "RMSE:0.0008347852165516918\n",
            "MAE:0.00012737656411312463\n"
          ]
        }
      ]
    }
  ],
  "metadata": {
    "kernelspec": {
      "display_name": "Python 3 (ipykernel)",
      "language": "python",
      "name": "python3"
    },
    "language_info": {
      "codemirror_mode": {
        "name": "ipython",
        "version": 3
      },
      "file_extension": ".py",
      "mimetype": "text/x-python",
      "name": "python",
      "nbconvert_exporter": "python",
      "pygments_lexer": "ipython3",
      "version": "3.9.7"
    },
    "colab": {
      "name": "notebook.ipynb",
      "provenance": []
    }
  },
  "nbformat": 4,
  "nbformat_minor": 5
}
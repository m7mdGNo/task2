{
 "cells": [
  {
   "cell_type": "code",
   "execution_count": 1,
   "id": "b694cd47",
   "metadata": {},
   "outputs": [],
   "source": [
    "import numpy as np # linear algebra -for numeric computations\n",
    "import pandas as pd # data processing -to store data as dataframes \n",
    "import matplotlib.pyplot as plt # data visualization \n",
    "%matplotlib inline\n",
    "import seaborn as sns # data visualization "
   ]
  },
  {
   "cell_type": "code",
   "execution_count": 2,
   "id": "d7b33d62",
   "metadata": {},
   "outputs": [
    {
     "data": {
      "text/html": [
       "<div>\n",
       "<style scoped>\n",
       "    .dataframe tbody tr th:only-of-type {\n",
       "        vertical-align: middle;\n",
       "    }\n",
       "\n",
       "    .dataframe tbody tr th {\n",
       "        vertical-align: top;\n",
       "    }\n",
       "\n",
       "    .dataframe thead th {\n",
       "        text-align: right;\n",
       "    }\n",
       "</style>\n",
       "<table border=\"1\" class=\"dataframe\">\n",
       "  <thead>\n",
       "    <tr style=\"text-align: right;\">\n",
       "      <th></th>\n",
       "      <th>ListingKey</th>\n",
       "      <th>ListingNumber</th>\n",
       "      <th>ListingCreationDate</th>\n",
       "      <th>CreditGrade</th>\n",
       "      <th>Term</th>\n",
       "      <th>LoanStatus</th>\n",
       "      <th>ClosedDate</th>\n",
       "      <th>BorrowerAPR</th>\n",
       "      <th>BorrowerRate</th>\n",
       "      <th>LenderYield</th>\n",
       "      <th>...</th>\n",
       "      <th>LP_ServiceFees</th>\n",
       "      <th>LP_CollectionFees</th>\n",
       "      <th>LP_GrossPrincipalLoss</th>\n",
       "      <th>LP_NetPrincipalLoss</th>\n",
       "      <th>LP_NonPrincipalRecoverypayments</th>\n",
       "      <th>PercentFunded</th>\n",
       "      <th>Recommendations</th>\n",
       "      <th>InvestmentFromFriendsCount</th>\n",
       "      <th>InvestmentFromFriendsAmount</th>\n",
       "      <th>Investors</th>\n",
       "    </tr>\n",
       "  </thead>\n",
       "  <tbody>\n",
       "    <tr>\n",
       "      <th>0</th>\n",
       "      <td>1021339766868145413AB3B</td>\n",
       "      <td>193129</td>\n",
       "      <td>2007-08-26 19:09:29.263000000</td>\n",
       "      <td>C</td>\n",
       "      <td>36</td>\n",
       "      <td>Completed</td>\n",
       "      <td>2009-08-14 00:00:00</td>\n",
       "      <td>0.16516</td>\n",
       "      <td>0.1580</td>\n",
       "      <td>0.1380</td>\n",
       "      <td>...</td>\n",
       "      <td>-133.18</td>\n",
       "      <td>0.0</td>\n",
       "      <td>0.0</td>\n",
       "      <td>0.0</td>\n",
       "      <td>0.0</td>\n",
       "      <td>1.0</td>\n",
       "      <td>0</td>\n",
       "      <td>0</td>\n",
       "      <td>0.0</td>\n",
       "      <td>258</td>\n",
       "    </tr>\n",
       "    <tr>\n",
       "      <th>1</th>\n",
       "      <td>10273602499503308B223C1</td>\n",
       "      <td>1209647</td>\n",
       "      <td>2014-02-27 08:28:07.900000000</td>\n",
       "      <td>NaN</td>\n",
       "      <td>36</td>\n",
       "      <td>Current</td>\n",
       "      <td>NaN</td>\n",
       "      <td>0.12016</td>\n",
       "      <td>0.0920</td>\n",
       "      <td>0.0820</td>\n",
       "      <td>...</td>\n",
       "      <td>0.00</td>\n",
       "      <td>0.0</td>\n",
       "      <td>0.0</td>\n",
       "      <td>0.0</td>\n",
       "      <td>0.0</td>\n",
       "      <td>1.0</td>\n",
       "      <td>0</td>\n",
       "      <td>0</td>\n",
       "      <td>0.0</td>\n",
       "      <td>1</td>\n",
       "    </tr>\n",
       "    <tr>\n",
       "      <th>2</th>\n",
       "      <td>0EE9337825851032864889A</td>\n",
       "      <td>81716</td>\n",
       "      <td>2007-01-05 15:00:47.090000000</td>\n",
       "      <td>HR</td>\n",
       "      <td>36</td>\n",
       "      <td>Completed</td>\n",
       "      <td>2009-12-17 00:00:00</td>\n",
       "      <td>0.28269</td>\n",
       "      <td>0.2750</td>\n",
       "      <td>0.2400</td>\n",
       "      <td>...</td>\n",
       "      <td>-24.20</td>\n",
       "      <td>0.0</td>\n",
       "      <td>0.0</td>\n",
       "      <td>0.0</td>\n",
       "      <td>0.0</td>\n",
       "      <td>1.0</td>\n",
       "      <td>0</td>\n",
       "      <td>0</td>\n",
       "      <td>0.0</td>\n",
       "      <td>41</td>\n",
       "    </tr>\n",
       "    <tr>\n",
       "      <th>3</th>\n",
       "      <td>0EF5356002482715299901A</td>\n",
       "      <td>658116</td>\n",
       "      <td>2012-10-22 11:02:35.010000000</td>\n",
       "      <td>NaN</td>\n",
       "      <td>36</td>\n",
       "      <td>Current</td>\n",
       "      <td>NaN</td>\n",
       "      <td>0.12528</td>\n",
       "      <td>0.0974</td>\n",
       "      <td>0.0874</td>\n",
       "      <td>...</td>\n",
       "      <td>-108.01</td>\n",
       "      <td>0.0</td>\n",
       "      <td>0.0</td>\n",
       "      <td>0.0</td>\n",
       "      <td>0.0</td>\n",
       "      <td>1.0</td>\n",
       "      <td>0</td>\n",
       "      <td>0</td>\n",
       "      <td>0.0</td>\n",
       "      <td>158</td>\n",
       "    </tr>\n",
       "    <tr>\n",
       "      <th>4</th>\n",
       "      <td>0F023589499656230C5E3E2</td>\n",
       "      <td>909464</td>\n",
       "      <td>2013-09-14 18:38:39.097000000</td>\n",
       "      <td>NaN</td>\n",
       "      <td>36</td>\n",
       "      <td>Current</td>\n",
       "      <td>NaN</td>\n",
       "      <td>0.24614</td>\n",
       "      <td>0.2085</td>\n",
       "      <td>0.1985</td>\n",
       "      <td>...</td>\n",
       "      <td>-60.27</td>\n",
       "      <td>0.0</td>\n",
       "      <td>0.0</td>\n",
       "      <td>0.0</td>\n",
       "      <td>0.0</td>\n",
       "      <td>1.0</td>\n",
       "      <td>0</td>\n",
       "      <td>0</td>\n",
       "      <td>0.0</td>\n",
       "      <td>20</td>\n",
       "    </tr>\n",
       "    <tr>\n",
       "      <th>5</th>\n",
       "      <td>0F05359734824199381F61D</td>\n",
       "      <td>1074836</td>\n",
       "      <td>2013-12-14 08:26:37.093000000</td>\n",
       "      <td>NaN</td>\n",
       "      <td>60</td>\n",
       "      <td>Current</td>\n",
       "      <td>NaN</td>\n",
       "      <td>0.15425</td>\n",
       "      <td>0.1314</td>\n",
       "      <td>0.1214</td>\n",
       "      <td>...</td>\n",
       "      <td>-25.33</td>\n",
       "      <td>0.0</td>\n",
       "      <td>0.0</td>\n",
       "      <td>0.0</td>\n",
       "      <td>0.0</td>\n",
       "      <td>1.0</td>\n",
       "      <td>0</td>\n",
       "      <td>0</td>\n",
       "      <td>0.0</td>\n",
       "      <td>1</td>\n",
       "    </tr>\n",
       "    <tr>\n",
       "      <th>6</th>\n",
       "      <td>0F0A3576754255009D63151</td>\n",
       "      <td>750899</td>\n",
       "      <td>2013-04-12 09:52:56.147000000</td>\n",
       "      <td>NaN</td>\n",
       "      <td>36</td>\n",
       "      <td>Current</td>\n",
       "      <td>NaN</td>\n",
       "      <td>0.31032</td>\n",
       "      <td>0.2712</td>\n",
       "      <td>0.2612</td>\n",
       "      <td>...</td>\n",
       "      <td>-22.95</td>\n",
       "      <td>0.0</td>\n",
       "      <td>0.0</td>\n",
       "      <td>0.0</td>\n",
       "      <td>0.0</td>\n",
       "      <td>1.0</td>\n",
       "      <td>0</td>\n",
       "      <td>0</td>\n",
       "      <td>0.0</td>\n",
       "      <td>1</td>\n",
       "    </tr>\n",
       "  </tbody>\n",
       "</table>\n",
       "<p>7 rows × 81 columns</p>\n",
       "</div>"
      ],
      "text/plain": [
       "                ListingKey  ListingNumber            ListingCreationDate  \\\n",
       "0  1021339766868145413AB3B         193129  2007-08-26 19:09:29.263000000   \n",
       "1  10273602499503308B223C1        1209647  2014-02-27 08:28:07.900000000   \n",
       "2  0EE9337825851032864889A          81716  2007-01-05 15:00:47.090000000   \n",
       "3  0EF5356002482715299901A         658116  2012-10-22 11:02:35.010000000   \n",
       "4  0F023589499656230C5E3E2         909464  2013-09-14 18:38:39.097000000   \n",
       "5  0F05359734824199381F61D        1074836  2013-12-14 08:26:37.093000000   \n",
       "6  0F0A3576754255009D63151         750899  2013-04-12 09:52:56.147000000   \n",
       "\n",
       "  CreditGrade  Term LoanStatus           ClosedDate  BorrowerAPR  \\\n",
       "0           C    36  Completed  2009-08-14 00:00:00      0.16516   \n",
       "1         NaN    36    Current                  NaN      0.12016   \n",
       "2          HR    36  Completed  2009-12-17 00:00:00      0.28269   \n",
       "3         NaN    36    Current                  NaN      0.12528   \n",
       "4         NaN    36    Current                  NaN      0.24614   \n",
       "5         NaN    60    Current                  NaN      0.15425   \n",
       "6         NaN    36    Current                  NaN      0.31032   \n",
       "\n",
       "   BorrowerRate  LenderYield  ...  LP_ServiceFees  LP_CollectionFees  \\\n",
       "0        0.1580       0.1380  ...         -133.18                0.0   \n",
       "1        0.0920       0.0820  ...            0.00                0.0   \n",
       "2        0.2750       0.2400  ...          -24.20                0.0   \n",
       "3        0.0974       0.0874  ...         -108.01                0.0   \n",
       "4        0.2085       0.1985  ...          -60.27                0.0   \n",
       "5        0.1314       0.1214  ...          -25.33                0.0   \n",
       "6        0.2712       0.2612  ...          -22.95                0.0   \n",
       "\n",
       "   LP_GrossPrincipalLoss  LP_NetPrincipalLoss LP_NonPrincipalRecoverypayments  \\\n",
       "0                    0.0                  0.0                             0.0   \n",
       "1                    0.0                  0.0                             0.0   \n",
       "2                    0.0                  0.0                             0.0   \n",
       "3                    0.0                  0.0                             0.0   \n",
       "4                    0.0                  0.0                             0.0   \n",
       "5                    0.0                  0.0                             0.0   \n",
       "6                    0.0                  0.0                             0.0   \n",
       "\n",
       "   PercentFunded  Recommendations InvestmentFromFriendsCount  \\\n",
       "0            1.0                0                          0   \n",
       "1            1.0                0                          0   \n",
       "2            1.0                0                          0   \n",
       "3            1.0                0                          0   \n",
       "4            1.0                0                          0   \n",
       "5            1.0                0                          0   \n",
       "6            1.0                0                          0   \n",
       "\n",
       "  InvestmentFromFriendsAmount Investors  \n",
       "0                         0.0       258  \n",
       "1                         0.0         1  \n",
       "2                         0.0        41  \n",
       "3                         0.0       158  \n",
       "4                         0.0        20  \n",
       "5                         0.0         1  \n",
       "6                         0.0         1  \n",
       "\n",
       "[7 rows x 81 columns]"
      ]
     },
     "execution_count": 2,
     "metadata": {},
     "output_type": "execute_result"
    }
   ],
   "source": [
    "data = pd.read_csv('prosperLoanData.csv')\n",
    "data.head(7)"
   ]
  },
  {
   "cell_type": "code",
   "execution_count": 3,
   "id": "97c01a30",
   "metadata": {},
   "outputs": [],
   "source": [
    "# parsing Dates\n",
    "data['ListingCreationDate'] = pd.to_datetime(data['ListingCreationDate'])\n",
    "data['ClosedDate'] = pd.to_datetime(data['ClosedDate'])\n",
    "data['DateCreditPulled'] = pd.to_datetime(data['DateCreditPulled'])\n",
    "data['FirstRecordedCreditLine'] = pd.to_datetime(data['FirstRecordedCreditLine'])\n",
    "data['LoanOriginationDate'] = pd.to_datetime(data['LoanOriginationDate'])\n"
   ]
  },
  {
   "cell_type": "code",
   "execution_count": 4,
   "id": "a2903cf0",
   "metadata": {},
   "outputs": [
    {
     "data": {
      "text/plain": [
       "(113937, 71)"
      ]
     },
     "execution_count": 4,
     "metadata": {},
     "output_type": "execute_result"
    }
   ],
   "source": [
    "#  removing any feature with more than 75% of missing values.\n",
    "data_with_less_missing_values = data.dropna(thresh=data.shape[0] * 0.25, axis=1)\n",
    "data_with_less_missing_values.shape"
   ]
  },
  {
   "cell_type": "code",
   "execution_count": 5,
   "id": "8049707d",
   "metadata": {},
   "outputs": [
    {
     "data": {
      "text/plain": [
       "(103360, 71)"
      ]
     },
     "execution_count": 5,
     "metadata": {},
     "output_type": "execute_result"
    }
   ],
   "source": [
    "# removing loan samples with have more than 20% of missing values\n",
    "data_with_less_missing_values = data_with_less_missing_values.dropna(thresh=data.shape[1] * 0.80, axis=0).reset_index(drop=True)\n",
    "data_with_less_missing_values.shape"
   ]
  },
  {
   "cell_type": "code",
   "execution_count": 6,
   "id": "569be9f5",
   "metadata": {},
   "outputs": [],
   "source": [
    "cat_cols = [name for name in data_with_less_missing_values \n",
    "                        if data_with_less_missing_values[name].dtype in [\"object\", \"bool\" ]]\n",
    "numerical_cols = [name for name in data_with_less_missing_values.columns\n",
    "                      if data_with_less_missing_values[name].dtype in ['int64', 'float64', 'datetime64[ns]']]\n",
    "cat_data = data_with_less_missing_values.drop(axis=1, columns=numerical_cols)\n",
    "num_data = data_with_less_missing_values.drop(axis=1, columns=cat_cols)\n"
   ]
  },
  {
   "cell_type": "code",
   "execution_count": 7,
   "id": "ec5de699",
   "metadata": {},
   "outputs": [],
   "source": [
    "cat_data.Occupation = cat_data.Occupation.fillna(cat_data.Occupation.mode().iloc[0])"
   ]
  },
  {
   "cell_type": "code",
   "execution_count": 8,
   "id": "654e6c78",
   "metadata": {},
   "outputs": [],
   "source": [
    "cat_data = cat_data.drop(axis=1, columns=['ProsperRating (Alpha)'])"
   ]
  },
  {
   "cell_type": "code",
   "execution_count": 9,
   "id": "e1782999",
   "metadata": {},
   "outputs": [],
   "source": [
    "\n",
    "# all missing values in the CreditGrade column represents the rating value 0\n",
    "# fill in nan values with letter Z and then use OrdinalEncoder to convert it to numerical values\n",
    "cat_data.CreditGrade = cat_data.CreditGrade.fillna(\"Z\")\n",
    "from sklearn.preprocessing import OrdinalEncoder\n",
    "ratings = ['Z', 'HR', 'E', 'D', 'C', 'B', 'A', 'AA']\n",
    "encoder = OrdinalEncoder(categories = [ratings])\n",
    "cat_data[['CreditGrade']] = encoder.fit_transform(cat_data[['CreditGrade']])\n",
    "cat_data.CreditGrade = cat_data.CreditGrade.astype(int)"
   ]
  },
  {
   "cell_type": "code",
   "execution_count": 10,
   "id": "09d18c50",
   "metadata": {},
   "outputs": [
    {
     "name": "stdout",
     "output_type": "stream",
     "text": [
      "ListingKey : 113066\n",
      "CreditGrade : 9\n",
      "LoanStatus : 12\n",
      "BorrowerState : 52\n",
      "Occupation : 68\n",
      "EmploymentStatus : 9\n",
      "IsBorrowerHomeowner : 2\n",
      "CurrentlyInGroup : 2\n",
      "IncomeRange : 8\n",
      "IncomeVerifiable : 2\n",
      "LoanKey : 113066\n",
      "LoanOriginationQuarter : 33\n",
      "MemberKey : 90831\n"
     ]
    }
   ],
   "source": [
    "for column in cat_data.columns:\n",
    "    print(f'{column} : {len(data[column].unique())}')"
   ]
  },
  {
   "cell_type": "code",
   "execution_count": 11,
   "id": "c995eb01",
   "metadata": {},
   "outputs": [],
   "source": [
    "cat_data = cat_data.drop(columns=['LoanKey','MemberKey','ListingKey'],axis=1)"
   ]
  },
  {
   "cell_type": "code",
   "execution_count": 12,
   "id": "e3eca076",
   "metadata": {},
   "outputs": [
    {
     "name": "stdout",
     "output_type": "stream",
     "text": [
      "CreditGrade : 9\n",
      "LoanStatus : 12\n",
      "BorrowerState : 52\n",
      "Occupation : 68\n",
      "EmploymentStatus : 9\n",
      "IsBorrowerHomeowner : 2\n",
      "CurrentlyInGroup : 2\n",
      "IncomeRange : 8\n",
      "IncomeVerifiable : 2\n",
      "LoanOriginationQuarter : 33\n"
     ]
    }
   ],
   "source": [
    "for column in cat_data.columns:\n",
    "    print(f'{column} : {len(data[column].unique())}')"
   ]
  },
  {
   "cell_type": "code",
   "execution_count": 13,
   "id": "647963f3",
   "metadata": {},
   "outputs": [
    {
     "data": {
      "text/plain": [
       "CreditGrade               0\n",
       "LoanStatus                0\n",
       "BorrowerState             0\n",
       "Occupation                0\n",
       "EmploymentStatus          0\n",
       "IsBorrowerHomeowner       0\n",
       "CurrentlyInGroup          0\n",
       "IncomeRange               0\n",
       "IncomeVerifiable          0\n",
       "LoanOriginationQuarter    0\n",
       "dtype: int64"
      ]
     },
     "execution_count": 13,
     "metadata": {},
     "output_type": "execute_result"
    }
   ],
   "source": [
    "cat_data.isna().sum()"
   ]
  },
  {
   "cell_type": "code",
   "execution_count": 14,
   "id": "51d856b5",
   "metadata": {},
   "outputs": [
    {
     "data": {
      "text/plain": [
       "ListingNumber                             0\n",
       "ListingCreationDate                       0\n",
       "Term                                      0\n",
       "ClosedDate                            58848\n",
       "BorrowerAPR                               0\n",
       "BorrowerRate                              0\n",
       "LenderYield                               0\n",
       "EstimatedEffectiveYield               18507\n",
       "EstimatedLoss                         18507\n",
       "EstimatedReturn                       18507\n",
       "ProsperRating (numeric)               18507\n",
       "ProsperScore                          18507\n",
       "ListingCategory (numeric)                 0\n",
       "EmploymentStatusDuration                 19\n",
       "DateCreditPulled                          0\n",
       "CreditScoreRangeLower                     0\n",
       "CreditScoreRangeUpper                     0\n",
       "FirstRecordedCreditLine                   0\n",
       "CurrentCreditLines                        0\n",
       "OpenCreditLines                           0\n",
       "TotalCreditLinespast7years                0\n",
       "OpenRevolvingAccounts                     0\n",
       "OpenRevolvingMonthlyPayment               0\n",
       "InquiriesLast6Months                      0\n",
       "TotalInquiries                            0\n",
       "CurrentDelinquencies                      0\n",
       "AmountDelinquent                          0\n",
       "DelinquenciesLast7Years                   0\n",
       "PublicRecordsLast10Years                  0\n",
       "PublicRecordsLast12Months                 0\n",
       "RevolvingCreditBalance                    0\n",
       "BankcardUtilization                       0\n",
       "AvailableBankcardCredit                   0\n",
       "TotalTrades                               0\n",
       "TradesNeverDelinquent (percentage)        0\n",
       "TradesOpenedLast6Months                   0\n",
       "DebtToIncomeRatio                      7296\n",
       "StatedMonthlyIncome                       0\n",
       "LoanCurrentDaysDelinquent                 0\n",
       "LoanMonthsSinceOrigination                0\n",
       "LoanNumber                                0\n",
       "LoanOriginalAmount                        0\n",
       "LoanOriginationDate                       0\n",
       "MonthlyLoanPayment                        0\n",
       "LP_CustomerPayments                       0\n",
       "LP_CustomerPrincipalPayments              0\n",
       "LP_InterestandFees                        0\n",
       "LP_ServiceFees                            0\n",
       "LP_CollectionFees                         0\n",
       "LP_GrossPrincipalLoss                     0\n",
       "LP_NetPrincipalLoss                       0\n",
       "LP_NonPrincipalRecoverypayments           0\n",
       "PercentFunded                             0\n",
       "Recommendations                           0\n",
       "InvestmentFromFriendsCount                0\n",
       "InvestmentFromFriendsAmount               0\n",
       "Investors                                 0\n",
       "dtype: int64"
      ]
     },
     "execution_count": 14,
     "metadata": {},
     "output_type": "execute_result"
    }
   ],
   "source": [
    "num_data.isna().sum()"
   ]
  },
  {
   "cell_type": "code",
   "execution_count": 15,
   "id": "e2debf94",
   "metadata": {},
   "outputs": [],
   "source": [
    "num_data['DebtToIncomeRatio'].fillna(value=num_data['DebtToIncomeRatio'].mean(), inplace=True)"
   ]
  },
  {
   "cell_type": "code",
   "execution_count": 16,
   "id": "ed72f40a",
   "metadata": {},
   "outputs": [
    {
     "data": {
      "text/plain": [
       "<Figure size 3240x720 with 0 Axes>"
      ]
     },
     "metadata": {},
     "output_type": "display_data"
    }
   ],
   "source": [
    "plt.figure(figsize=(45,10))\n",
    "num_data.EmploymentStatusDuration = num_data.EmploymentStatusDuration.fillna(num_data.EmploymentStatusDuration.mode().iloc[0])"
   ]
  },
  {
   "cell_type": "code",
   "execution_count": 17,
   "id": "c7cecf26",
   "metadata": {},
   "outputs": [],
   "source": [
    "num_data.ClosedDate.fillna(value='Not Closed', inplace=True)"
   ]
  },
  {
   "cell_type": "code",
   "execution_count": 18,
   "id": "08aaef46",
   "metadata": {},
   "outputs": [
    {
     "data": {
      "text/plain": [
       "ListingNumber                             0\n",
       "ListingCreationDate                       0\n",
       "Term                                      0\n",
       "ClosedDate                                0\n",
       "BorrowerAPR                               0\n",
       "BorrowerRate                              0\n",
       "LenderYield                               0\n",
       "EstimatedEffectiveYield               18507\n",
       "EstimatedLoss                         18507\n",
       "EstimatedReturn                       18507\n",
       "ProsperRating (numeric)               18507\n",
       "ProsperScore                          18507\n",
       "ListingCategory (numeric)                 0\n",
       "EmploymentStatusDuration                  0\n",
       "DateCreditPulled                          0\n",
       "CreditScoreRangeLower                     0\n",
       "CreditScoreRangeUpper                     0\n",
       "FirstRecordedCreditLine                   0\n",
       "CurrentCreditLines                        0\n",
       "OpenCreditLines                           0\n",
       "TotalCreditLinespast7years                0\n",
       "OpenRevolvingAccounts                     0\n",
       "OpenRevolvingMonthlyPayment               0\n",
       "InquiriesLast6Months                      0\n",
       "TotalInquiries                            0\n",
       "CurrentDelinquencies                      0\n",
       "AmountDelinquent                          0\n",
       "DelinquenciesLast7Years                   0\n",
       "PublicRecordsLast10Years                  0\n",
       "PublicRecordsLast12Months                 0\n",
       "RevolvingCreditBalance                    0\n",
       "BankcardUtilization                       0\n",
       "AvailableBankcardCredit                   0\n",
       "TotalTrades                               0\n",
       "TradesNeverDelinquent (percentage)        0\n",
       "TradesOpenedLast6Months                   0\n",
       "DebtToIncomeRatio                         0\n",
       "StatedMonthlyIncome                       0\n",
       "LoanCurrentDaysDelinquent                 0\n",
       "LoanMonthsSinceOrigination                0\n",
       "LoanNumber                                0\n",
       "LoanOriginalAmount                        0\n",
       "LoanOriginationDate                       0\n",
       "MonthlyLoanPayment                        0\n",
       "LP_CustomerPayments                       0\n",
       "LP_CustomerPrincipalPayments              0\n",
       "LP_InterestandFees                        0\n",
       "LP_ServiceFees                            0\n",
       "LP_CollectionFees                         0\n",
       "LP_GrossPrincipalLoss                     0\n",
       "LP_NetPrincipalLoss                       0\n",
       "LP_NonPrincipalRecoverypayments           0\n",
       "PercentFunded                             0\n",
       "Recommendations                           0\n",
       "InvestmentFromFriendsCount                0\n",
       "InvestmentFromFriendsAmount               0\n",
       "Investors                                 0\n",
       "dtype: int64"
      ]
     },
     "execution_count": 18,
     "metadata": {},
     "output_type": "execute_result"
    }
   ],
   "source": [
    "num_data.isna().sum()"
   ]
  },
  {
   "cell_type": "markdown",
   "id": "38b93134",
   "metadata": {},
   "source": [
    "# added new"
   ]
  },
  {
   "cell_type": "code",
   "execution_count": 19,
   "id": "3b84cf70",
   "metadata": {},
   "outputs": [],
   "source": [
    "num_data['EstimatedEffectiveYield'].fillna(value=num_data['EstimatedEffectiveYield'].median(), inplace=True)\n",
    "num_data['EstimatedLoss'].fillna(value=num_data['EstimatedLoss'].median(), inplace=True)\n",
    "num_data['EstimatedReturn'].fillna(value=num_data['EstimatedReturn'].median(), inplace=True)\n",
    "num_data['ProsperRating (numeric)'].fillna(value=num_data['ProsperRating (numeric)'].median(), inplace=True)\n",
    "num_data['ProsperScore'].fillna(value=num_data['ProsperScore'].median(), inplace=True)"
   ]
  },
  {
   "cell_type": "code",
   "execution_count": 20,
   "id": "cf3a75db",
   "metadata": {},
   "outputs": [
    {
     "data": {
      "text/plain": [
       "ListingNumber                         0\n",
       "ListingCreationDate                   0\n",
       "Term                                  0\n",
       "ClosedDate                            0\n",
       "BorrowerAPR                           0\n",
       "BorrowerRate                          0\n",
       "LenderYield                           0\n",
       "EstimatedEffectiveYield               0\n",
       "EstimatedLoss                         0\n",
       "EstimatedReturn                       0\n",
       "ProsperRating (numeric)               0\n",
       "ProsperScore                          0\n",
       "ListingCategory (numeric)             0\n",
       "EmploymentStatusDuration              0\n",
       "DateCreditPulled                      0\n",
       "CreditScoreRangeLower                 0\n",
       "CreditScoreRangeUpper                 0\n",
       "FirstRecordedCreditLine               0\n",
       "CurrentCreditLines                    0\n",
       "OpenCreditLines                       0\n",
       "TotalCreditLinespast7years            0\n",
       "OpenRevolvingAccounts                 0\n",
       "OpenRevolvingMonthlyPayment           0\n",
       "InquiriesLast6Months                  0\n",
       "TotalInquiries                        0\n",
       "CurrentDelinquencies                  0\n",
       "AmountDelinquent                      0\n",
       "DelinquenciesLast7Years               0\n",
       "PublicRecordsLast10Years              0\n",
       "PublicRecordsLast12Months             0\n",
       "RevolvingCreditBalance                0\n",
       "BankcardUtilization                   0\n",
       "AvailableBankcardCredit               0\n",
       "TotalTrades                           0\n",
       "TradesNeverDelinquent (percentage)    0\n",
       "TradesOpenedLast6Months               0\n",
       "DebtToIncomeRatio                     0\n",
       "StatedMonthlyIncome                   0\n",
       "LoanCurrentDaysDelinquent             0\n",
       "LoanMonthsSinceOrigination            0\n",
       "LoanNumber                            0\n",
       "LoanOriginalAmount                    0\n",
       "LoanOriginationDate                   0\n",
       "MonthlyLoanPayment                    0\n",
       "LP_CustomerPayments                   0\n",
       "LP_CustomerPrincipalPayments          0\n",
       "LP_InterestandFees                    0\n",
       "LP_ServiceFees                        0\n",
       "LP_CollectionFees                     0\n",
       "LP_GrossPrincipalLoss                 0\n",
       "LP_NetPrincipalLoss                   0\n",
       "LP_NonPrincipalRecoverypayments       0\n",
       "PercentFunded                         0\n",
       "Recommendations                       0\n",
       "InvestmentFromFriendsCount            0\n",
       "InvestmentFromFriendsAmount           0\n",
       "Investors                             0\n",
       "dtype: int64"
      ]
     },
     "execution_count": 20,
     "metadata": {},
     "output_type": "execute_result"
    }
   ],
   "source": [
    "num_data.isna().sum()"
   ]
  },
  {
   "cell_type": "code",
   "execution_count": 21,
   "id": "f6e6da56",
   "metadata": {},
   "outputs": [
    {
     "data": {
      "text/html": [
       "<div>\n",
       "<style scoped>\n",
       "    .dataframe tbody tr th:only-of-type {\n",
       "        vertical-align: middle;\n",
       "    }\n",
       "\n",
       "    .dataframe tbody tr th {\n",
       "        vertical-align: top;\n",
       "    }\n",
       "\n",
       "    .dataframe thead th {\n",
       "        text-align: right;\n",
       "    }\n",
       "</style>\n",
       "<table border=\"1\" class=\"dataframe\">\n",
       "  <thead>\n",
       "    <tr style=\"text-align: right;\">\n",
       "      <th></th>\n",
       "      <th>ClosedDate</th>\n",
       "    </tr>\n",
       "  </thead>\n",
       "  <tbody>\n",
       "    <tr>\n",
       "      <th>0</th>\n",
       "      <td>2009-08-14 00:00:00</td>\n",
       "    </tr>\n",
       "    <tr>\n",
       "      <th>1</th>\n",
       "      <td>Not Closed</td>\n",
       "    </tr>\n",
       "    <tr>\n",
       "      <th>2</th>\n",
       "      <td>Not Closed</td>\n",
       "    </tr>\n",
       "    <tr>\n",
       "      <th>3</th>\n",
       "      <td>Not Closed</td>\n",
       "    </tr>\n",
       "    <tr>\n",
       "      <th>4</th>\n",
       "      <td>Not Closed</td>\n",
       "    </tr>\n",
       "    <tr>\n",
       "      <th>...</th>\n",
       "      <td>...</td>\n",
       "    </tr>\n",
       "    <tr>\n",
       "      <th>103355</th>\n",
       "      <td>Not Closed</td>\n",
       "    </tr>\n",
       "    <tr>\n",
       "      <th>103356</th>\n",
       "      <td>Not Closed</td>\n",
       "    </tr>\n",
       "    <tr>\n",
       "      <th>103357</th>\n",
       "      <td>Not Closed</td>\n",
       "    </tr>\n",
       "    <tr>\n",
       "      <th>103358</th>\n",
       "      <td>2013-08-13 00:00:00</td>\n",
       "    </tr>\n",
       "    <tr>\n",
       "      <th>103359</th>\n",
       "      <td>Not Closed</td>\n",
       "    </tr>\n",
       "  </tbody>\n",
       "</table>\n",
       "<p>103360 rows × 1 columns</p>\n",
       "</div>"
      ],
      "text/plain": [
       "                 ClosedDate\n",
       "0       2009-08-14 00:00:00\n",
       "1                Not Closed\n",
       "2                Not Closed\n",
       "3                Not Closed\n",
       "4                Not Closed\n",
       "...                     ...\n",
       "103355           Not Closed\n",
       "103356           Not Closed\n",
       "103357           Not Closed\n",
       "103358  2013-08-13 00:00:00\n",
       "103359           Not Closed\n",
       "\n",
       "[103360 rows x 1 columns]"
      ]
     },
     "execution_count": 21,
     "metadata": {},
     "output_type": "execute_result"
    }
   ],
   "source": [
    "num_data.select_dtypes(include=('object'))"
   ]
  },
  {
   "cell_type": "code",
   "execution_count": 22,
   "id": "12a36a57",
   "metadata": {},
   "outputs": [],
   "source": [
    "num_data['ClosedDate'] = num_data['ClosedDate'].fillna(0)\n",
    "num_data['ClosedDate'] = num_data['ClosedDate'].apply(lambda x:1 if x!='Not Closed' else 0)"
   ]
  },
  {
   "cell_type": "code",
   "execution_count": 23,
   "id": "c08305fa",
   "metadata": {},
   "outputs": [
    {
     "data": {
      "text/plain": [
       "0         1\n",
       "1         1\n",
       "2         1\n",
       "3         1\n",
       "4         1\n",
       "         ..\n",
       "103355    1\n",
       "103356    1\n",
       "103357    1\n",
       "103358    1\n",
       "103359    1\n",
       "Name: ClosedDate, Length: 103360, dtype: int64"
      ]
     },
     "execution_count": 23,
     "metadata": {},
     "output_type": "execute_result"
    }
   ],
   "source": [
    "num_data.ClosedDate"
   ]
  },
  {
   "cell_type": "code",
   "execution_count": 24,
   "id": "d49c05b0",
   "metadata": {},
   "outputs": [],
   "source": [
    "modified_data = num_data.join(cat_data)"
   ]
  },
  {
   "cell_type": "code",
   "execution_count": 25,
   "id": "b9d9d872",
   "metadata": {},
   "outputs": [
    {
     "data": {
      "text/plain": [
       "Index(['IsBorrowerHomeowner', 'CurrentlyInGroup', 'IncomeVerifiable'], dtype='object')"
      ]
     },
     "execution_count": 25,
     "metadata": {},
     "output_type": "execute_result"
    }
   ],
   "source": [
    "modified_data.select_dtypes(include=('bool')).columns"
   ]
  },
  {
   "cell_type": "code",
   "execution_count": 26,
   "id": "48bac188",
   "metadata": {},
   "outputs": [],
   "source": [
    "bools = ['IsBorrowerHomeowner', 'CurrentlyInGroup', 'IncomeVerifiable']\n",
    "for i in bools:\n",
    "    modified_data[i] = modified_data[i].apply(lambda x:1 if x else 0)"
   ]
  },
  {
   "cell_type": "code",
   "execution_count": 27,
   "id": "c0a66ea5",
   "metadata": {},
   "outputs": [
    {
     "name": "stdout",
     "output_type": "stream",
     "text": [
      "<class 'pandas.core.frame.DataFrame'>\n",
      "RangeIndex: 103360 entries, 0 to 103359\n",
      "Data columns (total 67 columns):\n",
      " #   Column                              Non-Null Count   Dtype         \n",
      "---  ------                              --------------   -----         \n",
      " 0   ListingNumber                       103360 non-null  int64         \n",
      " 1   ListingCreationDate                 103360 non-null  datetime64[ns]\n",
      " 2   Term                                103360 non-null  int64         \n",
      " 3   ClosedDate                          103360 non-null  int64         \n",
      " 4   BorrowerAPR                         103360 non-null  float64       \n",
      " 5   BorrowerRate                        103360 non-null  float64       \n",
      " 6   LenderYield                         103360 non-null  float64       \n",
      " 7   EstimatedEffectiveYield             103360 non-null  float64       \n",
      " 8   EstimatedLoss                       103360 non-null  float64       \n",
      " 9   EstimatedReturn                     103360 non-null  float64       \n",
      " 10  ProsperRating (numeric)             103360 non-null  float64       \n",
      " 11  ProsperScore                        103360 non-null  float64       \n",
      " 12  ListingCategory (numeric)           103360 non-null  int64         \n",
      " 13  EmploymentStatusDuration            103360 non-null  float64       \n",
      " 14  DateCreditPulled                    103360 non-null  datetime64[ns]\n",
      " 15  CreditScoreRangeLower               103360 non-null  float64       \n",
      " 16  CreditScoreRangeUpper               103360 non-null  float64       \n",
      " 17  FirstRecordedCreditLine             103360 non-null  datetime64[ns]\n",
      " 18  CurrentCreditLines                  103360 non-null  float64       \n",
      " 19  OpenCreditLines                     103360 non-null  float64       \n",
      " 20  TotalCreditLinespast7years          103360 non-null  float64       \n",
      " 21  OpenRevolvingAccounts               103360 non-null  int64         \n",
      " 22  OpenRevolvingMonthlyPayment         103360 non-null  float64       \n",
      " 23  InquiriesLast6Months                103360 non-null  float64       \n",
      " 24  TotalInquiries                      103360 non-null  float64       \n",
      " 25  CurrentDelinquencies                103360 non-null  float64       \n",
      " 26  AmountDelinquent                    103360 non-null  float64       \n",
      " 27  DelinquenciesLast7Years             103360 non-null  float64       \n",
      " 28  PublicRecordsLast10Years            103360 non-null  float64       \n",
      " 29  PublicRecordsLast12Months           103360 non-null  float64       \n",
      " 30  RevolvingCreditBalance              103360 non-null  float64       \n",
      " 31  BankcardUtilization                 103360 non-null  float64       \n",
      " 32  AvailableBankcardCredit             103360 non-null  float64       \n",
      " 33  TotalTrades                         103360 non-null  float64       \n",
      " 34  TradesNeverDelinquent (percentage)  103360 non-null  float64       \n",
      " 35  TradesOpenedLast6Months             103360 non-null  float64       \n",
      " 36  DebtToIncomeRatio                   103360 non-null  float64       \n",
      " 37  StatedMonthlyIncome                 103360 non-null  float64       \n",
      " 38  LoanCurrentDaysDelinquent           103360 non-null  int64         \n",
      " 39  LoanMonthsSinceOrigination          103360 non-null  int64         \n",
      " 40  LoanNumber                          103360 non-null  int64         \n",
      " 41  LoanOriginalAmount                  103360 non-null  int64         \n",
      " 42  LoanOriginationDate                 103360 non-null  datetime64[ns]\n",
      " 43  MonthlyLoanPayment                  103360 non-null  float64       \n",
      " 44  LP_CustomerPayments                 103360 non-null  float64       \n",
      " 45  LP_CustomerPrincipalPayments        103360 non-null  float64       \n",
      " 46  LP_InterestandFees                  103360 non-null  float64       \n",
      " 47  LP_ServiceFees                      103360 non-null  float64       \n",
      " 48  LP_CollectionFees                   103360 non-null  float64       \n",
      " 49  LP_GrossPrincipalLoss               103360 non-null  float64       \n",
      " 50  LP_NetPrincipalLoss                 103360 non-null  float64       \n",
      " 51  LP_NonPrincipalRecoverypayments     103360 non-null  float64       \n",
      " 52  PercentFunded                       103360 non-null  float64       \n",
      " 53  Recommendations                     103360 non-null  int64         \n",
      " 54  InvestmentFromFriendsCount          103360 non-null  int64         \n",
      " 55  InvestmentFromFriendsAmount         103360 non-null  float64       \n",
      " 56  Investors                           103360 non-null  int64         \n",
      " 57  CreditGrade                         103360 non-null  int32         \n",
      " 58  LoanStatus                          103360 non-null  object        \n",
      " 59  BorrowerState                       103360 non-null  object        \n",
      " 60  Occupation                          103360 non-null  object        \n",
      " 61  EmploymentStatus                    103360 non-null  object        \n",
      " 62  IsBorrowerHomeowner                 103360 non-null  int64         \n",
      " 63  CurrentlyInGroup                    103360 non-null  int64         \n",
      " 64  IncomeRange                         103360 non-null  object        \n",
      " 65  IncomeVerifiable                    103360 non-null  int64         \n",
      " 66  LoanOriginationQuarter              103360 non-null  object        \n",
      "dtypes: datetime64[ns](4), float64(41), int32(1), int64(15), object(6)\n",
      "memory usage: 52.4+ MB\n"
     ]
    }
   ],
   "source": [
    "modified_data.info()"
   ]
  },
  {
   "cell_type": "code",
   "execution_count": 28,
   "id": "fdb1eefb",
   "metadata": {},
   "outputs": [],
   "source": [
    "modified_data.to_csv('cleaned.csv',index=True)\n"
   ]
  },
  {
   "cell_type": "code",
   "execution_count": null,
   "id": "65c72151",
   "metadata": {},
   "outputs": [],
   "source": []
  },
  {
   "cell_type": "code",
   "execution_count": null,
   "id": "44e2af9b",
   "metadata": {},
   "outputs": [],
   "source": []
  },
  {
   "cell_type": "code",
   "execution_count": null,
   "id": "0c7b579f",
   "metadata": {},
   "outputs": [],
   "source": []
  }
 ],
 "metadata": {
  "kernelspec": {
   "display_name": "Python 3 (ipykernel)",
   "language": "python",
   "name": "python3"
  },
  "language_info": {
   "codemirror_mode": {
    "name": "ipython",
    "version": 3
   },
   "file_extension": ".py",
   "mimetype": "text/x-python",
   "name": "python",
   "nbconvert_exporter": "python",
   "pygments_lexer": "ipython3",
   "version": "3.9.7"
  }
 },
 "nbformat": 4,
 "nbformat_minor": 5
}

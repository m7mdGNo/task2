{
 "cells": [
  {
   "cell_type": "code",
   "execution_count": 1,
   "id": "26fcfca7",
   "metadata": {},
   "outputs": [],
   "source": [
    "import numpy as np \n",
    "import pandas as pd \n",
    "import matplotlib.pyplot as plt\n",
    "import seaborn as sns\n",
    "%matplotlib inline\n",
    "from sklearn.metrics import accuracy_score ,accuracy_score, classification_report, confusion_matrix, mean_squared_error, mean_absolute_error\n",
    "from sklearn.neighbors import KNeighborsClassifier\n",
    "from sklearn.neighbors import KNeighborsRegressor\n",
    "\n",
    "from sklearn.preprocessing import OrdinalEncoder\n",
    "from sklearn.ensemble import RandomForestClassifier, RandomForestRegressor\n",
    "from sklearn.model_selection import train_test_split, GridSearchCV\n",
    "import sklearn.metrics as metrics\n",
    "import math"
   ]
  },
  {
   "cell_type": "code",
   "execution_count": 2,
   "id": "10266904",
   "metadata": {},
   "outputs": [
    {
     "data": {
      "text/html": [
       "<div>\n",
       "<style scoped>\n",
       "    .dataframe tbody tr th:only-of-type {\n",
       "        vertical-align: middle;\n",
       "    }\n",
       "\n",
       "    .dataframe tbody tr th {\n",
       "        vertical-align: top;\n",
       "    }\n",
       "\n",
       "    .dataframe thead th {\n",
       "        text-align: right;\n",
       "    }\n",
       "</style>\n",
       "<table border=\"1\" class=\"dataframe\">\n",
       "  <thead>\n",
       "    <tr style=\"text-align: right;\">\n",
       "      <th></th>\n",
       "      <th>Unnamed: 0</th>\n",
       "      <th>ListingNumber</th>\n",
       "      <th>ListingCreationDate</th>\n",
       "      <th>Term</th>\n",
       "      <th>ClosedDate</th>\n",
       "      <th>BorrowerAPR</th>\n",
       "      <th>BorrowerRate</th>\n",
       "      <th>LenderYield</th>\n",
       "      <th>EstimatedEffectiveYield</th>\n",
       "      <th>EstimatedLoss</th>\n",
       "      <th>...</th>\n",
       "      <th>CreditGrade</th>\n",
       "      <th>LoanStatus</th>\n",
       "      <th>BorrowerState</th>\n",
       "      <th>Occupation</th>\n",
       "      <th>EmploymentStatus</th>\n",
       "      <th>IsBorrowerHomeowner</th>\n",
       "      <th>CurrentlyInGroup</th>\n",
       "      <th>IncomeRange</th>\n",
       "      <th>IncomeVerifiable</th>\n",
       "      <th>LoanOriginationQuarter</th>\n",
       "    </tr>\n",
       "  </thead>\n",
       "  <tbody>\n",
       "    <tr>\n",
       "      <th>0</th>\n",
       "      <td>0</td>\n",
       "      <td>193129</td>\n",
       "      <td>2007-08-26 19:09:29.263</td>\n",
       "      <td>36</td>\n",
       "      <td>1</td>\n",
       "      <td>0.16516</td>\n",
       "      <td>0.1580</td>\n",
       "      <td>0.1380</td>\n",
       "      <td>0.16150</td>\n",
       "      <td>0.0724</td>\n",
       "      <td>...</td>\n",
       "      <td>0</td>\n",
       "      <td>Completed</td>\n",
       "      <td>CO</td>\n",
       "      <td>Other</td>\n",
       "      <td>0</td>\n",
       "      <td>1</td>\n",
       "      <td>1</td>\n",
       "      <td>$25,000-49,999</td>\n",
       "      <td>1</td>\n",
       "      <td>Q3 2007</td>\n",
       "    </tr>\n",
       "    <tr>\n",
       "      <th>1</th>\n",
       "      <td>1</td>\n",
       "      <td>1209647</td>\n",
       "      <td>2014-02-27 08:28:07.900</td>\n",
       "      <td>36</td>\n",
       "      <td>0</td>\n",
       "      <td>0.12016</td>\n",
       "      <td>0.0920</td>\n",
       "      <td>0.0820</td>\n",
       "      <td>0.07960</td>\n",
       "      <td>0.0249</td>\n",
       "      <td>...</td>\n",
       "      <td>1</td>\n",
       "      <td>Current</td>\n",
       "      <td>CO</td>\n",
       "      <td>Professional</td>\n",
       "      <td>1</td>\n",
       "      <td>0</td>\n",
       "      <td>0</td>\n",
       "      <td>$50,000-74,999</td>\n",
       "      <td>1</td>\n",
       "      <td>Q1 2014</td>\n",
       "    </tr>\n",
       "    <tr>\n",
       "      <th>2</th>\n",
       "      <td>2</td>\n",
       "      <td>658116</td>\n",
       "      <td>2012-10-22 11:02:35.010</td>\n",
       "      <td>36</td>\n",
       "      <td>0</td>\n",
       "      <td>0.12528</td>\n",
       "      <td>0.0974</td>\n",
       "      <td>0.0874</td>\n",
       "      <td>0.08490</td>\n",
       "      <td>0.0249</td>\n",
       "      <td>...</td>\n",
       "      <td>1</td>\n",
       "      <td>Current</td>\n",
       "      <td>GA</td>\n",
       "      <td>Skilled Labor</td>\n",
       "      <td>1</td>\n",
       "      <td>1</td>\n",
       "      <td>0</td>\n",
       "      <td>$25,000-49,999</td>\n",
       "      <td>1</td>\n",
       "      <td>Q4 2012</td>\n",
       "    </tr>\n",
       "    <tr>\n",
       "      <th>3</th>\n",
       "      <td>3</td>\n",
       "      <td>909464</td>\n",
       "      <td>2013-09-14 18:38:39.097</td>\n",
       "      <td>36</td>\n",
       "      <td>0</td>\n",
       "      <td>0.24614</td>\n",
       "      <td>0.2085</td>\n",
       "      <td>0.1985</td>\n",
       "      <td>0.18316</td>\n",
       "      <td>0.0925</td>\n",
       "      <td>...</td>\n",
       "      <td>1</td>\n",
       "      <td>Current</td>\n",
       "      <td>MN</td>\n",
       "      <td>Executive</td>\n",
       "      <td>1</td>\n",
       "      <td>1</td>\n",
       "      <td>0</td>\n",
       "      <td>$100,000+</td>\n",
       "      <td>1</td>\n",
       "      <td>Q3 2013</td>\n",
       "    </tr>\n",
       "    <tr>\n",
       "      <th>4</th>\n",
       "      <td>4</td>\n",
       "      <td>1074836</td>\n",
       "      <td>2013-12-14 08:26:37.093</td>\n",
       "      <td>60</td>\n",
       "      <td>0</td>\n",
       "      <td>0.15425</td>\n",
       "      <td>0.1314</td>\n",
       "      <td>0.1214</td>\n",
       "      <td>0.11567</td>\n",
       "      <td>0.0449</td>\n",
       "      <td>...</td>\n",
       "      <td>1</td>\n",
       "      <td>Current</td>\n",
       "      <td>NM</td>\n",
       "      <td>Professional</td>\n",
       "      <td>1</td>\n",
       "      <td>1</td>\n",
       "      <td>0</td>\n",
       "      <td>$100,000+</td>\n",
       "      <td>1</td>\n",
       "      <td>Q4 2013</td>\n",
       "    </tr>\n",
       "    <tr>\n",
       "      <th>5</th>\n",
       "      <td>5</td>\n",
       "      <td>750899</td>\n",
       "      <td>2013-04-12 09:52:56.147</td>\n",
       "      <td>36</td>\n",
       "      <td>0</td>\n",
       "      <td>0.31032</td>\n",
       "      <td>0.2712</td>\n",
       "      <td>0.2612</td>\n",
       "      <td>0.23820</td>\n",
       "      <td>0.1275</td>\n",
       "      <td>...</td>\n",
       "      <td>1</td>\n",
       "      <td>Current</td>\n",
       "      <td>KS</td>\n",
       "      <td>Sales - Retail</td>\n",
       "      <td>1</td>\n",
       "      <td>0</td>\n",
       "      <td>0</td>\n",
       "      <td>$25,000-49,999</td>\n",
       "      <td>1</td>\n",
       "      <td>Q2 2013</td>\n",
       "    </tr>\n",
       "    <tr>\n",
       "      <th>6</th>\n",
       "      <td>6</td>\n",
       "      <td>768193</td>\n",
       "      <td>2013-05-05 06:49:27.493</td>\n",
       "      <td>36</td>\n",
       "      <td>0</td>\n",
       "      <td>0.23939</td>\n",
       "      <td>0.2019</td>\n",
       "      <td>0.1919</td>\n",
       "      <td>0.17830</td>\n",
       "      <td>0.0799</td>\n",
       "      <td>...</td>\n",
       "      <td>1</td>\n",
       "      <td>Current</td>\n",
       "      <td>CA</td>\n",
       "      <td>Laborer</td>\n",
       "      <td>1</td>\n",
       "      <td>0</td>\n",
       "      <td>0</td>\n",
       "      <td>$25,000-49,999</td>\n",
       "      <td>1</td>\n",
       "      <td>Q2 2013</td>\n",
       "    </tr>\n",
       "  </tbody>\n",
       "</table>\n",
       "<p>7 rows × 68 columns</p>\n",
       "</div>"
      ],
      "text/plain": [
       "   Unnamed: 0  ListingNumber      ListingCreationDate  Term  ClosedDate  \\\n",
       "0           0         193129  2007-08-26 19:09:29.263    36           1   \n",
       "1           1        1209647  2014-02-27 08:28:07.900    36           0   \n",
       "2           2         658116  2012-10-22 11:02:35.010    36           0   \n",
       "3           3         909464  2013-09-14 18:38:39.097    36           0   \n",
       "4           4        1074836  2013-12-14 08:26:37.093    60           0   \n",
       "5           5         750899  2013-04-12 09:52:56.147    36           0   \n",
       "6           6         768193  2013-05-05 06:49:27.493    36           0   \n",
       "\n",
       "   BorrowerAPR  BorrowerRate  LenderYield  EstimatedEffectiveYield  \\\n",
       "0      0.16516        0.1580       0.1380                  0.16150   \n",
       "1      0.12016        0.0920       0.0820                  0.07960   \n",
       "2      0.12528        0.0974       0.0874                  0.08490   \n",
       "3      0.24614        0.2085       0.1985                  0.18316   \n",
       "4      0.15425        0.1314       0.1214                  0.11567   \n",
       "5      0.31032        0.2712       0.2612                  0.23820   \n",
       "6      0.23939        0.2019       0.1919                  0.17830   \n",
       "\n",
       "   EstimatedLoss  ...  CreditGrade  LoanStatus  BorrowerState      Occupation  \\\n",
       "0         0.0724  ...            0   Completed             CO           Other   \n",
       "1         0.0249  ...            1     Current             CO    Professional   \n",
       "2         0.0249  ...            1     Current             GA   Skilled Labor   \n",
       "3         0.0925  ...            1     Current             MN       Executive   \n",
       "4         0.0449  ...            1     Current             NM    Professional   \n",
       "5         0.1275  ...            1     Current             KS  Sales - Retail   \n",
       "6         0.0799  ...            1     Current             CA         Laborer   \n",
       "\n",
       "   EmploymentStatus IsBorrowerHomeowner  CurrentlyInGroup     IncomeRange  \\\n",
       "0                 0                   1                 1  $25,000-49,999   \n",
       "1                 1                   0                 0  $50,000-74,999   \n",
       "2                 1                   1                 0  $25,000-49,999   \n",
       "3                 1                   1                 0       $100,000+   \n",
       "4                 1                   1                 0       $100,000+   \n",
       "5                 1                   0                 0  $25,000-49,999   \n",
       "6                 1                   0                 0  $25,000-49,999   \n",
       "\n",
       "  IncomeVerifiable  LoanOriginationQuarter  \n",
       "0                1                 Q3 2007  \n",
       "1                1                 Q1 2014  \n",
       "2                1                 Q4 2012  \n",
       "3                1                 Q3 2013  \n",
       "4                1                 Q4 2013  \n",
       "5                1                 Q2 2013  \n",
       "6                1                 Q2 2013  \n",
       "\n",
       "[7 rows x 68 columns]"
      ]
     },
     "execution_count": 2,
     "metadata": {},
     "output_type": "execute_result"
    }
   ],
   "source": [
    "modified_data = pd.read_csv('cleaned.csv')\n",
    "modified_data.head(7)"
   ]
  },
  {
   "cell_type": "code",
   "execution_count": 3,
   "id": "569f35ed",
   "metadata": {},
   "outputs": [],
   "source": [
    "modified_data = modified_data.drop([\"ListingCreationDate\",\"DateCreditPulled\",\"FirstRecordedCreditLine\",\"LoanOriginationDate\",\"LoanOriginationQuarter\",\"ListingNumber\",\"LoanNumber\"],axis=1)"
   ]
  },
  {
   "cell_type": "code",
   "execution_count": 4,
   "id": "826b8334",
   "metadata": {
    "scrolled": true
   },
   "outputs": [
    {
     "data": {
      "text/plain": [
       "['ProsperRating (numeric)', 'ProsperScore', 'CreditScoreRangeUpper']"
      ]
     },
     "execution_count": 4,
     "metadata": {},
     "output_type": "execute_result"
    }
   ],
   "source": [
    "modified_data.corr()[['BorrowerRate']].sort_values(\"BorrowerRate\")[0:3].index.tolist()"
   ]
  },
  {
   "cell_type": "code",
   "execution_count": 5,
   "id": "ced6740e",
   "metadata": {
    "scrolled": true
   },
   "outputs": [
    {
     "data": {
      "text/plain": [
       "['EstimatedLoss', 'BorrowerAPR', 'LenderYield']"
      ]
     },
     "execution_count": 5,
     "metadata": {},
     "output_type": "execute_result"
    }
   ],
   "source": [
    "modified_data.corr()[['BorrowerRate']].sort_values(\"BorrowerRate\")[-4:-1].index.tolist()"
   ]
  },
  {
   "cell_type": "code",
   "execution_count": 6,
   "id": "e67c4a91",
   "metadata": {},
   "outputs": [
    {
     "data": {
      "text/plain": [
       "['ProsperRating (numeric)',\n",
       " 'ProsperScore',\n",
       " 'CreditScoreRangeUpper',\n",
       " 'EstimatedLoss',\n",
       " 'BorrowerAPR',\n",
       " 'LenderYield']"
      ]
     },
     "execution_count": 6,
     "metadata": {},
     "output_type": "execute_result"
    }
   ],
   "source": [
    "model_list = modified_data.corr()[['BorrowerRate']].sort_values(\"BorrowerRate\")[0:3].index.tolist() + modified_data.corr()[['BorrowerRate']].sort_values(\"BorrowerRate\")[-4:-1].index.tolist()\n",
    "model_list"
   ]
  },
  {
   "cell_type": "code",
   "execution_count": 7,
   "id": "9b588825",
   "metadata": {},
   "outputs": [],
   "source": [
    "y = modified_data[\"BorrowerRate\"]\n",
    "X = modified_data[model_list] "
   ]
  },
  {
   "cell_type": "code",
   "execution_count": 8,
   "id": "99f68865",
   "metadata": {},
   "outputs": [],
   "source": [
    "x_train, x_test,y_train, y_test = train_test_split(X,y,test_size = 0.2,random_state=0)"
   ]
  },
  {
   "cell_type": "code",
   "execution_count": 9,
   "id": "303de27f",
   "metadata": {},
   "outputs": [],
   "source": [
    "# # neigh_grid = KNeighborsRegressor()\n",
    "# param_grid = {\"n_neighbors\" : np.linspace(1,101,100), \"weights\" : ['distance', 'uniform'] }\n",
    "# knn_cv = GridSearchCV(KNeighborsRegressor(), param_grid)\n",
    "# knn_cv.fit(x_train,y_train)"
   ]
  },
  {
   "cell_type": "code",
   "execution_count": 10,
   "id": "349476b8",
   "metadata": {},
   "outputs": [],
   "source": [
    "neigh = KNeighborsRegressor(n_neighbors=50, weights = 'distance')\n",
    "\n",
    "neigh.fit(x_train,y_train)\n",
    "neigh_pred=neigh.predict(x_test)"
   ]
  },
  {
   "cell_type": "code",
   "execution_count": 11,
   "id": "029bf3e8",
   "metadata": {},
   "outputs": [
    {
     "name": "stdout",
     "output_type": "stream",
     "text": [
      "Acc = 99.30538896920744 %\n"
     ]
    }
   ],
   "source": [
    "print(\"Acc = {} %\".format(100 * neigh.score(x_test, y_test)))"
   ]
  },
  {
   "cell_type": "code",
   "execution_count": 12,
   "id": "41d691f1",
   "metadata": {
    "scrolled": true
   },
   "outputs": [
    {
     "name": "stdout",
     "output_type": "stream",
     "text": [
      "RMSE:0.006251420559337156\n",
      "MAE:0.0011198285232135582\n"
     ]
    }
   ],
   "source": [
    "RMSE = math.sqrt(mean_squared_error(y_test,neigh_pred))\n",
    "print('RMSE:'+str(RMSE))\n",
    "MAE = mean_absolute_error(y_test,neigh_pred)\n",
    "print('MAE:'+str(MAE))"
   ]
  },
  {
   "cell_type": "code",
   "execution_count": 13,
   "id": "59ad13b4",
   "metadata": {},
   "outputs": [],
   "source": [
    "model_list_2 = [\"ClosedDate\",\"LoanCurrentDaysDelinquent\",\"LoanMonthsSinceOrigination\",\"LP_CustomerPrincipalPayments\",\"LP_GrossPrincipalLoss\",\"LP_NetPrincipalLoss\",\"LP_CustomerPayments\",\"EmploymentStatus\",\"LP_ServiceFees\",\"LoanOriginalAmount\",\"Investors\",\"EstimatedReturn\",\"LP_InterestandFees\",\"MonthlyLoanPayment\",\"LP_CollectionFees\",\"EstimatedEffectiveYield\",\"EstimatedLoss\",\"Term\",\"BorrowerAPR\",\"LP_NonPrincipalRecoverypayments\",\"BorrowerRate\",\"ListingCategory (numeric)\",\"LenderYield\",\"CreditScoreRangeUpper\",\"OpenRevolvingMonthlyPayment\",\"ProsperScore\",\"CreditScoreRangeLower\",\"RevolvingCreditBalance\",\"ProsperRating (numeric)\",\"AvailableBankcardCredit\",\"EmploymentStatusDuration\",\"DebtToIncomeRatio\",\"StatedMonthlyIncome\",\"BankcardUtilization\",\"TotalCreditLinespast7years\",\"TotalTrades\",\"LoanStatus\"]"
   ]
  },
  {
   "cell_type": "code",
   "execution_count": 37,
   "id": "fca01eed",
   "metadata": {},
   "outputs": [],
   "source": [
    "loan_encoder = OrdinalEncoder(categories = [modified_data.LoanStatus.unique().tolist()])\n",
    "modified_data[['LoanStatus']] = loan_encoder.fit_transform(modified_data[['LoanStatus']])\n",
    "modified_data.LoanStatus = modified_data.LoanStatus.astype(int)"
   ]
  },
  {
   "cell_type": "code",
   "execution_count": 38,
   "id": "32177834",
   "metadata": {},
   "outputs": [],
   "source": [
    "y_clf = modified_data[\"LoanStatus\"]\n",
    "X_clf = modified_data[model_list_2] "
   ]
  },
  {
   "cell_type": "code",
   "execution_count": 44,
   "id": "69ad3bd9",
   "metadata": {},
   "outputs": [
    {
     "name": "stdout",
     "output_type": "stream",
     "text": [
      "(103360, 37) (103360,)\n"
     ]
    }
   ],
   "source": [
    "print(X_clf.shape, y_clf.shape)"
   ]
  },
  {
   "cell_type": "code",
   "execution_count": 43,
   "id": "d830fffd",
   "metadata": {},
   "outputs": [
    {
     "data": {
      "text/plain": [
       "OrdinalEncoder(categories=[[0, 1, 2, 3, 4, 5, 6, 7, 8, 9, 10, 11]])"
      ]
     },
     "execution_count": 43,
     "metadata": {},
     "output_type": "execute_result"
    }
   ],
   "source": [
    "loan_encoder"
   ]
  },
  {
   "cell_type": "code",
   "execution_count": 45,
   "id": "782e604f",
   "metadata": {},
   "outputs": [],
   "source": [
    "x_train_clf, x_test_clf, y_train_clf, y_test_clf = train_test_split(X_clf, y_clf, test_size = 0.2, random_state=0)"
   ]
  },
  {
   "cell_type": "code",
   "execution_count": 46,
   "id": "369817b8",
   "metadata": {},
   "outputs": [],
   "source": [
    "neigh_clf = KNeighborsClassifier(n_neighbors=50, weights = 'distance')\n",
    "\n",
    "neigh_clf.fit(x_train_clf, y_train_clf)\n",
    "neigh_pred_clf = neigh_clf.predict(x_test_clf)"
   ]
  },
  {
   "cell_type": "code",
   "execution_count": 50,
   "id": "d8028a7a",
   "metadata": {},
   "outputs": [
    {
     "name": "stdout",
     "output_type": "stream",
     "text": [
      "Acc = 87.8531346749226 %\n"
     ]
    }
   ],
   "source": [
    "print(\"Acc = {} %\".format(100 * accuracy_score(y_test_clf, neigh_pred_clf) ) )"
   ]
  }
 ],
 "metadata": {
  "kernelspec": {
   "display_name": "Python 3 (ipykernel)",
   "language": "python",
   "name": "python3"
  },
  "language_info": {
   "codemirror_mode": {
    "name": "ipython",
    "version": 3
   },
   "file_extension": ".py",
   "mimetype": "text/x-python",
   "name": "python",
   "nbconvert_exporter": "python",
   "pygments_lexer": "ipython3",
   "version": "3.9.7"
  }
 },
 "nbformat": 4,
 "nbformat_minor": 5
}
